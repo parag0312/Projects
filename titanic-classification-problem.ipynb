{
 "cells": [
  {
   "cell_type": "markdown",
   "metadata": {},
   "source": [
    "## Predicting Titanic Survival using Machine Learning\n",
    "\n",
    "This Notebook looks into various Python-based Machine learning and Data Science libraries in an attempt to build a Machine learning models which predicts whether the passenger will survive or not based on the data attributes provided from Kaggle.\n",
    "\n",
    "we are going to take the following approach:\n",
    "1. Problem Definition\n",
    "2. Data\n",
    "3. Evaluation\n",
    "4. Features\n",
    "5. Modelling\n",
    "6. Experimentation\n",
    "\n",
    " \n",
    "\n",
    "### 1. Problem Definition:\n",
    "\n",
    "> On the basis of data we are provided from Kaggle (https://www.kaggle.com/c/titanic/data),we have to build a machine learning model which predicts whether the passenger will surivie or not.\n",
    "\n",
    "### 2. Data:\n",
    "\n",
    "Data is provided by the kaggle (https://www.kaggle.com/c/titanic/data).\n",
    "\n",
    "The data has been split into two groups:\n",
    "* training set (train.csv):\n",
    "The training set should be used to build our machine learning models. For the training set,outcome (also known as the “ground  truth”) for each passenger is provided. \n",
    "\n",
    "* test set (test.csv):\n",
    "The test set should be used to see how well our model performs on unseen data. For the test set,ground truth is not provided. It is our job to predict these outcomes. \n",
    "\n",
    "**Note:** There is also a file called gender submission, which is an example of what our submission must look like.\n",
    "\n",
    "\n",
    "### 3.  Evaluation:\n",
    "\n",
    "The Evaluation metric for this competition is accuracy between the actual and the predicted Survival.\n",
    "\n",
    "### 4. Features:\n",
    "\n",
    "Following are the features of our data set:\n",
    "\n",
    "* Survival: 0 = No, 1 = Yes\n",
    "* pclass: Ticket class   --> 1 = 1st, 2 = 2nd, 3 = 3rd\n",
    "* Sex\t\n",
    "* Age in years\t\n",
    "* sibsp    : siblings / spouses aboard the Titanic\t\n",
    "* parch\t   : parents / children aboard the Titanic\t\n",
    "* ticket   : Ticket number\t\n",
    "* fare\t   : Passenger fare\t\n",
    "* cabin\t   : Cabin number\t\n",
    "* embarked : Port of Embarkation  --> C = Cherbourg, Q = Queenstown, S = Southampton\n",
    "\n",
    "\n",
    "#### Importing necessary tools:\n",
    "\n"
   ]
  },
  {
   "cell_type": "code",
   "execution_count": 1108,
   "metadata": {},
   "outputs": [],
   "source": [
    "# Import required packages\n",
    "import numpy as np\n",
    "import pandas as pd\n",
    "import matplotlib.pyplot as plt\n",
    "import seaborn as sns\n",
    "import warnings\n",
    "\n",
    "# Import required models\n",
    "from sklearn.ensemble import RandomForestClassifier\n",
    "from sklearn.neighbors import KNeighborsClassifier\n",
    "from sklearn.linear_model import LinearRegression\n",
    "from catboost import CatBoostClassifier, Pool\n",
    "\n",
    "from sklearn import model_selection,metrics\n",
    "from sklearn.model_selection import train_test_split\n",
    "from sklearn.preprocessing import OneHotEncoder\n",
    "from sklearn.metrics import classification_report, confusion_matrix, accuracy_score\n",
    "from sklearn.model_selection import RandomizedSearchCV, GridSearchCV\n",
    "from sklearn.metrics import classification_report,confusion_matrix\n",
    "from sklearn.metrics import precision_score,recall_score,f1_score\n",
    "from sklearn.metrics import plot_roc_curve\n",
    "\n",
    "%matplotlib inline\n",
    "warnings.filterwarnings('ignore')\n",
    "\n",
    "# Reading files\n",
    "train = pd.read_csv('titanic/train.csv')\n",
    "test = pd.read_csv('titanic/test.csv')\n",
    "gender_submission = pd.read_csv('titanic/gender_submission.csv')"
   ]
  },
  {
   "cell_type": "code",
   "execution_count": 1109,
   "metadata": {},
   "outputs": [
    {
     "data": {
      "text/html": [
       "<div>\n",
       "<style scoped>\n",
       "    .dataframe tbody tr th:only-of-type {\n",
       "        vertical-align: middle;\n",
       "    }\n",
       "\n",
       "    .dataframe tbody tr th {\n",
       "        vertical-align: top;\n",
       "    }\n",
       "\n",
       "    .dataframe thead th {\n",
       "        text-align: right;\n",
       "    }\n",
       "</style>\n",
       "<table border=\"1\" class=\"dataframe\">\n",
       "  <thead>\n",
       "    <tr style=\"text-align: right;\">\n",
       "      <th></th>\n",
       "      <th>PassengerId</th>\n",
       "      <th>Survived</th>\n",
       "      <th>Pclass</th>\n",
       "      <th>Name</th>\n",
       "      <th>Sex</th>\n",
       "      <th>Age</th>\n",
       "      <th>SibSp</th>\n",
       "      <th>Parch</th>\n",
       "      <th>Ticket</th>\n",
       "      <th>Fare</th>\n",
       "      <th>Cabin</th>\n",
       "      <th>Embarked</th>\n",
       "    </tr>\n",
       "  </thead>\n",
       "  <tbody>\n",
       "    <tr>\n",
       "      <th>0</th>\n",
       "      <td>1</td>\n",
       "      <td>0</td>\n",
       "      <td>3</td>\n",
       "      <td>Braund, Mr. Owen Harris</td>\n",
       "      <td>male</td>\n",
       "      <td>22.0</td>\n",
       "      <td>1</td>\n",
       "      <td>0</td>\n",
       "      <td>A/5 21171</td>\n",
       "      <td>7.2500</td>\n",
       "      <td>NaN</td>\n",
       "      <td>S</td>\n",
       "    </tr>\n",
       "    <tr>\n",
       "      <th>1</th>\n",
       "      <td>2</td>\n",
       "      <td>1</td>\n",
       "      <td>1</td>\n",
       "      <td>Cumings, Mrs. John Bradley (Florence Briggs Th...</td>\n",
       "      <td>female</td>\n",
       "      <td>38.0</td>\n",
       "      <td>1</td>\n",
       "      <td>0</td>\n",
       "      <td>PC 17599</td>\n",
       "      <td>71.2833</td>\n",
       "      <td>C85</td>\n",
       "      <td>C</td>\n",
       "    </tr>\n",
       "    <tr>\n",
       "      <th>2</th>\n",
       "      <td>3</td>\n",
       "      <td>1</td>\n",
       "      <td>3</td>\n",
       "      <td>Heikkinen, Miss. Laina</td>\n",
       "      <td>female</td>\n",
       "      <td>26.0</td>\n",
       "      <td>0</td>\n",
       "      <td>0</td>\n",
       "      <td>STON/O2. 3101282</td>\n",
       "      <td>7.9250</td>\n",
       "      <td>NaN</td>\n",
       "      <td>S</td>\n",
       "    </tr>\n",
       "    <tr>\n",
       "      <th>3</th>\n",
       "      <td>4</td>\n",
       "      <td>1</td>\n",
       "      <td>1</td>\n",
       "      <td>Futrelle, Mrs. Jacques Heath (Lily May Peel)</td>\n",
       "      <td>female</td>\n",
       "      <td>35.0</td>\n",
       "      <td>1</td>\n",
       "      <td>0</td>\n",
       "      <td>113803</td>\n",
       "      <td>53.1000</td>\n",
       "      <td>C123</td>\n",
       "      <td>S</td>\n",
       "    </tr>\n",
       "    <tr>\n",
       "      <th>4</th>\n",
       "      <td>5</td>\n",
       "      <td>0</td>\n",
       "      <td>3</td>\n",
       "      <td>Allen, Mr. William Henry</td>\n",
       "      <td>male</td>\n",
       "      <td>35.0</td>\n",
       "      <td>0</td>\n",
       "      <td>0</td>\n",
       "      <td>373450</td>\n",
       "      <td>8.0500</td>\n",
       "      <td>NaN</td>\n",
       "      <td>S</td>\n",
       "    </tr>\n",
       "  </tbody>\n",
       "</table>\n",
       "</div>"
      ],
      "text/plain": [
       "   PassengerId  Survived  Pclass  \\\n",
       "0            1         0       3   \n",
       "1            2         1       1   \n",
       "2            3         1       3   \n",
       "3            4         1       1   \n",
       "4            5         0       3   \n",
       "\n",
       "                                                Name     Sex   Age  SibSp  \\\n",
       "0                            Braund, Mr. Owen Harris    male  22.0      1   \n",
       "1  Cumings, Mrs. John Bradley (Florence Briggs Th...  female  38.0      1   \n",
       "2                             Heikkinen, Miss. Laina  female  26.0      0   \n",
       "3       Futrelle, Mrs. Jacques Heath (Lily May Peel)  female  35.0      1   \n",
       "4                           Allen, Mr. William Henry    male  35.0      0   \n",
       "\n",
       "   Parch            Ticket     Fare Cabin Embarked  \n",
       "0      0         A/5 21171   7.2500   NaN        S  \n",
       "1      0          PC 17599  71.2833   C85        C  \n",
       "2      0  STON/O2. 3101282   7.9250   NaN        S  \n",
       "3      0            113803  53.1000  C123        S  \n",
       "4      0            373450   8.0500   NaN        S  "
      ]
     },
     "execution_count": 1109,
     "metadata": {},
     "output_type": "execute_result"
    }
   ],
   "source": [
    "train.head()"
   ]
  },
  {
   "cell_type": "code",
   "execution_count": 1110,
   "metadata": {},
   "outputs": [
    {
     "data": {
      "text/html": [
       "<div>\n",
       "<style scoped>\n",
       "    .dataframe tbody tr th:only-of-type {\n",
       "        vertical-align: middle;\n",
       "    }\n",
       "\n",
       "    .dataframe tbody tr th {\n",
       "        vertical-align: top;\n",
       "    }\n",
       "\n",
       "    .dataframe thead th {\n",
       "        text-align: right;\n",
       "    }\n",
       "</style>\n",
       "<table border=\"1\" class=\"dataframe\">\n",
       "  <thead>\n",
       "    <tr style=\"text-align: right;\">\n",
       "      <th></th>\n",
       "      <th>PassengerId</th>\n",
       "      <th>Pclass</th>\n",
       "      <th>Name</th>\n",
       "      <th>Sex</th>\n",
       "      <th>Age</th>\n",
       "      <th>SibSp</th>\n",
       "      <th>Parch</th>\n",
       "      <th>Ticket</th>\n",
       "      <th>Fare</th>\n",
       "      <th>Cabin</th>\n",
       "      <th>Embarked</th>\n",
       "    </tr>\n",
       "  </thead>\n",
       "  <tbody>\n",
       "    <tr>\n",
       "      <th>0</th>\n",
       "      <td>892</td>\n",
       "      <td>3</td>\n",
       "      <td>Kelly, Mr. James</td>\n",
       "      <td>male</td>\n",
       "      <td>34.5</td>\n",
       "      <td>0</td>\n",
       "      <td>0</td>\n",
       "      <td>330911</td>\n",
       "      <td>7.8292</td>\n",
       "      <td>NaN</td>\n",
       "      <td>Q</td>\n",
       "    </tr>\n",
       "    <tr>\n",
       "      <th>1</th>\n",
       "      <td>893</td>\n",
       "      <td>3</td>\n",
       "      <td>Wilkes, Mrs. James (Ellen Needs)</td>\n",
       "      <td>female</td>\n",
       "      <td>47.0</td>\n",
       "      <td>1</td>\n",
       "      <td>0</td>\n",
       "      <td>363272</td>\n",
       "      <td>7.0000</td>\n",
       "      <td>NaN</td>\n",
       "      <td>S</td>\n",
       "    </tr>\n",
       "    <tr>\n",
       "      <th>2</th>\n",
       "      <td>894</td>\n",
       "      <td>2</td>\n",
       "      <td>Myles, Mr. Thomas Francis</td>\n",
       "      <td>male</td>\n",
       "      <td>62.0</td>\n",
       "      <td>0</td>\n",
       "      <td>0</td>\n",
       "      <td>240276</td>\n",
       "      <td>9.6875</td>\n",
       "      <td>NaN</td>\n",
       "      <td>Q</td>\n",
       "    </tr>\n",
       "    <tr>\n",
       "      <th>3</th>\n",
       "      <td>895</td>\n",
       "      <td>3</td>\n",
       "      <td>Wirz, Mr. Albert</td>\n",
       "      <td>male</td>\n",
       "      <td>27.0</td>\n",
       "      <td>0</td>\n",
       "      <td>0</td>\n",
       "      <td>315154</td>\n",
       "      <td>8.6625</td>\n",
       "      <td>NaN</td>\n",
       "      <td>S</td>\n",
       "    </tr>\n",
       "    <tr>\n",
       "      <th>4</th>\n",
       "      <td>896</td>\n",
       "      <td>3</td>\n",
       "      <td>Hirvonen, Mrs. Alexander (Helga E Lindqvist)</td>\n",
       "      <td>female</td>\n",
       "      <td>22.0</td>\n",
       "      <td>1</td>\n",
       "      <td>1</td>\n",
       "      <td>3101298</td>\n",
       "      <td>12.2875</td>\n",
       "      <td>NaN</td>\n",
       "      <td>S</td>\n",
       "    </tr>\n",
       "  </tbody>\n",
       "</table>\n",
       "</div>"
      ],
      "text/plain": [
       "   PassengerId  Pclass                                          Name     Sex  \\\n",
       "0          892       3                              Kelly, Mr. James    male   \n",
       "1          893       3              Wilkes, Mrs. James (Ellen Needs)  female   \n",
       "2          894       2                     Myles, Mr. Thomas Francis    male   \n",
       "3          895       3                              Wirz, Mr. Albert    male   \n",
       "4          896       3  Hirvonen, Mrs. Alexander (Helga E Lindqvist)  female   \n",
       "\n",
       "    Age  SibSp  Parch   Ticket     Fare Cabin Embarked  \n",
       "0  34.5      0      0   330911   7.8292   NaN        Q  \n",
       "1  47.0      1      0   363272   7.0000   NaN        S  \n",
       "2  62.0      0      0   240276   9.6875   NaN        Q  \n",
       "3  27.0      0      0   315154   8.6625   NaN        S  \n",
       "4  22.0      1      1  3101298  12.2875   NaN        S  "
      ]
     },
     "execution_count": 1110,
     "metadata": {},
     "output_type": "execute_result"
    }
   ],
   "source": [
    "test.head()"
   ]
  },
  {
   "cell_type": "markdown",
   "metadata": {},
   "source": [
    "> So we noticed that the test data doesn't have ground truth as given in kaggle data description."
   ]
  },
  {
   "cell_type": "code",
   "execution_count": 1111,
   "metadata": {},
   "outputs": [
    {
     "data": {
      "text/plain": [
       "(418, 11)"
      ]
     },
     "execution_count": 1111,
     "metadata": {},
     "output_type": "execute_result"
    }
   ],
   "source": [
    "test.shape"
   ]
  },
  {
   "cell_type": "code",
   "execution_count": 1112,
   "metadata": {},
   "outputs": [
    {
     "data": {
      "text/html": [
       "<div>\n",
       "<style scoped>\n",
       "    .dataframe tbody tr th:only-of-type {\n",
       "        vertical-align: middle;\n",
       "    }\n",
       "\n",
       "    .dataframe tbody tr th {\n",
       "        vertical-align: top;\n",
       "    }\n",
       "\n",
       "    .dataframe thead th {\n",
       "        text-align: right;\n",
       "    }\n",
       "</style>\n",
       "<table border=\"1\" class=\"dataframe\">\n",
       "  <thead>\n",
       "    <tr style=\"text-align: right;\">\n",
       "      <th></th>\n",
       "      <th>PassengerId</th>\n",
       "      <th>Survived</th>\n",
       "    </tr>\n",
       "  </thead>\n",
       "  <tbody>\n",
       "    <tr>\n",
       "      <th>0</th>\n",
       "      <td>892</td>\n",
       "      <td>0</td>\n",
       "    </tr>\n",
       "    <tr>\n",
       "      <th>1</th>\n",
       "      <td>893</td>\n",
       "      <td>1</td>\n",
       "    </tr>\n",
       "    <tr>\n",
       "      <th>2</th>\n",
       "      <td>894</td>\n",
       "      <td>0</td>\n",
       "    </tr>\n",
       "    <tr>\n",
       "      <th>3</th>\n",
       "      <td>895</td>\n",
       "      <td>0</td>\n",
       "    </tr>\n",
       "    <tr>\n",
       "      <th>4</th>\n",
       "      <td>896</td>\n",
       "      <td>1</td>\n",
       "    </tr>\n",
       "  </tbody>\n",
       "</table>\n",
       "</div>"
      ],
      "text/plain": [
       "   PassengerId  Survived\n",
       "0          892         0\n",
       "1          893         1\n",
       "2          894         0\n",
       "3          895         0\n",
       "4          896         1"
      ]
     },
     "execution_count": 1112,
     "metadata": {},
     "output_type": "execute_result"
    }
   ],
   "source": [
    "gender_submission.head()           # This is how our response for kaggle should look like"
   ]
  },
  {
   "cell_type": "code",
   "execution_count": 1113,
   "metadata": {},
   "outputs": [
    {
     "data": {
      "text/plain": [
       "((891, 12), (418, 11))"
      ]
     },
     "execution_count": 1113,
     "metadata": {},
     "output_type": "execute_result"
    }
   ],
   "source": [
    "train.shape,test.shape"
   ]
  },
  {
   "cell_type": "markdown",
   "metadata": {},
   "source": [
    "### Exploratory data Analysis\n",
    "\n",
    "**Survival: 0 = No, 1 = Yes**"
   ]
  },
  {
   "cell_type": "code",
   "execution_count": 1114,
   "metadata": {},
   "outputs": [
    {
     "data": {
      "text/html": [
       "<div>\n",
       "<style scoped>\n",
       "    .dataframe tbody tr th:only-of-type {\n",
       "        vertical-align: middle;\n",
       "    }\n",
       "\n",
       "    .dataframe tbody tr th {\n",
       "        vertical-align: top;\n",
       "    }\n",
       "\n",
       "    .dataframe thead th {\n",
       "        text-align: right;\n",
       "    }\n",
       "</style>\n",
       "<table border=\"1\" class=\"dataframe\">\n",
       "  <thead>\n",
       "    <tr style=\"text-align: right;\">\n",
       "      <th></th>\n",
       "      <th>PassengerId</th>\n",
       "      <th>Survived</th>\n",
       "      <th>Pclass</th>\n",
       "      <th>Age</th>\n",
       "      <th>SibSp</th>\n",
       "      <th>Parch</th>\n",
       "      <th>Fare</th>\n",
       "    </tr>\n",
       "  </thead>\n",
       "  <tbody>\n",
       "    <tr>\n",
       "      <th>count</th>\n",
       "      <td>891.000000</td>\n",
       "      <td>891.000000</td>\n",
       "      <td>891.000000</td>\n",
       "      <td>714.000000</td>\n",
       "      <td>891.000000</td>\n",
       "      <td>891.000000</td>\n",
       "      <td>891.000000</td>\n",
       "    </tr>\n",
       "    <tr>\n",
       "      <th>mean</th>\n",
       "      <td>446.000000</td>\n",
       "      <td>0.383838</td>\n",
       "      <td>2.308642</td>\n",
       "      <td>29.699118</td>\n",
       "      <td>0.523008</td>\n",
       "      <td>0.381594</td>\n",
       "      <td>32.204208</td>\n",
       "    </tr>\n",
       "    <tr>\n",
       "      <th>std</th>\n",
       "      <td>257.353842</td>\n",
       "      <td>0.486592</td>\n",
       "      <td>0.836071</td>\n",
       "      <td>14.526497</td>\n",
       "      <td>1.102743</td>\n",
       "      <td>0.806057</td>\n",
       "      <td>49.693429</td>\n",
       "    </tr>\n",
       "    <tr>\n",
       "      <th>min</th>\n",
       "      <td>1.000000</td>\n",
       "      <td>0.000000</td>\n",
       "      <td>1.000000</td>\n",
       "      <td>0.420000</td>\n",
       "      <td>0.000000</td>\n",
       "      <td>0.000000</td>\n",
       "      <td>0.000000</td>\n",
       "    </tr>\n",
       "    <tr>\n",
       "      <th>25%</th>\n",
       "      <td>223.500000</td>\n",
       "      <td>0.000000</td>\n",
       "      <td>2.000000</td>\n",
       "      <td>20.125000</td>\n",
       "      <td>0.000000</td>\n",
       "      <td>0.000000</td>\n",
       "      <td>7.910400</td>\n",
       "    </tr>\n",
       "    <tr>\n",
       "      <th>50%</th>\n",
       "      <td>446.000000</td>\n",
       "      <td>0.000000</td>\n",
       "      <td>3.000000</td>\n",
       "      <td>28.000000</td>\n",
       "      <td>0.000000</td>\n",
       "      <td>0.000000</td>\n",
       "      <td>14.454200</td>\n",
       "    </tr>\n",
       "    <tr>\n",
       "      <th>75%</th>\n",
       "      <td>668.500000</td>\n",
       "      <td>1.000000</td>\n",
       "      <td>3.000000</td>\n",
       "      <td>38.000000</td>\n",
       "      <td>1.000000</td>\n",
       "      <td>0.000000</td>\n",
       "      <td>31.000000</td>\n",
       "    </tr>\n",
       "    <tr>\n",
       "      <th>max</th>\n",
       "      <td>891.000000</td>\n",
       "      <td>1.000000</td>\n",
       "      <td>3.000000</td>\n",
       "      <td>80.000000</td>\n",
       "      <td>8.000000</td>\n",
       "      <td>6.000000</td>\n",
       "      <td>512.329200</td>\n",
       "    </tr>\n",
       "  </tbody>\n",
       "</table>\n",
       "</div>"
      ],
      "text/plain": [
       "       PassengerId    Survived      Pclass         Age       SibSp  \\\n",
       "count   891.000000  891.000000  891.000000  714.000000  891.000000   \n",
       "mean    446.000000    0.383838    2.308642   29.699118    0.523008   \n",
       "std     257.353842    0.486592    0.836071   14.526497    1.102743   \n",
       "min       1.000000    0.000000    1.000000    0.420000    0.000000   \n",
       "25%     223.500000    0.000000    2.000000   20.125000    0.000000   \n",
       "50%     446.000000    0.000000    3.000000   28.000000    0.000000   \n",
       "75%     668.500000    1.000000    3.000000   38.000000    1.000000   \n",
       "max     891.000000    1.000000    3.000000   80.000000    8.000000   \n",
       "\n",
       "            Parch        Fare  \n",
       "count  891.000000  891.000000  \n",
       "mean     0.381594   32.204208  \n",
       "std      0.806057   49.693429  \n",
       "min      0.000000    0.000000  \n",
       "25%      0.000000    7.910400  \n",
       "50%      0.000000   14.454200  \n",
       "75%      0.000000   31.000000  \n",
       "max      6.000000  512.329200  "
      ]
     },
     "execution_count": 1114,
     "metadata": {},
     "output_type": "execute_result"
    }
   ],
   "source": [
    "train.describe()"
   ]
  },
  {
   "cell_type": "code",
   "execution_count": 1115,
   "metadata": {},
   "outputs": [
    {
     "data": {
      "text/plain": [
       "PassengerId      int64\n",
       "Survived         int64\n",
       "Pclass           int64\n",
       "Name            object\n",
       "Sex             object\n",
       "Age            float64\n",
       "SibSp            int64\n",
       "Parch            int64\n",
       "Ticket          object\n",
       "Fare           float64\n",
       "Cabin           object\n",
       "Embarked        object\n",
       "dtype: object"
      ]
     },
     "execution_count": 1115,
     "metadata": {},
     "output_type": "execute_result"
    }
   ],
   "source": [
    "train.dtypes"
   ]
  },
  {
   "cell_type": "code",
   "execution_count": 1116,
   "metadata": {},
   "outputs": [
    {
     "data": {
      "text/plain": [
       "male      577\n",
       "female    314\n",
       "Name: Sex, dtype: int64"
      ]
     },
     "execution_count": 1116,
     "metadata": {},
     "output_type": "execute_result"
    }
   ],
   "source": [
    "train.Sex.value_counts()"
   ]
  },
  {
   "cell_type": "code",
   "execution_count": 1117,
   "metadata": {},
   "outputs": [
    {
     "data": {
      "text/html": [
       "<div>\n",
       "<style scoped>\n",
       "    .dataframe tbody tr th:only-of-type {\n",
       "        vertical-align: middle;\n",
       "    }\n",
       "\n",
       "    .dataframe tbody tr th {\n",
       "        vertical-align: top;\n",
       "    }\n",
       "\n",
       "    .dataframe thead th {\n",
       "        text-align: right;\n",
       "    }\n",
       "</style>\n",
       "<table border=\"1\" class=\"dataframe\">\n",
       "  <thead>\n",
       "    <tr style=\"text-align: right;\">\n",
       "      <th>Survived</th>\n",
       "      <th>0</th>\n",
       "      <th>1</th>\n",
       "    </tr>\n",
       "    <tr>\n",
       "      <th>Sex</th>\n",
       "      <th></th>\n",
       "      <th></th>\n",
       "    </tr>\n",
       "  </thead>\n",
       "  <tbody>\n",
       "    <tr>\n",
       "      <th>female</th>\n",
       "      <td>81</td>\n",
       "      <td>233</td>\n",
       "    </tr>\n",
       "    <tr>\n",
       "      <th>male</th>\n",
       "      <td>468</td>\n",
       "      <td>109</td>\n",
       "    </tr>\n",
       "  </tbody>\n",
       "</table>\n",
       "</div>"
      ],
      "text/plain": [
       "Survived    0    1\n",
       "Sex               \n",
       "female     81  233\n",
       "male      468  109"
      ]
     },
     "execution_count": 1117,
     "metadata": {},
     "output_type": "execute_result"
    }
   ],
   "source": [
    "pd.crosstab(train.Sex,train.Survived)"
   ]
  },
  {
   "cell_type": "code",
   "execution_count": 1118,
   "metadata": {},
   "outputs": [
    {
     "data": {
      "text/plain": [
       "0.18890814558058924"
      ]
     },
     "execution_count": 1118,
     "metadata": {},
     "output_type": "execute_result"
    }
   ],
   "source": [
    "109/(468+109)"
   ]
  },
  {
   "cell_type": "code",
   "execution_count": 1119,
   "metadata": {},
   "outputs": [
    {
     "data": {
      "image/png": "[encoded data removed]",
      "text/plain": [
       "<Figure size 432x288 with 1 Axes>"
      ]
     },
     "metadata": {
      "needs_background": "light"
     },
     "output_type": "display_data"
    }
   ],
   "source": [
    "pd.crosstab(train.Sex,train.Survived).plot(kind='bar');\n",
    "plt.xticks(rotation=0);"
   ]
  },
  {
   "cell_type": "markdown",
   "metadata": {},
   "source": [
    "It can be clearly seen that chances of Male survival are very less compared to Female.\n",
    "**Almost 75% of the females survied the titanic compared to 19% of male survival rate**"
   ]
  },
  {
   "cell_type": "code",
   "execution_count": 1120,
   "metadata": {},
   "outputs": [
    {
     "data": {
      "text/plain": [
       "PassengerId      0\n",
       "Survived         0\n",
       "Pclass           0\n",
       "Name             0\n",
       "Sex              0\n",
       "Age            177\n",
       "SibSp            0\n",
       "Parch            0\n",
       "Ticket           0\n",
       "Fare             0\n",
       "Cabin          687\n",
       "Embarked         2\n",
       "dtype: int64"
      ]
     },
     "execution_count": 1120,
     "metadata": {},
     "output_type": "execute_result"
    }
   ],
   "source": [
    "# missing values \n",
    "train.isna().sum()"
   ]
  },
  {
   "cell_type": "markdown",
   "metadata": {},
   "source": [
    "So, **Age** and **Cabin** have most missing values.\n",
    "**Embarked** have two missing values\n",
    "\n",
    "Let's first explore **Age** and **Cabin** data."
   ]
  },
  {
   "cell_type": "code",
   "execution_count": 1121,
   "metadata": {},
   "outputs": [
    {
     "data": {
      "text/plain": [
       "24.00    30\n",
       "22.00    27\n",
       "18.00    26\n",
       "19.00    25\n",
       "30.00    25\n",
       "         ..\n",
       "55.50     1\n",
       "70.50     1\n",
       "66.00     1\n",
       "23.50     1\n",
       "0.42      1\n",
       "Name: Age, Length: 88, dtype: int64"
      ]
     },
     "execution_count": 1121,
     "metadata": {},
     "output_type": "execute_result"
    }
   ],
   "source": [
    "train.Age.value_counts()"
   ]
  },
  {
   "cell_type": "code",
   "execution_count": 1122,
   "metadata": {},
   "outputs": [
    {
     "data": {
      "text/plain": [
       "(0.42, 80.0)"
      ]
     },
     "execution_count": 1122,
     "metadata": {},
     "output_type": "execute_result"
    }
   ],
   "source": [
    "train.Age.min(),train.Age.max()"
   ]
  },
  {
   "cell_type": "code",
   "execution_count": 1123,
   "metadata": {},
   "outputs": [
    {
     "data": {
      "text/html": [
       "<div>\n",
       "<style scoped>\n",
       "    .dataframe tbody tr th:only-of-type {\n",
       "        vertical-align: middle;\n",
       "    }\n",
       "\n",
       "    .dataframe tbody tr th {\n",
       "        vertical-align: top;\n",
       "    }\n",
       "\n",
       "    .dataframe thead th {\n",
       "        text-align: right;\n",
       "    }\n",
       "</style>\n",
       "<table border=\"1\" class=\"dataframe\">\n",
       "  <thead>\n",
       "    <tr style=\"text-align: right;\">\n",
       "      <th>Survived</th>\n",
       "      <th>0</th>\n",
       "      <th>1</th>\n",
       "    </tr>\n",
       "    <tr>\n",
       "      <th>Age</th>\n",
       "      <th></th>\n",
       "      <th></th>\n",
       "    </tr>\n",
       "  </thead>\n",
       "  <tbody>\n",
       "    <tr>\n",
       "      <th>0.42</th>\n",
       "      <td>0</td>\n",
       "      <td>1</td>\n",
       "    </tr>\n",
       "    <tr>\n",
       "      <th>0.67</th>\n",
       "      <td>0</td>\n",
       "      <td>1</td>\n",
       "    </tr>\n",
       "    <tr>\n",
       "      <th>0.75</th>\n",
       "      <td>0</td>\n",
       "      <td>2</td>\n",
       "    </tr>\n",
       "    <tr>\n",
       "      <th>0.83</th>\n",
       "      <td>0</td>\n",
       "      <td>2</td>\n",
       "    </tr>\n",
       "    <tr>\n",
       "      <th>0.92</th>\n",
       "      <td>0</td>\n",
       "      <td>1</td>\n",
       "    </tr>\n",
       "    <tr>\n",
       "      <th>...</th>\n",
       "      <td>...</td>\n",
       "      <td>...</td>\n",
       "    </tr>\n",
       "    <tr>\n",
       "      <th>70.00</th>\n",
       "      <td>2</td>\n",
       "      <td>0</td>\n",
       "    </tr>\n",
       "    <tr>\n",
       "      <th>70.50</th>\n",
       "      <td>1</td>\n",
       "      <td>0</td>\n",
       "    </tr>\n",
       "    <tr>\n",
       "      <th>71.00</th>\n",
       "      <td>2</td>\n",
       "      <td>0</td>\n",
       "    </tr>\n",
       "    <tr>\n",
       "      <th>74.00</th>\n",
       "      <td>1</td>\n",
       "      <td>0</td>\n",
       "    </tr>\n",
       "    <tr>\n",
       "      <th>80.00</th>\n",
       "      <td>0</td>\n",
       "      <td>1</td>\n",
       "    </tr>\n",
       "  </tbody>\n",
       "</table>\n",
       "<p>88 rows × 2 columns</p>\n",
       "</div>"
      ],
      "text/plain": [
       "Survived  0  1\n",
       "Age           \n",
       "0.42      0  1\n",
       "0.67      0  1\n",
       "0.75      0  2\n",
       "0.83      0  2\n",
       "0.92      0  1\n",
       "...      .. ..\n",
       "70.00     2  0\n",
       "70.50     1  0\n",
       "71.00     2  0\n",
       "74.00     1  0\n",
       "80.00     0  1\n",
       "\n",
       "[88 rows x 2 columns]"
      ]
     },
     "execution_count": 1123,
     "metadata": {},
     "output_type": "execute_result"
    }
   ],
   "source": [
    "pd.crosstab(train.Survived,train.Age).T"
   ]
  },
  {
   "cell_type": "code",
   "execution_count": 1124,
   "metadata": {},
   "outputs": [
    {
     "data": {
      "text/plain": [
       "(29.69911764705882, 28.0)"
      ]
     },
     "execution_count": 1124,
     "metadata": {},
     "output_type": "execute_result"
    }
   ],
   "source": [
    "train['Age'].mean() , train['Age'].median()"
   ]
  },
  {
   "cell_type": "code",
   "execution_count": 1125,
   "metadata": {},
   "outputs": [
    {
     "data": {
      "text/plain": [
       "<matplotlib.axes._subplots.AxesSubplot at 0x1fa536e9460>"
      ]
     },
     "execution_count": 1125,
     "metadata": {},
     "output_type": "execute_result"
    },
    {
     "data": {
      "image/png": "[encoded data removed]",
      "text/plain": [
       "<Figure size 432x288 with 1 Axes>"
      ]
     },
     "metadata": {
      "needs_background": "light"
     },
     "output_type": "display_data"
    }
   ],
   "source": [
    "train.Age.plot(kind='hist')"
   ]
  },
  {
   "cell_type": "markdown",
   "metadata": {},
   "source": [
    "As we know median is more robust than mean. we'll use median value of Age to fill our missing age values. "
   ]
  },
  {
   "cell_type": "code",
   "execution_count": 1126,
   "metadata": {},
   "outputs": [
    {
     "data": {
      "text/plain": [
       "dtype('float64')"
      ]
     },
     "execution_count": 1126,
     "metadata": {},
     "output_type": "execute_result"
    }
   ],
   "source": [
    "train.Age.dtypes"
   ]
  },
  {
   "cell_type": "code",
   "execution_count": 1127,
   "metadata": {},
   "outputs": [
    {
     "data": {
      "text/plain": [
       "C23 C25 C27    4\n",
       "G6             4\n",
       "B96 B98        4\n",
       "C22 C26        3\n",
       "F2             3\n",
       "              ..\n",
       "D46            1\n",
       "C110           1\n",
       "B101           1\n",
       "E58            1\n",
       "E49            1\n",
       "Name: Cabin, Length: 147, dtype: int64"
      ]
     },
     "execution_count": 1127,
     "metadata": {},
     "output_type": "execute_result"
    }
   ],
   "source": [
    "# Let's explore Cabin\n",
    "train.Cabin.value_counts()"
   ]
  },
  {
   "cell_type": "code",
   "execution_count": 1128,
   "metadata": {},
   "outputs": [
    {
     "data": {
      "text/plain": [
       "dtype('O')"
      ]
     },
     "execution_count": 1128,
     "metadata": {},
     "output_type": "execute_result"
    }
   ],
   "source": [
    "train.Cabin.dtype"
   ]
  },
  {
   "cell_type": "code",
   "execution_count": 1129,
   "metadata": {},
   "outputs": [
    {
     "data": {
      "text/html": [
       "<div>\n",
       "<style scoped>\n",
       "    .dataframe tbody tr th:only-of-type {\n",
       "        vertical-align: middle;\n",
       "    }\n",
       "\n",
       "    .dataframe tbody tr th {\n",
       "        vertical-align: top;\n",
       "    }\n",
       "\n",
       "    .dataframe thead th {\n",
       "        text-align: right;\n",
       "    }\n",
       "</style>\n",
       "<table border=\"1\" class=\"dataframe\">\n",
       "  <thead>\n",
       "    <tr style=\"text-align: right;\">\n",
       "      <th>Survived</th>\n",
       "      <th>0</th>\n",
       "      <th>1</th>\n",
       "    </tr>\n",
       "    <tr>\n",
       "      <th>Cabin</th>\n",
       "      <th></th>\n",
       "      <th></th>\n",
       "    </tr>\n",
       "  </thead>\n",
       "  <tbody>\n",
       "    <tr>\n",
       "      <th>A10</th>\n",
       "      <td>1</td>\n",
       "      <td>0</td>\n",
       "    </tr>\n",
       "    <tr>\n",
       "      <th>A14</th>\n",
       "      <td>1</td>\n",
       "      <td>0</td>\n",
       "    </tr>\n",
       "    <tr>\n",
       "      <th>A16</th>\n",
       "      <td>0</td>\n",
       "      <td>1</td>\n",
       "    </tr>\n",
       "    <tr>\n",
       "      <th>A19</th>\n",
       "      <td>1</td>\n",
       "      <td>0</td>\n",
       "    </tr>\n",
       "    <tr>\n",
       "      <th>A20</th>\n",
       "      <td>0</td>\n",
       "      <td>1</td>\n",
       "    </tr>\n",
       "    <tr>\n",
       "      <th>...</th>\n",
       "      <td>...</td>\n",
       "      <td>...</td>\n",
       "    </tr>\n",
       "    <tr>\n",
       "      <th>F33</th>\n",
       "      <td>0</td>\n",
       "      <td>3</td>\n",
       "    </tr>\n",
       "    <tr>\n",
       "      <th>F38</th>\n",
       "      <td>1</td>\n",
       "      <td>0</td>\n",
       "    </tr>\n",
       "    <tr>\n",
       "      <th>F4</th>\n",
       "      <td>0</td>\n",
       "      <td>2</td>\n",
       "    </tr>\n",
       "    <tr>\n",
       "      <th>G6</th>\n",
       "      <td>2</td>\n",
       "      <td>2</td>\n",
       "    </tr>\n",
       "    <tr>\n",
       "      <th>T</th>\n",
       "      <td>1</td>\n",
       "      <td>0</td>\n",
       "    </tr>\n",
       "  </tbody>\n",
       "</table>\n",
       "<p>147 rows × 2 columns</p>\n",
       "</div>"
      ],
      "text/plain": [
       "Survived  0  1\n",
       "Cabin         \n",
       "A10       1  0\n",
       "A14       1  0\n",
       "A16       0  1\n",
       "A19       1  0\n",
       "A20       0  1\n",
       "...      .. ..\n",
       "F33       0  3\n",
       "F38       1  0\n",
       "F4        0  2\n",
       "G6        2  2\n",
       "T         1  0\n",
       "\n",
       "[147 rows x 2 columns]"
      ]
     },
     "execution_count": 1129,
     "metadata": {},
     "output_type": "execute_result"
    }
   ],
   "source": [
    "pd.crosstab(train.Cabin,train.Survived)"
   ]
  },
  {
   "cell_type": "code",
   "execution_count": 1130,
   "metadata": {},
   "outputs": [
    {
     "data": {
      "text/plain": [
       "PassengerId      0\n",
       "Survived         0\n",
       "Pclass           0\n",
       "Name             0\n",
       "Sex              0\n",
       "Age            177\n",
       "SibSp            0\n",
       "Parch            0\n",
       "Ticket           0\n",
       "Fare             0\n",
       "Cabin          687\n",
       "Embarked         2\n",
       "dtype: int64"
      ]
     },
     "execution_count": 1130,
     "metadata": {},
     "output_type": "execute_result"
    }
   ],
   "source": [
    "train.isna().sum()"
   ]
  },
  {
   "cell_type": "code",
   "execution_count": 1131,
   "metadata": {},
   "outputs": [
    {
     "data": {
      "text/plain": [
       "(891, 12)"
      ]
     },
     "execution_count": 1131,
     "metadata": {},
     "output_type": "execute_result"
    }
   ],
   "source": [
    "train.shape"
   ]
  },
  {
   "cell_type": "code",
   "execution_count": 1132,
   "metadata": {},
   "outputs": [
    {
     "data": {
      "text/plain": [
       "0.7822671156004489"
      ]
     },
     "execution_count": 1132,
     "metadata": {},
     "output_type": "execute_result"
    }
   ],
   "source": [
    "697/891"
   ]
  },
  {
   "cell_type": "markdown",
   "metadata": {},
   "source": [
    " Since almost 80% of values of Cabin are missing. let's ignore the column for now and **delete it from both train and test data frame**."
   ]
  },
  {
   "cell_type": "code",
   "execution_count": 1133,
   "metadata": {},
   "outputs": [],
   "source": [
    "train = train.drop(\"Cabin\",axis=1)\n",
    "test  = test.drop('Cabin',axis=1)"
   ]
  },
  {
   "cell_type": "code",
   "execution_count": 1134,
   "metadata": {},
   "outputs": [
    {
     "data": {
      "text/plain": [
       "((891, 11), (418, 10))"
      ]
     },
     "execution_count": 1134,
     "metadata": {},
     "output_type": "execute_result"
    }
   ],
   "source": [
    "train.shape,test.shape"
   ]
  },
  {
   "cell_type": "markdown",
   "metadata": {},
   "source": [
    "Let's check Emabarked Column"
   ]
  },
  {
   "cell_type": "code",
   "execution_count": 1135,
   "metadata": {},
   "outputs": [
    {
     "data": {
      "text/plain": [
       "S    644\n",
       "C    168\n",
       "Q     77\n",
       "Name: Embarked, dtype: int64"
      ]
     },
     "execution_count": 1135,
     "metadata": {},
     "output_type": "execute_result"
    }
   ],
   "source": [
    "train.Embarked.value_counts()"
   ]
  },
  {
   "cell_type": "code",
   "execution_count": 1136,
   "metadata": {},
   "outputs": [
    {
     "data": {
      "image/png": "[encoded data removed]",
      "text/plain": [
       "<Figure size 432x288 with 1 Axes>"
      ]
     },
     "metadata": {
      "needs_background": "light"
     },
     "output_type": "display_data"
    }
   ],
   "source": [
    "pd.crosstab(train.Survived,train.Embarked).plot(kind='bar')\n",
    "plt.xticks(rotation=0);"
   ]
  },
  {
   "cell_type": "code",
   "execution_count": 1137,
   "metadata": {},
   "outputs": [
    {
     "data": {
      "text/html": [
       "<div>\n",
       "<style scoped>\n",
       "    .dataframe tbody tr th:only-of-type {\n",
       "        vertical-align: middle;\n",
       "    }\n",
       "\n",
       "    .dataframe tbody tr th {\n",
       "        vertical-align: top;\n",
       "    }\n",
       "\n",
       "    .dataframe thead th {\n",
       "        text-align: right;\n",
       "    }\n",
       "</style>\n",
       "<table border=\"1\" class=\"dataframe\">\n",
       "  <thead>\n",
       "    <tr style=\"text-align: right;\">\n",
       "      <th>Embarked</th>\n",
       "      <th>C</th>\n",
       "      <th>Q</th>\n",
       "      <th>S</th>\n",
       "    </tr>\n",
       "    <tr>\n",
       "      <th>Survived</th>\n",
       "      <th></th>\n",
       "      <th></th>\n",
       "      <th></th>\n",
       "    </tr>\n",
       "  </thead>\n",
       "  <tbody>\n",
       "    <tr>\n",
       "      <th>0</th>\n",
       "      <td>75</td>\n",
       "      <td>47</td>\n",
       "      <td>427</td>\n",
       "    </tr>\n",
       "    <tr>\n",
       "      <th>1</th>\n",
       "      <td>93</td>\n",
       "      <td>30</td>\n",
       "      <td>217</td>\n",
       "    </tr>\n",
       "  </tbody>\n",
       "</table>\n",
       "</div>"
      ],
      "text/plain": [
       "Embarked   C   Q    S\n",
       "Survived             \n",
       "0         75  47  427\n",
       "1         93  30  217"
      ]
     },
     "execution_count": 1137,
     "metadata": {},
     "output_type": "execute_result"
    }
   ],
   "source": [
    "pd.crosstab(train.Survived,train.Embarked)"
   ]
  },
  {
   "cell_type": "markdown",
   "metadata": {},
   "source": [
    "**C = Cherbourg, Q = Queenstown, S = Southampton**\n",
    "From the data we can see that:\n",
    "* Emabarked is a categorical data\n",
    "* If a Person is Emabarked at S, chances of survival are least followed by Q and C.\n",
    "\n",
    "We can deal with missing values of Embarked Column by:\n",
    "* Putting 'missing'\n",
    "* Removing the row completely.\n",
    "\n",
    "**Note:** But before filling it with missing we have to check whether the test data has missing Embarked values or not. If not it's better to remove the rows completely or train and test data shape will not match as needed."
   ]
  },
  {
   "cell_type": "code",
   "execution_count": 1138,
   "metadata": {},
   "outputs": [
    {
     "data": {
      "text/plain": [
       "PassengerId     0\n",
       "Pclass          0\n",
       "Name            0\n",
       "Sex             0\n",
       "Age            86\n",
       "SibSp           0\n",
       "Parch           0\n",
       "Ticket          0\n",
       "Fare            1\n",
       "Embarked        0\n",
       "dtype: int64"
      ]
     },
     "execution_count": 1138,
     "metadata": {},
     "output_type": "execute_result"
    }
   ],
   "source": [
    "# Checking if test data has missing emarked values \n",
    "test.isna().sum()"
   ]
  },
  {
   "cell_type": "markdown",
   "metadata": {},
   "source": [
    "As there are no missing values in Embarked Column of test data. Let's remove the missing rows of Embarked column from traindata.\n"
   ]
  },
  {
   "cell_type": "code",
   "execution_count": 1139,
   "metadata": {},
   "outputs": [
    {
     "data": {
      "text/plain": [
       "(891, 11)"
      ]
     },
     "execution_count": 1139,
     "metadata": {},
     "output_type": "execute_result"
    }
   ],
   "source": [
    "train.shape"
   ]
  },
  {
   "cell_type": "code",
   "execution_count": 1140,
   "metadata": {},
   "outputs": [
    {
     "data": {
      "text/plain": [
       "0      S\n",
       "1      C\n",
       "2      S\n",
       "3      S\n",
       "4      S\n",
       "      ..\n",
       "886    S\n",
       "887    S\n",
       "888    S\n",
       "889    C\n",
       "890    Q\n",
       "Name: Embarked, Length: 891, dtype: object"
      ]
     },
     "execution_count": 1140,
     "metadata": {},
     "output_type": "execute_result"
    }
   ],
   "source": [
    "train.Embarked"
   ]
  },
  {
   "cell_type": "code",
   "execution_count": 1141,
   "metadata": {},
   "outputs": [
    {
     "data": {
      "text/html": [
       "<div>\n",
       "<style scoped>\n",
       "    .dataframe tbody tr th:only-of-type {\n",
       "        vertical-align: middle;\n",
       "    }\n",
       "\n",
       "    .dataframe tbody tr th {\n",
       "        vertical-align: top;\n",
       "    }\n",
       "\n",
       "    .dataframe thead th {\n",
       "        text-align: right;\n",
       "    }\n",
       "</style>\n",
       "<table border=\"1\" class=\"dataframe\">\n",
       "  <thead>\n",
       "    <tr style=\"text-align: right;\">\n",
       "      <th></th>\n",
       "      <th>PassengerId</th>\n",
       "      <th>Survived</th>\n",
       "      <th>Pclass</th>\n",
       "      <th>Name</th>\n",
       "      <th>Sex</th>\n",
       "      <th>Age</th>\n",
       "      <th>SibSp</th>\n",
       "      <th>Parch</th>\n",
       "      <th>Ticket</th>\n",
       "      <th>Fare</th>\n",
       "      <th>Embarked</th>\n",
       "    </tr>\n",
       "  </thead>\n",
       "  <tbody>\n",
       "    <tr>\n",
       "      <th>0</th>\n",
       "      <td>1</td>\n",
       "      <td>0</td>\n",
       "      <td>3</td>\n",
       "      <td>Braund, Mr. Owen Harris</td>\n",
       "      <td>male</td>\n",
       "      <td>22.0</td>\n",
       "      <td>1</td>\n",
       "      <td>0</td>\n",
       "      <td>A/5 21171</td>\n",
       "      <td>7.2500</td>\n",
       "      <td>S</td>\n",
       "    </tr>\n",
       "    <tr>\n",
       "      <th>1</th>\n",
       "      <td>2</td>\n",
       "      <td>1</td>\n",
       "      <td>1</td>\n",
       "      <td>Cumings, Mrs. John Bradley (Florence Briggs Th...</td>\n",
       "      <td>female</td>\n",
       "      <td>38.0</td>\n",
       "      <td>1</td>\n",
       "      <td>0</td>\n",
       "      <td>PC 17599</td>\n",
       "      <td>71.2833</td>\n",
       "      <td>C</td>\n",
       "    </tr>\n",
       "    <tr>\n",
       "      <th>2</th>\n",
       "      <td>3</td>\n",
       "      <td>1</td>\n",
       "      <td>3</td>\n",
       "      <td>Heikkinen, Miss. Laina</td>\n",
       "      <td>female</td>\n",
       "      <td>26.0</td>\n",
       "      <td>0</td>\n",
       "      <td>0</td>\n",
       "      <td>STON/O2. 3101282</td>\n",
       "      <td>7.9250</td>\n",
       "      <td>S</td>\n",
       "    </tr>\n",
       "    <tr>\n",
       "      <th>3</th>\n",
       "      <td>4</td>\n",
       "      <td>1</td>\n",
       "      <td>1</td>\n",
       "      <td>Futrelle, Mrs. Jacques Heath (Lily May Peel)</td>\n",
       "      <td>female</td>\n",
       "      <td>35.0</td>\n",
       "      <td>1</td>\n",
       "      <td>0</td>\n",
       "      <td>113803</td>\n",
       "      <td>53.1000</td>\n",
       "      <td>S</td>\n",
       "    </tr>\n",
       "    <tr>\n",
       "      <th>4</th>\n",
       "      <td>5</td>\n",
       "      <td>0</td>\n",
       "      <td>3</td>\n",
       "      <td>Allen, Mr. William Henry</td>\n",
       "      <td>male</td>\n",
       "      <td>35.0</td>\n",
       "      <td>0</td>\n",
       "      <td>0</td>\n",
       "      <td>373450</td>\n",
       "      <td>8.0500</td>\n",
       "      <td>S</td>\n",
       "    </tr>\n",
       "  </tbody>\n",
       "</table>\n",
       "</div>"
      ],
      "text/plain": [
       "   PassengerId  Survived  Pclass  \\\n",
       "0            1         0       3   \n",
       "1            2         1       1   \n",
       "2            3         1       3   \n",
       "3            4         1       1   \n",
       "4            5         0       3   \n",
       "\n",
       "                                                Name     Sex   Age  SibSp  \\\n",
       "0                            Braund, Mr. Owen Harris    male  22.0      1   \n",
       "1  Cumings, Mrs. John Bradley (Florence Briggs Th...  female  38.0      1   \n",
       "2                             Heikkinen, Miss. Laina  female  26.0      0   \n",
       "3       Futrelle, Mrs. Jacques Heath (Lily May Peel)  female  35.0      1   \n",
       "4                           Allen, Mr. William Henry    male  35.0      0   \n",
       "\n",
       "   Parch            Ticket     Fare Embarked  \n",
       "0      0         A/5 21171   7.2500        S  \n",
       "1      0          PC 17599  71.2833        C  \n",
       "2      0  STON/O2. 3101282   7.9250        S  \n",
       "3      0            113803  53.1000        S  \n",
       "4      0            373450   8.0500        S  "
      ]
     },
     "execution_count": 1141,
     "metadata": {},
     "output_type": "execute_result"
    }
   ],
   "source": [
    "train.head()"
   ]
  },
  {
   "cell_type": "code",
   "execution_count": 1142,
   "metadata": {},
   "outputs": [
    {
     "data": {
      "text/plain": [
       "(889, 11)"
      ]
     },
     "execution_count": 1142,
     "metadata": {},
     "output_type": "execute_result"
    }
   ],
   "source": [
    "train = train.dropna(subset=['Embarked'])\n",
    "train.shape"
   ]
  },
  {
   "cell_type": "code",
   "execution_count": 1143,
   "metadata": {},
   "outputs": [
    {
     "data": {
      "text/plain": [
       "PassengerId      0\n",
       "Survived         0\n",
       "Pclass           0\n",
       "Name             0\n",
       "Sex              0\n",
       "Age            177\n",
       "SibSp            0\n",
       "Parch            0\n",
       "Ticket           0\n",
       "Fare             0\n",
       "Embarked         0\n",
       "dtype: int64"
      ]
     },
     "execution_count": 1143,
     "metadata": {},
     "output_type": "execute_result"
    }
   ],
   "source": [
    "train.isna().sum()"
   ]
  },
  {
   "cell_type": "markdown",
   "metadata": {},
   "source": [
    "### Name"
   ]
  },
  {
   "cell_type": "code",
   "execution_count": 1144,
   "metadata": {},
   "outputs": [
    {
     "data": {
      "text/plain": [
       "Cairns, Mr. Alexander                                  1\n",
       "Homer, Mr. Harry (\"Mr E Haven\")                        1\n",
       "Touma, Mrs. Darwis (Hanne Youssef Razi)                1\n",
       "Hamalainen, Master. Viljo                              1\n",
       "Fry, Mr. Richard                                       1\n",
       "                                                      ..\n",
       "Williams, Mr. Leslie                                   1\n",
       "Henry, Miss. Delia                                     1\n",
       "Holverson, Mrs. Alexander Oskar (Mary Aline Towner)    1\n",
       "Harris, Mr. George                                     1\n",
       "Romaine, Mr. Charles Hallace (\"Mr C Rolmane\")          1\n",
       "Name: Name, Length: 889, dtype: int64"
      ]
     },
     "execution_count": 1144,
     "metadata": {},
     "output_type": "execute_result"
    }
   ],
   "source": [
    "train.Name.value_counts()"
   ]
  },
  {
   "cell_type": "markdown",
   "metadata": {},
   "source": [
    "All the Name data is there and different. But we can see Every name has Miss,Mr etc associated with it. We can use this data for feature engineering and create a categorical Column out of it. "
   ]
  },
  {
   "cell_type": "markdown",
   "metadata": {},
   "source": [
    "### pclass\n",
    "Ticket class --> 1 = 1st, 2 = 2nd, 3 = 3rd"
   ]
  },
  {
   "cell_type": "code",
   "execution_count": 1145,
   "metadata": {},
   "outputs": [
    {
     "data": {
      "text/plain": [
       "3    491\n",
       "1    214\n",
       "2    184\n",
       "Name: Pclass, dtype: int64"
      ]
     },
     "execution_count": 1145,
     "metadata": {},
     "output_type": "execute_result"
    }
   ],
   "source": [
    "train.Pclass.value_counts()"
   ]
  },
  {
   "cell_type": "code",
   "execution_count": 1146,
   "metadata": {},
   "outputs": [
    {
     "data": {
      "text/html": [
       "<div>\n",
       "<style scoped>\n",
       "    .dataframe tbody tr th:only-of-type {\n",
       "        vertical-align: middle;\n",
       "    }\n",
       "\n",
       "    .dataframe tbody tr th {\n",
       "        vertical-align: top;\n",
       "    }\n",
       "\n",
       "    .dataframe thead th {\n",
       "        text-align: right;\n",
       "    }\n",
       "</style>\n",
       "<table border=\"1\" class=\"dataframe\">\n",
       "  <thead>\n",
       "    <tr style=\"text-align: right;\">\n",
       "      <th>Survived</th>\n",
       "      <th>0</th>\n",
       "      <th>1</th>\n",
       "    </tr>\n",
       "    <tr>\n",
       "      <th>Pclass</th>\n",
       "      <th></th>\n",
       "      <th></th>\n",
       "    </tr>\n",
       "  </thead>\n",
       "  <tbody>\n",
       "    <tr>\n",
       "      <th>1</th>\n",
       "      <td>80</td>\n",
       "      <td>134</td>\n",
       "    </tr>\n",
       "    <tr>\n",
       "      <th>2</th>\n",
       "      <td>97</td>\n",
       "      <td>87</td>\n",
       "    </tr>\n",
       "    <tr>\n",
       "      <th>3</th>\n",
       "      <td>372</td>\n",
       "      <td>119</td>\n",
       "    </tr>\n",
       "  </tbody>\n",
       "</table>\n",
       "</div>"
      ],
      "text/plain": [
       "Survived    0    1\n",
       "Pclass            \n",
       "1          80  134\n",
       "2          97   87\n",
       "3         372  119"
      ]
     },
     "execution_count": 1146,
     "metadata": {},
     "output_type": "execute_result"
    }
   ],
   "source": [
    "pd.crosstab(train.Pclass,train.Survived)"
   ]
  },
  {
   "cell_type": "code",
   "execution_count": 1147,
   "metadata": {},
   "outputs": [
    {
     "data": {
      "image/png": "[encoded data removed]",
      "text/plain": [
       "<Figure size 432x288 with 1 Axes>"
      ]
     },
     "metadata": {
      "needs_background": "light"
     },
     "output_type": "display_data"
    }
   ],
   "source": [
    "pd.crosstab(train.Pclass,train.Survived).plot(kind='bar')\n",
    "plt.xticks(rotation=0);"
   ]
  },
  {
   "cell_type": "markdown",
   "metadata": {},
   "source": [
    "It can be clearly observed that:\n",
    "\n",
    "* It's a categorical data.\n",
    "* If one is travelling in 3rd class, his/her chances of survival are very less.\n",
    "* Chances of survival are maximum in 1st class."
   ]
  },
  {
   "cell_type": "code",
   "execution_count": 1148,
   "metadata": {},
   "outputs": [
    {
     "data": {
      "text/html": [
       "<div>\n",
       "<style scoped>\n",
       "    .dataframe tbody tr th:only-of-type {\n",
       "        vertical-align: middle;\n",
       "    }\n",
       "\n",
       "    .dataframe tbody tr th {\n",
       "        vertical-align: top;\n",
       "    }\n",
       "\n",
       "    .dataframe thead th {\n",
       "        text-align: right;\n",
       "    }\n",
       "</style>\n",
       "<table border=\"1\" class=\"dataframe\">\n",
       "  <thead>\n",
       "    <tr style=\"text-align: right;\">\n",
       "      <th></th>\n",
       "      <th>PassengerId</th>\n",
       "      <th>Survived</th>\n",
       "      <th>Pclass</th>\n",
       "      <th>Name</th>\n",
       "      <th>Sex</th>\n",
       "      <th>Age</th>\n",
       "      <th>SibSp</th>\n",
       "      <th>Parch</th>\n",
       "      <th>Ticket</th>\n",
       "      <th>Fare</th>\n",
       "      <th>Embarked</th>\n",
       "    </tr>\n",
       "  </thead>\n",
       "  <tbody>\n",
       "    <tr>\n",
       "      <th>0</th>\n",
       "      <td>1</td>\n",
       "      <td>0</td>\n",
       "      <td>3</td>\n",
       "      <td>Braund, Mr. Owen Harris</td>\n",
       "      <td>male</td>\n",
       "      <td>22.0</td>\n",
       "      <td>1</td>\n",
       "      <td>0</td>\n",
       "      <td>A/5 21171</td>\n",
       "      <td>7.2500</td>\n",
       "      <td>S</td>\n",
       "    </tr>\n",
       "    <tr>\n",
       "      <th>1</th>\n",
       "      <td>2</td>\n",
       "      <td>1</td>\n",
       "      <td>1</td>\n",
       "      <td>Cumings, Mrs. John Bradley (Florence Briggs Th...</td>\n",
       "      <td>female</td>\n",
       "      <td>38.0</td>\n",
       "      <td>1</td>\n",
       "      <td>0</td>\n",
       "      <td>PC 17599</td>\n",
       "      <td>71.2833</td>\n",
       "      <td>C</td>\n",
       "    </tr>\n",
       "    <tr>\n",
       "      <th>2</th>\n",
       "      <td>3</td>\n",
       "      <td>1</td>\n",
       "      <td>3</td>\n",
       "      <td>Heikkinen, Miss. Laina</td>\n",
       "      <td>female</td>\n",
       "      <td>26.0</td>\n",
       "      <td>0</td>\n",
       "      <td>0</td>\n",
       "      <td>STON/O2. 3101282</td>\n",
       "      <td>7.9250</td>\n",
       "      <td>S</td>\n",
       "    </tr>\n",
       "    <tr>\n",
       "      <th>3</th>\n",
       "      <td>4</td>\n",
       "      <td>1</td>\n",
       "      <td>1</td>\n",
       "      <td>Futrelle, Mrs. Jacques Heath (Lily May Peel)</td>\n",
       "      <td>female</td>\n",
       "      <td>35.0</td>\n",
       "      <td>1</td>\n",
       "      <td>0</td>\n",
       "      <td>113803</td>\n",
       "      <td>53.1000</td>\n",
       "      <td>S</td>\n",
       "    </tr>\n",
       "    <tr>\n",
       "      <th>4</th>\n",
       "      <td>5</td>\n",
       "      <td>0</td>\n",
       "      <td>3</td>\n",
       "      <td>Allen, Mr. William Henry</td>\n",
       "      <td>male</td>\n",
       "      <td>35.0</td>\n",
       "      <td>0</td>\n",
       "      <td>0</td>\n",
       "      <td>373450</td>\n",
       "      <td>8.0500</td>\n",
       "      <td>S</td>\n",
       "    </tr>\n",
       "  </tbody>\n",
       "</table>\n",
       "</div>"
      ],
      "text/plain": [
       "   PassengerId  Survived  Pclass  \\\n",
       "0            1         0       3   \n",
       "1            2         1       1   \n",
       "2            3         1       3   \n",
       "3            4         1       1   \n",
       "4            5         0       3   \n",
       "\n",
       "                                                Name     Sex   Age  SibSp  \\\n",
       "0                            Braund, Mr. Owen Harris    male  22.0      1   \n",
       "1  Cumings, Mrs. John Bradley (Florence Briggs Th...  female  38.0      1   \n",
       "2                             Heikkinen, Miss. Laina  female  26.0      0   \n",
       "3       Futrelle, Mrs. Jacques Heath (Lily May Peel)  female  35.0      1   \n",
       "4                           Allen, Mr. William Henry    male  35.0      0   \n",
       "\n",
       "   Parch            Ticket     Fare Embarked  \n",
       "0      0         A/5 21171   7.2500        S  \n",
       "1      0          PC 17599  71.2833        C  \n",
       "2      0  STON/O2. 3101282   7.9250        S  \n",
       "3      0            113803  53.1000        S  \n",
       "4      0            373450   8.0500        S  "
      ]
     },
     "execution_count": 1148,
     "metadata": {},
     "output_type": "execute_result"
    }
   ],
   "source": [
    "train.head()"
   ]
  },
  {
   "cell_type": "markdown",
   "metadata": {},
   "source": [
    "### Survived\n",
    ">Survival: 0 = No, 1 = Yes"
   ]
  },
  {
   "cell_type": "code",
   "execution_count": 1149,
   "metadata": {},
   "outputs": [
    {
     "data": {
      "text/plain": [
       "0    549\n",
       "1    340\n",
       "Name: Survived, dtype: int64"
      ]
     },
     "execution_count": 1149,
     "metadata": {},
     "output_type": "execute_result"
    }
   ],
   "source": [
    "train.Survived.value_counts()"
   ]
  },
  {
   "cell_type": "markdown",
   "metadata": {},
   "source": [
    "### SibSp\n",
    ">siblings / spouses aboard the Titanic\t"
   ]
  },
  {
   "cell_type": "code",
   "execution_count": 1150,
   "metadata": {},
   "outputs": [
    {
     "data": {
      "text/plain": [
       "0    606\n",
       "1    209\n",
       "2     28\n",
       "4     18\n",
       "3     16\n",
       "8      7\n",
       "5      5\n",
       "Name: SibSp, dtype: int64"
      ]
     },
     "execution_count": 1150,
     "metadata": {},
     "output_type": "execute_result"
    }
   ],
   "source": [
    "train.SibSp.value_counts()"
   ]
  },
  {
   "cell_type": "code",
   "execution_count": 1151,
   "metadata": {},
   "outputs": [
    {
     "data": {
      "text/html": [
       "<div>\n",
       "<style scoped>\n",
       "    .dataframe tbody tr th:only-of-type {\n",
       "        vertical-align: middle;\n",
       "    }\n",
       "\n",
       "    .dataframe tbody tr th {\n",
       "        vertical-align: top;\n",
       "    }\n",
       "\n",
       "    .dataframe thead th {\n",
       "        text-align: right;\n",
       "    }\n",
       "</style>\n",
       "<table border=\"1\" class=\"dataframe\">\n",
       "  <thead>\n",
       "    <tr style=\"text-align: right;\">\n",
       "      <th>Survived</th>\n",
       "      <th>0</th>\n",
       "      <th>1</th>\n",
       "    </tr>\n",
       "    <tr>\n",
       "      <th>SibSp</th>\n",
       "      <th></th>\n",
       "      <th></th>\n",
       "    </tr>\n",
       "  </thead>\n",
       "  <tbody>\n",
       "    <tr>\n",
       "      <th>0</th>\n",
       "      <td>398</td>\n",
       "      <td>208</td>\n",
       "    </tr>\n",
       "    <tr>\n",
       "      <th>1</th>\n",
       "      <td>97</td>\n",
       "      <td>112</td>\n",
       "    </tr>\n",
       "    <tr>\n",
       "      <th>2</th>\n",
       "      <td>15</td>\n",
       "      <td>13</td>\n",
       "    </tr>\n",
       "    <tr>\n",
       "      <th>3</th>\n",
       "      <td>12</td>\n",
       "      <td>4</td>\n",
       "    </tr>\n",
       "    <tr>\n",
       "      <th>4</th>\n",
       "      <td>15</td>\n",
       "      <td>3</td>\n",
       "    </tr>\n",
       "    <tr>\n",
       "      <th>5</th>\n",
       "      <td>5</td>\n",
       "      <td>0</td>\n",
       "    </tr>\n",
       "    <tr>\n",
       "      <th>8</th>\n",
       "      <td>7</td>\n",
       "      <td>0</td>\n",
       "    </tr>\n",
       "  </tbody>\n",
       "</table>\n",
       "</div>"
      ],
      "text/plain": [
       "Survived    0    1\n",
       "SibSp             \n",
       "0         398  208\n",
       "1          97  112\n",
       "2          15   13\n",
       "3          12    4\n",
       "4          15    3\n",
       "5           5    0\n",
       "8           7    0"
      ]
     },
     "execution_count": 1151,
     "metadata": {},
     "output_type": "execute_result"
    }
   ],
   "source": [
    "pd.crosstab(train.SibSp,train.Survived)"
   ]
  },
  {
   "cell_type": "markdown",
   "metadata": {},
   "source": [
    "## Parch:\n",
    "> parents / children aboard the Titanic"
   ]
  },
  {
   "cell_type": "code",
   "execution_count": 1152,
   "metadata": {},
   "outputs": [
    {
     "data": {
      "text/plain": [
       "0    676\n",
       "1    118\n",
       "2     80\n",
       "5      5\n",
       "3      5\n",
       "4      4\n",
       "6      1\n",
       "Name: Parch, dtype: int64"
      ]
     },
     "execution_count": 1152,
     "metadata": {},
     "output_type": "execute_result"
    }
   ],
   "source": [
    "train.Parch.value_counts()"
   ]
  },
  {
   "cell_type": "code",
   "execution_count": 1153,
   "metadata": {},
   "outputs": [
    {
     "data": {
      "text/html": [
       "<div>\n",
       "<style scoped>\n",
       "    .dataframe tbody tr th:only-of-type {\n",
       "        vertical-align: middle;\n",
       "    }\n",
       "\n",
       "    .dataframe tbody tr th {\n",
       "        vertical-align: top;\n",
       "    }\n",
       "\n",
       "    .dataframe thead th {\n",
       "        text-align: right;\n",
       "    }\n",
       "</style>\n",
       "<table border=\"1\" class=\"dataframe\">\n",
       "  <thead>\n",
       "    <tr style=\"text-align: right;\">\n",
       "      <th>Survived</th>\n",
       "      <th>0</th>\n",
       "      <th>1</th>\n",
       "    </tr>\n",
       "    <tr>\n",
       "      <th>Parch</th>\n",
       "      <th></th>\n",
       "      <th></th>\n",
       "    </tr>\n",
       "  </thead>\n",
       "  <tbody>\n",
       "    <tr>\n",
       "      <th>0</th>\n",
       "      <td>445</td>\n",
       "      <td>231</td>\n",
       "    </tr>\n",
       "    <tr>\n",
       "      <th>1</th>\n",
       "      <td>53</td>\n",
       "      <td>65</td>\n",
       "    </tr>\n",
       "    <tr>\n",
       "      <th>2</th>\n",
       "      <td>40</td>\n",
       "      <td>40</td>\n",
       "    </tr>\n",
       "    <tr>\n",
       "      <th>3</th>\n",
       "      <td>2</td>\n",
       "      <td>3</td>\n",
       "    </tr>\n",
       "    <tr>\n",
       "      <th>4</th>\n",
       "      <td>4</td>\n",
       "      <td>0</td>\n",
       "    </tr>\n",
       "    <tr>\n",
       "      <th>5</th>\n",
       "      <td>4</td>\n",
       "      <td>1</td>\n",
       "    </tr>\n",
       "    <tr>\n",
       "      <th>6</th>\n",
       "      <td>1</td>\n",
       "      <td>0</td>\n",
       "    </tr>\n",
       "  </tbody>\n",
       "</table>\n",
       "</div>"
      ],
      "text/plain": [
       "Survived    0    1\n",
       "Parch             \n",
       "0         445  231\n",
       "1          53   65\n",
       "2          40   40\n",
       "3           2    3\n",
       "4           4    0\n",
       "5           4    1\n",
       "6           1    0"
      ]
     },
     "execution_count": 1153,
     "metadata": {},
     "output_type": "execute_result"
    }
   ],
   "source": [
    "pd.crosstab(train.Parch,train.Survived)"
   ]
  },
  {
   "cell_type": "code",
   "execution_count": 1154,
   "metadata": {},
   "outputs": [
    {
     "data": {
      "image/png": "[encoded data removed]",
      "text/plain": [
       "<Figure size 720x288 with 1 Axes>"
      ]
     },
     "metadata": {
      "needs_background": "light"
     },
     "output_type": "display_data"
    }
   ],
   "source": [
    "pd.crosstab(train.Parch,train.Survived).plot(kind='barh',figsize=(10,4));"
   ]
  },
  {
   "cell_type": "code",
   "execution_count": 1155,
   "metadata": {},
   "outputs": [
    {
     "data": {
      "text/plain": [
       "1601        7\n",
       "CA. 2343    7\n",
       "347082      7\n",
       "347088      6\n",
       "3101295     6\n",
       "           ..\n",
       "315082      1\n",
       "28206       1\n",
       "3101276     1\n",
       "349204      1\n",
       "PC 17609    1\n",
       "Name: Ticket, Length: 680, dtype: int64"
      ]
     },
     "execution_count": 1155,
     "metadata": {},
     "output_type": "execute_result"
    }
   ],
   "source": [
    "train.Ticket.value_counts()"
   ]
  },
  {
   "cell_type": "code",
   "execution_count": 1156,
   "metadata": {},
   "outputs": [
    {
     "data": {
      "text/plain": [
       "8.0500     43\n",
       "13.0000    42\n",
       "7.8958     38\n",
       "7.7500     34\n",
       "26.0000    31\n",
       "           ..\n",
       "7.8000      1\n",
       "13.8583     1\n",
       "7.6292      1\n",
       "15.0500     1\n",
       "8.6833      1\n",
       "Name: Fare, Length: 247, dtype: int64"
      ]
     },
     "execution_count": 1156,
     "metadata": {},
     "output_type": "execute_result"
    }
   ],
   "source": [
    "train.Fare.value_counts()"
   ]
  },
  {
   "cell_type": "code",
   "execution_count": 1157,
   "metadata": {},
   "outputs": [
    {
     "data": {
      "text/plain": [
       "PassengerId     0\n",
       "Pclass          0\n",
       "Name            0\n",
       "Sex             0\n",
       "Age            86\n",
       "SibSp           0\n",
       "Parch           0\n",
       "Ticket          0\n",
       "Fare            1\n",
       "Embarked        0\n",
       "dtype: int64"
      ]
     },
     "execution_count": 1157,
     "metadata": {},
     "output_type": "execute_result"
    }
   ],
   "source": [
    "test.isna().sum()"
   ]
  },
  {
   "cell_type": "code",
   "execution_count": 1158,
   "metadata": {},
   "outputs": [
    {
     "data": {
      "text/plain": [
       "(418, 10)"
      ]
     },
     "execution_count": 1158,
     "metadata": {},
     "output_type": "execute_result"
    }
   ],
   "source": [
    "test.shape"
   ]
  },
  {
   "cell_type": "code",
   "execution_count": 1159,
   "metadata": {},
   "outputs": [
    {
     "data": {
      "text/plain": [
       "(418, 10)"
      ]
     },
     "execution_count": 1159,
     "metadata": {},
     "output_type": "execute_result"
    }
   ],
   "source": [
    "test['Fare'] = test.Fare.fillna(test.Fare.median())\n",
    "test.shape"
   ]
  },
  {
   "cell_type": "code",
   "execution_count": 1160,
   "metadata": {},
   "outputs": [
    {
     "data": {
      "text/plain": [
       "PassengerId     0\n",
       "Pclass          0\n",
       "Name            0\n",
       "Sex             0\n",
       "Age            86\n",
       "SibSp           0\n",
       "Parch           0\n",
       "Ticket          0\n",
       "Fare            0\n",
       "Embarked        0\n",
       "dtype: int64"
      ]
     },
     "execution_count": 1160,
     "metadata": {},
     "output_type": "execute_result"
    }
   ],
   "source": [
    "test.isna().sum()"
   ]
  },
  {
   "cell_type": "markdown",
   "metadata": {},
   "source": [
    "## Conclusion: \n",
    "\n",
    "### Sex:\n",
    "* Categorical data.\n",
    "* 75% of Females survived Titanic as compared to only 19% of Males.\n",
    "\n",
    "### Embarked:\n",
    "* Categorical data.\n",
    "* C = Cherbourg, Q = Queenstown, S = Southampton.\n",
    "* Embarked Data is categorical and if a Person is Emabarked at S, chances of survival are least followed by Q and C.      \n",
    "\n",
    "### Age:\n",
    "* Median Age is 28.\n",
    "**we are yet to fill missing Age data with median of Age**.\n",
    "\n",
    "### Name:\n",
    "* All the **Name** data is there and all the names are different. \n",
    "*  we can see Every name has Miss,Mr etc associated with it. We can use this data   for feature engineering and **create a categorical Column** out of it.\n",
    "\n",
    "### Passengerid:\n",
    "* Passengerid has nothing do with Survival.\n",
    "\n",
    "### Pclass :\n",
    "* It's a categorical data.\n",
    "* If one is travelling in 3rd class, his/her chances of survival are very less.\n",
    "* Chances of survival are maximum in 1st class.\n",
    "\n",
    "### Survived:\n",
    "* Although more people died,dataset is a balanced data set. \n",
    "\n",
    "### SibSp:\n",
    "* Categorical Data\n",
    "* Maximum numbers belong to group with SibSp count 0. \n",
    "* One with SibSp count of 1 & 2 have maximum rate of survival.\n",
    "* When SibSp count goes more than 4, chances of survival goes to nil.\n",
    "\n",
    "### Parch:\n",
    "* Categorical Data\n",
    "* Maximum numbers belong to group with Parch count 0. \n",
    "* One with Parch count of 1,2 and 3 have maximum rate of survival.\n",
    "\n",
    "### Ticket:\n",
    "* Ticket data does'nt seems to be much helpful.\n",
    "* As we have Pclass itself, that's enough.\n",
    "**So, we can also remove Ticket Column from both Train and test data**\n",
    "\n",
    "### Fare:\n",
    "* Keep fare data as it is.\n",
    "\n",
    "\n"
   ]
  },
  {
   "cell_type": "markdown",
   "metadata": {},
   "source": [
    "## Getting our data ready to be used with machine learning\n",
    "\n",
    "three main things we have to do:\n",
    "\n",
    "1. Split the data into features and labels.\n",
    "2. Filling(also called imputing) or disrerarding the missing values.\n",
    "3. Converting non numerical values to numerical values (also called feature encoding).\n",
    "\n",
    "### Filling Missing Age Data (with median age):"
   ]
  },
  {
   "cell_type": "code",
   "execution_count": 1161,
   "metadata": {},
   "outputs": [
    {
     "data": {
      "text/plain": [
       "PassengerId    0\n",
       "Survived       0\n",
       "Pclass         0\n",
       "Name           0\n",
       "Sex            0\n",
       "Age            0\n",
       "SibSp          0\n",
       "Parch          0\n",
       "Ticket         0\n",
       "Fare           0\n",
       "Embarked       0\n",
       "dtype: int64"
      ]
     },
     "execution_count": 1161,
     "metadata": {},
     "output_type": "execute_result"
    }
   ],
   "source": [
    "train['Age'] = train.Age.fillna(train.Age.median())\n",
    "test['Age']  = test.Age.fillna(test.Age.median())\n",
    "train.isna().sum()"
   ]
  },
  {
   "cell_type": "code",
   "execution_count": 1162,
   "metadata": {},
   "outputs": [
    {
     "data": {
      "text/plain": [
       "PassengerId    0\n",
       "Pclass         0\n",
       "Name           0\n",
       "Sex            0\n",
       "Age            0\n",
       "SibSp          0\n",
       "Parch          0\n",
       "Ticket         0\n",
       "Fare           0\n",
       "Embarked       0\n",
       "dtype: int64"
      ]
     },
     "execution_count": 1162,
     "metadata": {},
     "output_type": "execute_result"
    }
   ],
   "source": [
    "test.isna().sum()"
   ]
  },
  {
   "cell_type": "markdown",
   "metadata": {},
   "source": [
    "> We have no missing data now."
   ]
  },
  {
   "cell_type": "code",
   "execution_count": 1163,
   "metadata": {},
   "outputs": [
    {
     "data": {
      "text/plain": [
       "((889, 11), (418, 10))"
      ]
     },
     "execution_count": 1163,
     "metadata": {},
     "output_type": "execute_result"
    }
   ],
   "source": [
    "train.shape,test.shape"
   ]
  },
  {
   "cell_type": "code",
   "execution_count": 1164,
   "metadata": {},
   "outputs": [
    {
     "data": {
      "text/html": [
       "<div>\n",
       "<style scoped>\n",
       "    .dataframe tbody tr th:only-of-type {\n",
       "        vertical-align: middle;\n",
       "    }\n",
       "\n",
       "    .dataframe tbody tr th {\n",
       "        vertical-align: top;\n",
       "    }\n",
       "\n",
       "    .dataframe thead th {\n",
       "        text-align: right;\n",
       "    }\n",
       "</style>\n",
       "<table border=\"1\" class=\"dataframe\">\n",
       "  <thead>\n",
       "    <tr style=\"text-align: right;\">\n",
       "      <th></th>\n",
       "      <th>PassengerId</th>\n",
       "      <th>Survived</th>\n",
       "      <th>Pclass</th>\n",
       "      <th>Name</th>\n",
       "      <th>Sex</th>\n",
       "      <th>Age</th>\n",
       "      <th>SibSp</th>\n",
       "      <th>Parch</th>\n",
       "      <th>Fare</th>\n",
       "      <th>Embarked</th>\n",
       "    </tr>\n",
       "  </thead>\n",
       "  <tbody>\n",
       "    <tr>\n",
       "      <th>0</th>\n",
       "      <td>1</td>\n",
       "      <td>0</td>\n",
       "      <td>3</td>\n",
       "      <td>Braund, Mr. Owen Harris</td>\n",
       "      <td>male</td>\n",
       "      <td>22.0</td>\n",
       "      <td>1</td>\n",
       "      <td>0</td>\n",
       "      <td>7.2500</td>\n",
       "      <td>S</td>\n",
       "    </tr>\n",
       "    <tr>\n",
       "      <th>1</th>\n",
       "      <td>2</td>\n",
       "      <td>1</td>\n",
       "      <td>1</td>\n",
       "      <td>Cumings, Mrs. John Bradley (Florence Briggs Th...</td>\n",
       "      <td>female</td>\n",
       "      <td>38.0</td>\n",
       "      <td>1</td>\n",
       "      <td>0</td>\n",
       "      <td>71.2833</td>\n",
       "      <td>C</td>\n",
       "    </tr>\n",
       "    <tr>\n",
       "      <th>2</th>\n",
       "      <td>3</td>\n",
       "      <td>1</td>\n",
       "      <td>3</td>\n",
       "      <td>Heikkinen, Miss. Laina</td>\n",
       "      <td>female</td>\n",
       "      <td>26.0</td>\n",
       "      <td>0</td>\n",
       "      <td>0</td>\n",
       "      <td>7.9250</td>\n",
       "      <td>S</td>\n",
       "    </tr>\n",
       "    <tr>\n",
       "      <th>3</th>\n",
       "      <td>4</td>\n",
       "      <td>1</td>\n",
       "      <td>1</td>\n",
       "      <td>Futrelle, Mrs. Jacques Heath (Lily May Peel)</td>\n",
       "      <td>female</td>\n",
       "      <td>35.0</td>\n",
       "      <td>1</td>\n",
       "      <td>0</td>\n",
       "      <td>53.1000</td>\n",
       "      <td>S</td>\n",
       "    </tr>\n",
       "    <tr>\n",
       "      <th>4</th>\n",
       "      <td>5</td>\n",
       "      <td>0</td>\n",
       "      <td>3</td>\n",
       "      <td>Allen, Mr. William Henry</td>\n",
       "      <td>male</td>\n",
       "      <td>35.0</td>\n",
       "      <td>0</td>\n",
       "      <td>0</td>\n",
       "      <td>8.0500</td>\n",
       "      <td>S</td>\n",
       "    </tr>\n",
       "  </tbody>\n",
       "</table>\n",
       "</div>"
      ],
      "text/plain": [
       "   PassengerId  Survived  Pclass  \\\n",
       "0            1         0       3   \n",
       "1            2         1       1   \n",
       "2            3         1       3   \n",
       "3            4         1       1   \n",
       "4            5         0       3   \n",
       "\n",
       "                                                Name     Sex   Age  SibSp  \\\n",
       "0                            Braund, Mr. Owen Harris    male  22.0      1   \n",
       "1  Cumings, Mrs. John Bradley (Florence Briggs Th...  female  38.0      1   \n",
       "2                             Heikkinen, Miss. Laina  female  26.0      0   \n",
       "3       Futrelle, Mrs. Jacques Heath (Lily May Peel)  female  35.0      1   \n",
       "4                           Allen, Mr. William Henry    male  35.0      0   \n",
       "\n",
       "   Parch     Fare Embarked  \n",
       "0      0   7.2500        S  \n",
       "1      0  71.2833        C  \n",
       "2      0   7.9250        S  \n",
       "3      0  53.1000        S  \n",
       "4      0   8.0500        S  "
      ]
     },
     "execution_count": 1164,
     "metadata": {},
     "output_type": "execute_result"
    }
   ],
   "source": [
    "# Let's remove Ticket column from training data\n",
    "train.drop('Ticket',axis=1,inplace=True)\n",
    "train.head()"
   ]
  },
  {
   "cell_type": "code",
   "execution_count": 1165,
   "metadata": {},
   "outputs": [
    {
     "data": {
      "text/html": [
       "<div>\n",
       "<style scoped>\n",
       "    .dataframe tbody tr th:only-of-type {\n",
       "        vertical-align: middle;\n",
       "    }\n",
       "\n",
       "    .dataframe tbody tr th {\n",
       "        vertical-align: top;\n",
       "    }\n",
       "\n",
       "    .dataframe thead th {\n",
       "        text-align: right;\n",
       "    }\n",
       "</style>\n",
       "<table border=\"1\" class=\"dataframe\">\n",
       "  <thead>\n",
       "    <tr style=\"text-align: right;\">\n",
       "      <th></th>\n",
       "      <th>PassengerId</th>\n",
       "      <th>Pclass</th>\n",
       "      <th>Name</th>\n",
       "      <th>Sex</th>\n",
       "      <th>Age</th>\n",
       "      <th>SibSp</th>\n",
       "      <th>Parch</th>\n",
       "      <th>Fare</th>\n",
       "      <th>Embarked</th>\n",
       "    </tr>\n",
       "  </thead>\n",
       "  <tbody>\n",
       "    <tr>\n",
       "      <th>0</th>\n",
       "      <td>892</td>\n",
       "      <td>3</td>\n",
       "      <td>Kelly, Mr. James</td>\n",
       "      <td>male</td>\n",
       "      <td>34.5</td>\n",
       "      <td>0</td>\n",
       "      <td>0</td>\n",
       "      <td>7.8292</td>\n",
       "      <td>Q</td>\n",
       "    </tr>\n",
       "    <tr>\n",
       "      <th>1</th>\n",
       "      <td>893</td>\n",
       "      <td>3</td>\n",
       "      <td>Wilkes, Mrs. James (Ellen Needs)</td>\n",
       "      <td>female</td>\n",
       "      <td>47.0</td>\n",
       "      <td>1</td>\n",
       "      <td>0</td>\n",
       "      <td>7.0000</td>\n",
       "      <td>S</td>\n",
       "    </tr>\n",
       "    <tr>\n",
       "      <th>2</th>\n",
       "      <td>894</td>\n",
       "      <td>2</td>\n",
       "      <td>Myles, Mr. Thomas Francis</td>\n",
       "      <td>male</td>\n",
       "      <td>62.0</td>\n",
       "      <td>0</td>\n",
       "      <td>0</td>\n",
       "      <td>9.6875</td>\n",
       "      <td>Q</td>\n",
       "    </tr>\n",
       "    <tr>\n",
       "      <th>3</th>\n",
       "      <td>895</td>\n",
       "      <td>3</td>\n",
       "      <td>Wirz, Mr. Albert</td>\n",
       "      <td>male</td>\n",
       "      <td>27.0</td>\n",
       "      <td>0</td>\n",
       "      <td>0</td>\n",
       "      <td>8.6625</td>\n",
       "      <td>S</td>\n",
       "    </tr>\n",
       "    <tr>\n",
       "      <th>4</th>\n",
       "      <td>896</td>\n",
       "      <td>3</td>\n",
       "      <td>Hirvonen, Mrs. Alexander (Helga E Lindqvist)</td>\n",
       "      <td>female</td>\n",
       "      <td>22.0</td>\n",
       "      <td>1</td>\n",
       "      <td>1</td>\n",
       "      <td>12.2875</td>\n",
       "      <td>S</td>\n",
       "    </tr>\n",
       "  </tbody>\n",
       "</table>\n",
       "</div>"
      ],
      "text/plain": [
       "   PassengerId  Pclass                                          Name     Sex  \\\n",
       "0          892       3                              Kelly, Mr. James    male   \n",
       "1          893       3              Wilkes, Mrs. James (Ellen Needs)  female   \n",
       "2          894       2                     Myles, Mr. Thomas Francis    male   \n",
       "3          895       3                              Wirz, Mr. Albert    male   \n",
       "4          896       3  Hirvonen, Mrs. Alexander (Helga E Lindqvist)  female   \n",
       "\n",
       "    Age  SibSp  Parch     Fare Embarked  \n",
       "0  34.5      0      0   7.8292        Q  \n",
       "1  47.0      1      0   7.0000        S  \n",
       "2  62.0      0      0   9.6875        Q  \n",
       "3  27.0      0      0   8.6625        S  \n",
       "4  22.0      1      1  12.2875        S  "
      ]
     },
     "execution_count": 1165,
     "metadata": {},
     "output_type": "execute_result"
    }
   ],
   "source": [
    "# let's remove Ticket column from testing data.\n",
    "test.drop('Ticket',axis=1,inplace=True)\n",
    "test.head()"
   ]
  },
  {
   "cell_type": "markdown",
   "metadata": {},
   "source": [
    "### Feature Engineering:\n",
    "Let's work on getting our feature column with title of Names.\n",
    "\n",
    "1. We have to break names after the comma(,).\n",
    "2. Title which is coming after the comma will be saved as an entry to that row for the title column."
   ]
  },
  {
   "cell_type": "code",
   "execution_count": 1166,
   "metadata": {},
   "outputs": [
    {
     "data": {
      "text/plain": [
       "dtype('O')"
      ]
     },
     "execution_count": 1166,
     "metadata": {},
     "output_type": "execute_result"
    }
   ],
   "source": [
    "train['Name'] = train['Name'].astype('str')\n",
    "train.Name.dtype"
   ]
  },
  {
   "cell_type": "code",
   "execution_count": 1167,
   "metadata": {},
   "outputs": [
    {
     "data": {
      "text/plain": [
       "['Wilkes', ' Mrs. James (Ellen Needs)']"
      ]
     },
     "execution_count": 1167,
     "metadata": {},
     "output_type": "execute_result"
    }
   ],
   "source": [
    "namess='Wilkes, Mrs. James (Ellen Needs)' \n",
    "namess.split(',')"
   ]
  },
  {
   "cell_type": "code",
   "execution_count": 1168,
   "metadata": {},
   "outputs": [
    {
     "data": {
      "text/plain": [
       "'Mrs.'"
      ]
     },
     "execution_count": 1168,
     "metadata": {},
     "output_type": "execute_result"
    }
   ],
   "source": [
    "namess.split(',')[1].split()[0]"
   ]
  },
  {
   "cell_type": "code",
   "execution_count": 1169,
   "metadata": {},
   "outputs": [
    {
     "data": {
      "text/html": [
       "<div>\n",
       "<style scoped>\n",
       "    .dataframe tbody tr th:only-of-type {\n",
       "        vertical-align: middle;\n",
       "    }\n",
       "\n",
       "    .dataframe tbody tr th {\n",
       "        vertical-align: top;\n",
       "    }\n",
       "\n",
       "    .dataframe thead th {\n",
       "        text-align: right;\n",
       "    }\n",
       "</style>\n",
       "<table border=\"1\" class=\"dataframe\">\n",
       "  <thead>\n",
       "    <tr style=\"text-align: right;\">\n",
       "      <th></th>\n",
       "      <th>PassengerId</th>\n",
       "      <th>Survived</th>\n",
       "      <th>Pclass</th>\n",
       "      <th>Name</th>\n",
       "      <th>Sex</th>\n",
       "      <th>Age</th>\n",
       "      <th>SibSp</th>\n",
       "      <th>Parch</th>\n",
       "      <th>Fare</th>\n",
       "      <th>Embarked</th>\n",
       "      <th>Title</th>\n",
       "    </tr>\n",
       "  </thead>\n",
       "  <tbody>\n",
       "    <tr>\n",
       "      <th>0</th>\n",
       "      <td>1</td>\n",
       "      <td>0</td>\n",
       "      <td>3</td>\n",
       "      <td>Braund, Mr. Owen Harris</td>\n",
       "      <td>male</td>\n",
       "      <td>22.0</td>\n",
       "      <td>1</td>\n",
       "      <td>0</td>\n",
       "      <td>7.2500</td>\n",
       "      <td>S</td>\n",
       "      <td>Mr.</td>\n",
       "    </tr>\n",
       "    <tr>\n",
       "      <th>1</th>\n",
       "      <td>2</td>\n",
       "      <td>1</td>\n",
       "      <td>1</td>\n",
       "      <td>Cumings, Mrs. John Bradley (Florence Briggs Th...</td>\n",
       "      <td>female</td>\n",
       "      <td>38.0</td>\n",
       "      <td>1</td>\n",
       "      <td>0</td>\n",
       "      <td>71.2833</td>\n",
       "      <td>C</td>\n",
       "      <td>Mrs.</td>\n",
       "    </tr>\n",
       "    <tr>\n",
       "      <th>2</th>\n",
       "      <td>3</td>\n",
       "      <td>1</td>\n",
       "      <td>3</td>\n",
       "      <td>Heikkinen, Miss. Laina</td>\n",
       "      <td>female</td>\n",
       "      <td>26.0</td>\n",
       "      <td>0</td>\n",
       "      <td>0</td>\n",
       "      <td>7.9250</td>\n",
       "      <td>S</td>\n",
       "      <td>Miss.</td>\n",
       "    </tr>\n",
       "    <tr>\n",
       "      <th>3</th>\n",
       "      <td>4</td>\n",
       "      <td>1</td>\n",
       "      <td>1</td>\n",
       "      <td>Futrelle, Mrs. Jacques Heath (Lily May Peel)</td>\n",
       "      <td>female</td>\n",
       "      <td>35.0</td>\n",
       "      <td>1</td>\n",
       "      <td>0</td>\n",
       "      <td>53.1000</td>\n",
       "      <td>S</td>\n",
       "      <td>Mrs.</td>\n",
       "    </tr>\n",
       "    <tr>\n",
       "      <th>4</th>\n",
       "      <td>5</td>\n",
       "      <td>0</td>\n",
       "      <td>3</td>\n",
       "      <td>Allen, Mr. William Henry</td>\n",
       "      <td>male</td>\n",
       "      <td>35.0</td>\n",
       "      <td>0</td>\n",
       "      <td>0</td>\n",
       "      <td>8.0500</td>\n",
       "      <td>S</td>\n",
       "      <td>Mr.</td>\n",
       "    </tr>\n",
       "  </tbody>\n",
       "</table>\n",
       "</div>"
      ],
      "text/plain": [
       "   PassengerId  Survived  Pclass  \\\n",
       "0            1         0       3   \n",
       "1            2         1       1   \n",
       "2            3         1       3   \n",
       "3            4         1       1   \n",
       "4            5         0       3   \n",
       "\n",
       "                                                Name     Sex   Age  SibSp  \\\n",
       "0                            Braund, Mr. Owen Harris    male  22.0      1   \n",
       "1  Cumings, Mrs. John Bradley (Florence Briggs Th...  female  38.0      1   \n",
       "2                             Heikkinen, Miss. Laina  female  26.0      0   \n",
       "3       Futrelle, Mrs. Jacques Heath (Lily May Peel)  female  35.0      1   \n",
       "4                           Allen, Mr. William Henry    male  35.0      0   \n",
       "\n",
       "   Parch     Fare Embarked  Title  \n",
       "0      0   7.2500        S    Mr.  \n",
       "1      0  71.2833        C   Mrs.  \n",
       "2      0   7.9250        S  Miss.  \n",
       "3      0  53.1000        S   Mrs.  \n",
       "4      0   8.0500        S    Mr.  "
      ]
     },
     "execution_count": 1169,
     "metadata": {},
     "output_type": "execute_result"
    }
   ],
   "source": [
    "# Creating a new column and categorising the name data\n",
    "train['Title'] = [names.split(',')[1].split()[0] for names in train.Name]\n",
    "test['Title'] = [names.split(',')[1].split()[0] for names in test.Name]\n",
    "train.head()"
   ]
  },
  {
   "cell_type": "code",
   "execution_count": 1170,
   "metadata": {},
   "outputs": [
    {
     "data": {
      "text/html": [
       "<div>\n",
       "<style scoped>\n",
       "    .dataframe tbody tr th:only-of-type {\n",
       "        vertical-align: middle;\n",
       "    }\n",
       "\n",
       "    .dataframe tbody tr th {\n",
       "        vertical-align: top;\n",
       "    }\n",
       "\n",
       "    .dataframe thead th {\n",
       "        text-align: right;\n",
       "    }\n",
       "</style>\n",
       "<table border=\"1\" class=\"dataframe\">\n",
       "  <thead>\n",
       "    <tr style=\"text-align: right;\">\n",
       "      <th></th>\n",
       "      <th>PassengerId</th>\n",
       "      <th>Pclass</th>\n",
       "      <th>Name</th>\n",
       "      <th>Sex</th>\n",
       "      <th>Age</th>\n",
       "      <th>SibSp</th>\n",
       "      <th>Parch</th>\n",
       "      <th>Fare</th>\n",
       "      <th>Embarked</th>\n",
       "      <th>Title</th>\n",
       "    </tr>\n",
       "  </thead>\n",
       "  <tbody>\n",
       "    <tr>\n",
       "      <th>0</th>\n",
       "      <td>892</td>\n",
       "      <td>3</td>\n",
       "      <td>Kelly, Mr. James</td>\n",
       "      <td>male</td>\n",
       "      <td>34.5</td>\n",
       "      <td>0</td>\n",
       "      <td>0</td>\n",
       "      <td>7.8292</td>\n",
       "      <td>Q</td>\n",
       "      <td>Mr.</td>\n",
       "    </tr>\n",
       "    <tr>\n",
       "      <th>1</th>\n",
       "      <td>893</td>\n",
       "      <td>3</td>\n",
       "      <td>Wilkes, Mrs. James (Ellen Needs)</td>\n",
       "      <td>female</td>\n",
       "      <td>47.0</td>\n",
       "      <td>1</td>\n",
       "      <td>0</td>\n",
       "      <td>7.0000</td>\n",
       "      <td>S</td>\n",
       "      <td>Mrs.</td>\n",
       "    </tr>\n",
       "    <tr>\n",
       "      <th>2</th>\n",
       "      <td>894</td>\n",
       "      <td>2</td>\n",
       "      <td>Myles, Mr. Thomas Francis</td>\n",
       "      <td>male</td>\n",
       "      <td>62.0</td>\n",
       "      <td>0</td>\n",
       "      <td>0</td>\n",
       "      <td>9.6875</td>\n",
       "      <td>Q</td>\n",
       "      <td>Mr.</td>\n",
       "    </tr>\n",
       "    <tr>\n",
       "      <th>3</th>\n",
       "      <td>895</td>\n",
       "      <td>3</td>\n",
       "      <td>Wirz, Mr. Albert</td>\n",
       "      <td>male</td>\n",
       "      <td>27.0</td>\n",
       "      <td>0</td>\n",
       "      <td>0</td>\n",
       "      <td>8.6625</td>\n",
       "      <td>S</td>\n",
       "      <td>Mr.</td>\n",
       "    </tr>\n",
       "    <tr>\n",
       "      <th>4</th>\n",
       "      <td>896</td>\n",
       "      <td>3</td>\n",
       "      <td>Hirvonen, Mrs. Alexander (Helga E Lindqvist)</td>\n",
       "      <td>female</td>\n",
       "      <td>22.0</td>\n",
       "      <td>1</td>\n",
       "      <td>1</td>\n",
       "      <td>12.2875</td>\n",
       "      <td>S</td>\n",
       "      <td>Mrs.</td>\n",
       "    </tr>\n",
       "  </tbody>\n",
       "</table>\n",
       "</div>"
      ],
      "text/plain": [
       "   PassengerId  Pclass                                          Name     Sex  \\\n",
       "0          892       3                              Kelly, Mr. James    male   \n",
       "1          893       3              Wilkes, Mrs. James (Ellen Needs)  female   \n",
       "2          894       2                     Myles, Mr. Thomas Francis    male   \n",
       "3          895       3                              Wirz, Mr. Albert    male   \n",
       "4          896       3  Hirvonen, Mrs. Alexander (Helga E Lindqvist)  female   \n",
       "\n",
       "    Age  SibSp  Parch     Fare Embarked Title  \n",
       "0  34.5      0      0   7.8292        Q   Mr.  \n",
       "1  47.0      1      0   7.0000        S  Mrs.  \n",
       "2  62.0      0      0   9.6875        Q   Mr.  \n",
       "3  27.0      0      0   8.6625        S   Mr.  \n",
       "4  22.0      1      1  12.2875        S  Mrs.  "
      ]
     },
     "execution_count": 1170,
     "metadata": {},
     "output_type": "execute_result"
    }
   ],
   "source": [
    "test.head()"
   ]
  },
  {
   "cell_type": "code",
   "execution_count": 1171,
   "metadata": {},
   "outputs": [
    {
     "data": {
      "text/plain": [
       "((889, 11), (418, 10))"
      ]
     },
     "execution_count": 1171,
     "metadata": {},
     "output_type": "execute_result"
    }
   ],
   "source": [
    "train.shape,test.shape"
   ]
  },
  {
   "cell_type": "code",
   "execution_count": 1172,
   "metadata": {},
   "outputs": [
    {
     "data": {
      "text/plain": [
       "Mr.          517\n",
       "Miss.        181\n",
       "Mrs.         124\n",
       "Master.       40\n",
       "Dr.            7\n",
       "Rev.           6\n",
       "Col.           2\n",
       "Major.         2\n",
       "Mlle.          2\n",
       "Jonkheer.      1\n",
       "Lady.          1\n",
       "the            1\n",
       "Ms.            1\n",
       "Don.           1\n",
       "Mme.           1\n",
       "Sir.           1\n",
       "Capt.          1\n",
       "Name: Title, dtype: int64"
      ]
     },
     "execution_count": 1172,
     "metadata": {},
     "output_type": "execute_result"
    }
   ],
   "source": [
    "train.Title.value_counts()"
   ]
  },
  {
   "cell_type": "code",
   "execution_count": 1173,
   "metadata": {},
   "outputs": [
    {
     "data": {
      "text/html": [
       "<div>\n",
       "<style scoped>\n",
       "    .dataframe tbody tr th:only-of-type {\n",
       "        vertical-align: middle;\n",
       "    }\n",
       "\n",
       "    .dataframe tbody tr th {\n",
       "        vertical-align: top;\n",
       "    }\n",
       "\n",
       "    .dataframe thead th {\n",
       "        text-align: right;\n",
       "    }\n",
       "</style>\n",
       "<table border=\"1\" class=\"dataframe\">\n",
       "  <thead>\n",
       "    <tr style=\"text-align: right;\">\n",
       "      <th></th>\n",
       "      <th>PassengerId</th>\n",
       "      <th>Survived</th>\n",
       "      <th>Pclass</th>\n",
       "      <th>Sex</th>\n",
       "      <th>Age</th>\n",
       "      <th>SibSp</th>\n",
       "      <th>Parch</th>\n",
       "      <th>Fare</th>\n",
       "      <th>Embarked</th>\n",
       "      <th>Title</th>\n",
       "    </tr>\n",
       "  </thead>\n",
       "  <tbody>\n",
       "    <tr>\n",
       "      <th>0</th>\n",
       "      <td>1</td>\n",
       "      <td>0</td>\n",
       "      <td>3</td>\n",
       "      <td>male</td>\n",
       "      <td>22.0</td>\n",
       "      <td>1</td>\n",
       "      <td>0</td>\n",
       "      <td>7.2500</td>\n",
       "      <td>S</td>\n",
       "      <td>Mr.</td>\n",
       "    </tr>\n",
       "    <tr>\n",
       "      <th>1</th>\n",
       "      <td>2</td>\n",
       "      <td>1</td>\n",
       "      <td>1</td>\n",
       "      <td>female</td>\n",
       "      <td>38.0</td>\n",
       "      <td>1</td>\n",
       "      <td>0</td>\n",
       "      <td>71.2833</td>\n",
       "      <td>C</td>\n",
       "      <td>Mrs.</td>\n",
       "    </tr>\n",
       "    <tr>\n",
       "      <th>2</th>\n",
       "      <td>3</td>\n",
       "      <td>1</td>\n",
       "      <td>3</td>\n",
       "      <td>female</td>\n",
       "      <td>26.0</td>\n",
       "      <td>0</td>\n",
       "      <td>0</td>\n",
       "      <td>7.9250</td>\n",
       "      <td>S</td>\n",
       "      <td>Miss.</td>\n",
       "    </tr>\n",
       "    <tr>\n",
       "      <th>3</th>\n",
       "      <td>4</td>\n",
       "      <td>1</td>\n",
       "      <td>1</td>\n",
       "      <td>female</td>\n",
       "      <td>35.0</td>\n",
       "      <td>1</td>\n",
       "      <td>0</td>\n",
       "      <td>53.1000</td>\n",
       "      <td>S</td>\n",
       "      <td>Mrs.</td>\n",
       "    </tr>\n",
       "    <tr>\n",
       "      <th>4</th>\n",
       "      <td>5</td>\n",
       "      <td>0</td>\n",
       "      <td>3</td>\n",
       "      <td>male</td>\n",
       "      <td>35.0</td>\n",
       "      <td>0</td>\n",
       "      <td>0</td>\n",
       "      <td>8.0500</td>\n",
       "      <td>S</td>\n",
       "      <td>Mr.</td>\n",
       "    </tr>\n",
       "  </tbody>\n",
       "</table>\n",
       "</div>"
      ],
      "text/plain": [
       "   PassengerId  Survived  Pclass     Sex   Age  SibSp  Parch     Fare  \\\n",
       "0            1         0       3    male  22.0      1      0   7.2500   \n",
       "1            2         1       1  female  38.0      1      0  71.2833   \n",
       "2            3         1       3  female  26.0      0      0   7.9250   \n",
       "3            4         1       1  female  35.0      1      0  53.1000   \n",
       "4            5         0       3    male  35.0      0      0   8.0500   \n",
       "\n",
       "  Embarked  Title  \n",
       "0        S    Mr.  \n",
       "1        C   Mrs.  \n",
       "2        S  Miss.  \n",
       "3        S   Mrs.  \n",
       "4        S    Mr.  "
      ]
     },
     "execution_count": 1173,
     "metadata": {},
     "output_type": "execute_result"
    }
   ],
   "source": [
    "train = train.drop('Name',axis=1)\n",
    "test = test.drop('Name',axis=1)\n",
    "train.head()\n"
   ]
  },
  {
   "cell_type": "code",
   "execution_count": 1174,
   "metadata": {},
   "outputs": [
    {
     "data": {
      "text/html": [
       "<div>\n",
       "<style scoped>\n",
       "    .dataframe tbody tr th:only-of-type {\n",
       "        vertical-align: middle;\n",
       "    }\n",
       "\n",
       "    .dataframe tbody tr th {\n",
       "        vertical-align: top;\n",
       "    }\n",
       "\n",
       "    .dataframe thead th {\n",
       "        text-align: right;\n",
       "    }\n",
       "</style>\n",
       "<table border=\"1\" class=\"dataframe\">\n",
       "  <thead>\n",
       "    <tr style=\"text-align: right;\">\n",
       "      <th></th>\n",
       "      <th>PassengerId</th>\n",
       "      <th>Pclass</th>\n",
       "      <th>Sex</th>\n",
       "      <th>Age</th>\n",
       "      <th>SibSp</th>\n",
       "      <th>Parch</th>\n",
       "      <th>Fare</th>\n",
       "      <th>Embarked</th>\n",
       "      <th>Title</th>\n",
       "    </tr>\n",
       "  </thead>\n",
       "  <tbody>\n",
       "    <tr>\n",
       "      <th>0</th>\n",
       "      <td>892</td>\n",
       "      <td>3</td>\n",
       "      <td>male</td>\n",
       "      <td>34.5</td>\n",
       "      <td>0</td>\n",
       "      <td>0</td>\n",
       "      <td>7.8292</td>\n",
       "      <td>Q</td>\n",
       "      <td>Mr.</td>\n",
       "    </tr>\n",
       "    <tr>\n",
       "      <th>1</th>\n",
       "      <td>893</td>\n",
       "      <td>3</td>\n",
       "      <td>female</td>\n",
       "      <td>47.0</td>\n",
       "      <td>1</td>\n",
       "      <td>0</td>\n",
       "      <td>7.0000</td>\n",
       "      <td>S</td>\n",
       "      <td>Mrs.</td>\n",
       "    </tr>\n",
       "    <tr>\n",
       "      <th>2</th>\n",
       "      <td>894</td>\n",
       "      <td>2</td>\n",
       "      <td>male</td>\n",
       "      <td>62.0</td>\n",
       "      <td>0</td>\n",
       "      <td>0</td>\n",
       "      <td>9.6875</td>\n",
       "      <td>Q</td>\n",
       "      <td>Mr.</td>\n",
       "    </tr>\n",
       "    <tr>\n",
       "      <th>3</th>\n",
       "      <td>895</td>\n",
       "      <td>3</td>\n",
       "      <td>male</td>\n",
       "      <td>27.0</td>\n",
       "      <td>0</td>\n",
       "      <td>0</td>\n",
       "      <td>8.6625</td>\n",
       "      <td>S</td>\n",
       "      <td>Mr.</td>\n",
       "    </tr>\n",
       "    <tr>\n",
       "      <th>4</th>\n",
       "      <td>896</td>\n",
       "      <td>3</td>\n",
       "      <td>female</td>\n",
       "      <td>22.0</td>\n",
       "      <td>1</td>\n",
       "      <td>1</td>\n",
       "      <td>12.2875</td>\n",
       "      <td>S</td>\n",
       "      <td>Mrs.</td>\n",
       "    </tr>\n",
       "  </tbody>\n",
       "</table>\n",
       "</div>"
      ],
      "text/plain": [
       "   PassengerId  Pclass     Sex   Age  SibSp  Parch     Fare Embarked Title\n",
       "0          892       3    male  34.5      0      0   7.8292        Q   Mr.\n",
       "1          893       3  female  47.0      1      0   7.0000        S  Mrs.\n",
       "2          894       2    male  62.0      0      0   9.6875        Q   Mr.\n",
       "3          895       3    male  27.0      0      0   8.6625        S   Mr.\n",
       "4          896       3  female  22.0      1      1  12.2875        S  Mrs."
      ]
     },
     "execution_count": 1174,
     "metadata": {},
     "output_type": "execute_result"
    }
   ],
   "source": [
    "test.head()"
   ]
  },
  {
   "cell_type": "code",
   "execution_count": 1175,
   "metadata": {},
   "outputs": [
    {
     "data": {
      "text/plain": [
       "PassengerId    0\n",
       "Survived       0\n",
       "Pclass         0\n",
       "Sex            0\n",
       "Age            0\n",
       "SibSp          0\n",
       "Parch          0\n",
       "Fare           0\n",
       "Embarked       0\n",
       "Title          0\n",
       "dtype: int64"
      ]
     },
     "execution_count": 1175,
     "metadata": {},
     "output_type": "execute_result"
    }
   ],
   "source": [
    "train.isna().sum()"
   ]
  },
  {
   "cell_type": "code",
   "execution_count": 1176,
   "metadata": {},
   "outputs": [
    {
     "data": {
      "text/plain": [
       "PassengerId    0\n",
       "Pclass         0\n",
       "Sex            0\n",
       "Age            0\n",
       "SibSp          0\n",
       "Parch          0\n",
       "Fare           0\n",
       "Embarked       0\n",
       "Title          0\n",
       "dtype: int64"
      ]
     },
     "execution_count": 1176,
     "metadata": {},
     "output_type": "execute_result"
    }
   ],
   "source": [
    "test.isna().sum()"
   ]
  },
  {
   "cell_type": "code",
   "execution_count": 1177,
   "metadata": {},
   "outputs": [
    {
     "data": {
      "text/plain": [
       "PassengerId      int64\n",
       "Survived         int64\n",
       "Pclass           int64\n",
       "Sex             object\n",
       "Age            float64\n",
       "SibSp            int64\n",
       "Parch            int64\n",
       "Fare           float64\n",
       "Embarked        object\n",
       "Title           object\n",
       "dtype: object"
      ]
     },
     "execution_count": 1177,
     "metadata": {},
     "output_type": "execute_result"
    }
   ],
   "source": [
    "train.dtypes"
   ]
  },
  {
   "cell_type": "code",
   "execution_count": 1178,
   "metadata": {},
   "outputs": [
    {
     "data": {
      "text/plain": [
       "PassengerId      int64\n",
       "Pclass           int64\n",
       "Sex             object\n",
       "Age            float64\n",
       "SibSp            int64\n",
       "Parch            int64\n",
       "Fare           float64\n",
       "Embarked        object\n",
       "Title           object\n",
       "dtype: object"
      ]
     },
     "execution_count": 1178,
     "metadata": {},
     "output_type": "execute_result"
    }
   ],
   "source": [
    "test.dtypes"
   ]
  },
  {
   "cell_type": "markdown",
   "metadata": {},
   "source": [
    "## Turning data into Numbers:\n",
    "\n",
    "Since all the missing data have been filled and the required categories have been made. So, let's make our data Numerical."
   ]
  },
  {
   "cell_type": "code",
   "execution_count": 1179,
   "metadata": {},
   "outputs": [
    {
     "data": {
      "text/html": [
       "<div>\n",
       "<style scoped>\n",
       "    .dataframe tbody tr th:only-of-type {\n",
       "        vertical-align: middle;\n",
       "    }\n",
       "\n",
       "    .dataframe tbody tr th {\n",
       "        vertical-align: top;\n",
       "    }\n",
       "\n",
       "    .dataframe thead th {\n",
       "        text-align: right;\n",
       "    }\n",
       "</style>\n",
       "<table border=\"1\" class=\"dataframe\">\n",
       "  <thead>\n",
       "    <tr style=\"text-align: right;\">\n",
       "      <th></th>\n",
       "      <th>PassengerId</th>\n",
       "      <th>Survived</th>\n",
       "      <th>Pclass</th>\n",
       "      <th>Sex</th>\n",
       "      <th>Age</th>\n",
       "      <th>SibSp</th>\n",
       "      <th>Parch</th>\n",
       "      <th>Fare</th>\n",
       "      <th>Embarked</th>\n",
       "      <th>Title</th>\n",
       "    </tr>\n",
       "  </thead>\n",
       "  <tbody>\n",
       "    <tr>\n",
       "      <th>0</th>\n",
       "      <td>1</td>\n",
       "      <td>0</td>\n",
       "      <td>3</td>\n",
       "      <td>male</td>\n",
       "      <td>22.0</td>\n",
       "      <td>1</td>\n",
       "      <td>0</td>\n",
       "      <td>7.2500</td>\n",
       "      <td>S</td>\n",
       "      <td>Mr.</td>\n",
       "    </tr>\n",
       "    <tr>\n",
       "      <th>1</th>\n",
       "      <td>2</td>\n",
       "      <td>1</td>\n",
       "      <td>1</td>\n",
       "      <td>female</td>\n",
       "      <td>38.0</td>\n",
       "      <td>1</td>\n",
       "      <td>0</td>\n",
       "      <td>71.2833</td>\n",
       "      <td>C</td>\n",
       "      <td>Mrs.</td>\n",
       "    </tr>\n",
       "    <tr>\n",
       "      <th>2</th>\n",
       "      <td>3</td>\n",
       "      <td>1</td>\n",
       "      <td>3</td>\n",
       "      <td>female</td>\n",
       "      <td>26.0</td>\n",
       "      <td>0</td>\n",
       "      <td>0</td>\n",
       "      <td>7.9250</td>\n",
       "      <td>S</td>\n",
       "      <td>Miss.</td>\n",
       "    </tr>\n",
       "    <tr>\n",
       "      <th>3</th>\n",
       "      <td>4</td>\n",
       "      <td>1</td>\n",
       "      <td>1</td>\n",
       "      <td>female</td>\n",
       "      <td>35.0</td>\n",
       "      <td>1</td>\n",
       "      <td>0</td>\n",
       "      <td>53.1000</td>\n",
       "      <td>S</td>\n",
       "      <td>Mrs.</td>\n",
       "    </tr>\n",
       "    <tr>\n",
       "      <th>4</th>\n",
       "      <td>5</td>\n",
       "      <td>0</td>\n",
       "      <td>3</td>\n",
       "      <td>male</td>\n",
       "      <td>35.0</td>\n",
       "      <td>0</td>\n",
       "      <td>0</td>\n",
       "      <td>8.0500</td>\n",
       "      <td>S</td>\n",
       "      <td>Mr.</td>\n",
       "    </tr>\n",
       "  </tbody>\n",
       "</table>\n",
       "</div>"
      ],
      "text/plain": [
       "   PassengerId  Survived  Pclass     Sex   Age  SibSp  Parch     Fare  \\\n",
       "0            1         0       3    male  22.0      1      0   7.2500   \n",
       "1            2         1       1  female  38.0      1      0  71.2833   \n",
       "2            3         1       3  female  26.0      0      0   7.9250   \n",
       "3            4         1       1  female  35.0      1      0  53.1000   \n",
       "4            5         0       3    male  35.0      0      0   8.0500   \n",
       "\n",
       "  Embarked  Title  \n",
       "0        S    Mr.  \n",
       "1        C   Mrs.  \n",
       "2        S  Miss.  \n",
       "3        S   Mrs.  \n",
       "4        S    Mr.  "
      ]
     },
     "execution_count": 1179,
     "metadata": {},
     "output_type": "execute_result"
    }
   ],
   "source": [
    "train.head()"
   ]
  },
  {
   "cell_type": "code",
   "execution_count": 1180,
   "metadata": {},
   "outputs": [
    {
     "data": {
      "text/html": [
       "<div>\n",
       "<style scoped>\n",
       "    .dataframe tbody tr th:only-of-type {\n",
       "        vertical-align: middle;\n",
       "    }\n",
       "\n",
       "    .dataframe tbody tr th {\n",
       "        vertical-align: top;\n",
       "    }\n",
       "\n",
       "    .dataframe thead th {\n",
       "        text-align: right;\n",
       "    }\n",
       "</style>\n",
       "<table border=\"1\" class=\"dataframe\">\n",
       "  <thead>\n",
       "    <tr style=\"text-align: right;\">\n",
       "      <th></th>\n",
       "      <th>PassengerId</th>\n",
       "      <th>Survived</th>\n",
       "      <th>Pclass</th>\n",
       "      <th>Sex</th>\n",
       "      <th>Age</th>\n",
       "      <th>SibSp</th>\n",
       "      <th>Parch</th>\n",
       "      <th>Fare</th>\n",
       "      <th>Embarked</th>\n",
       "      <th>Title</th>\n",
       "    </tr>\n",
       "  </thead>\n",
       "  <tbody>\n",
       "    <tr>\n",
       "      <th>0</th>\n",
       "      <td>1</td>\n",
       "      <td>0</td>\n",
       "      <td>3</td>\n",
       "      <td>male</td>\n",
       "      <td>22.0</td>\n",
       "      <td>1</td>\n",
       "      <td>0</td>\n",
       "      <td>7.2500</td>\n",
       "      <td>S</td>\n",
       "      <td>Mr.</td>\n",
       "    </tr>\n",
       "    <tr>\n",
       "      <th>1</th>\n",
       "      <td>2</td>\n",
       "      <td>1</td>\n",
       "      <td>1</td>\n",
       "      <td>female</td>\n",
       "      <td>38.0</td>\n",
       "      <td>1</td>\n",
       "      <td>0</td>\n",
       "      <td>71.2833</td>\n",
       "      <td>C</td>\n",
       "      <td>Mrs.</td>\n",
       "    </tr>\n",
       "    <tr>\n",
       "      <th>2</th>\n",
       "      <td>3</td>\n",
       "      <td>1</td>\n",
       "      <td>3</td>\n",
       "      <td>female</td>\n",
       "      <td>26.0</td>\n",
       "      <td>0</td>\n",
       "      <td>0</td>\n",
       "      <td>7.9250</td>\n",
       "      <td>S</td>\n",
       "      <td>Miss.</td>\n",
       "    </tr>\n",
       "    <tr>\n",
       "      <th>3</th>\n",
       "      <td>4</td>\n",
       "      <td>1</td>\n",
       "      <td>1</td>\n",
       "      <td>female</td>\n",
       "      <td>35.0</td>\n",
       "      <td>1</td>\n",
       "      <td>0</td>\n",
       "      <td>53.1000</td>\n",
       "      <td>S</td>\n",
       "      <td>Mrs.</td>\n",
       "    </tr>\n",
       "    <tr>\n",
       "      <th>4</th>\n",
       "      <td>5</td>\n",
       "      <td>0</td>\n",
       "      <td>3</td>\n",
       "      <td>male</td>\n",
       "      <td>35.0</td>\n",
       "      <td>0</td>\n",
       "      <td>0</td>\n",
       "      <td>8.0500</td>\n",
       "      <td>S</td>\n",
       "      <td>Mr.</td>\n",
       "    </tr>\n",
       "  </tbody>\n",
       "</table>\n",
       "</div>"
      ],
      "text/plain": [
       "   PassengerId  Survived  Pclass     Sex   Age  SibSp  Parch     Fare  \\\n",
       "0            1         0       3    male  22.0      1      0   7.2500   \n",
       "1            2         1       1  female  38.0      1      0  71.2833   \n",
       "2            3         1       3  female  26.0      0      0   7.9250   \n",
       "3            4         1       1  female  35.0      1      0  53.1000   \n",
       "4            5         0       3    male  35.0      0      0   8.0500   \n",
       "\n",
       "  Embarked  Title  \n",
       "0        S    Mr.  \n",
       "1        C   Mrs.  \n",
       "2        S  Miss.  \n",
       "3        S   Mrs.  \n",
       "4        S    Mr.  "
      ]
     },
     "execution_count": 1180,
     "metadata": {},
     "output_type": "execute_result"
    }
   ],
   "source": [
    "train.head()"
   ]
  },
  {
   "cell_type": "code",
   "execution_count": 1181,
   "metadata": {},
   "outputs": [
    {
     "data": {
      "text/html": [
       "<div>\n",
       "<style scoped>\n",
       "    .dataframe tbody tr th:only-of-type {\n",
       "        vertical-align: middle;\n",
       "    }\n",
       "\n",
       "    .dataframe tbody tr th {\n",
       "        vertical-align: top;\n",
       "    }\n",
       "\n",
       "    .dataframe thead th {\n",
       "        text-align: right;\n",
       "    }\n",
       "</style>\n",
       "<table border=\"1\" class=\"dataframe\">\n",
       "  <thead>\n",
       "    <tr style=\"text-align: right;\">\n",
       "      <th></th>\n",
       "      <th>PassengerId</th>\n",
       "      <th>Pclass</th>\n",
       "      <th>Sex</th>\n",
       "      <th>Age</th>\n",
       "      <th>SibSp</th>\n",
       "      <th>Parch</th>\n",
       "      <th>Fare</th>\n",
       "      <th>Embarked</th>\n",
       "      <th>Title</th>\n",
       "    </tr>\n",
       "  </thead>\n",
       "  <tbody>\n",
       "    <tr>\n",
       "      <th>0</th>\n",
       "      <td>892</td>\n",
       "      <td>3</td>\n",
       "      <td>male</td>\n",
       "      <td>34.5</td>\n",
       "      <td>0</td>\n",
       "      <td>0</td>\n",
       "      <td>7.8292</td>\n",
       "      <td>Q</td>\n",
       "      <td>Mr.</td>\n",
       "    </tr>\n",
       "    <tr>\n",
       "      <th>1</th>\n",
       "      <td>893</td>\n",
       "      <td>3</td>\n",
       "      <td>female</td>\n",
       "      <td>47.0</td>\n",
       "      <td>1</td>\n",
       "      <td>0</td>\n",
       "      <td>7.0000</td>\n",
       "      <td>S</td>\n",
       "      <td>Mrs.</td>\n",
       "    </tr>\n",
       "    <tr>\n",
       "      <th>2</th>\n",
       "      <td>894</td>\n",
       "      <td>2</td>\n",
       "      <td>male</td>\n",
       "      <td>62.0</td>\n",
       "      <td>0</td>\n",
       "      <td>0</td>\n",
       "      <td>9.6875</td>\n",
       "      <td>Q</td>\n",
       "      <td>Mr.</td>\n",
       "    </tr>\n",
       "    <tr>\n",
       "      <th>3</th>\n",
       "      <td>895</td>\n",
       "      <td>3</td>\n",
       "      <td>male</td>\n",
       "      <td>27.0</td>\n",
       "      <td>0</td>\n",
       "      <td>0</td>\n",
       "      <td>8.6625</td>\n",
       "      <td>S</td>\n",
       "      <td>Mr.</td>\n",
       "    </tr>\n",
       "    <tr>\n",
       "      <th>4</th>\n",
       "      <td>896</td>\n",
       "      <td>3</td>\n",
       "      <td>female</td>\n",
       "      <td>22.0</td>\n",
       "      <td>1</td>\n",
       "      <td>1</td>\n",
       "      <td>12.2875</td>\n",
       "      <td>S</td>\n",
       "      <td>Mrs.</td>\n",
       "    </tr>\n",
       "  </tbody>\n",
       "</table>\n",
       "</div>"
      ],
      "text/plain": [
       "   PassengerId  Pclass     Sex   Age  SibSp  Parch     Fare Embarked Title\n",
       "0          892       3    male  34.5      0      0   7.8292        Q   Mr.\n",
       "1          893       3  female  47.0      1      0   7.0000        S  Mrs.\n",
       "2          894       2    male  62.0      0      0   9.6875        Q   Mr.\n",
       "3          895       3    male  27.0      0      0   8.6625        S   Mr.\n",
       "4          896       3  female  22.0      1      1  12.2875        S  Mrs."
      ]
     },
     "execution_count": 1181,
     "metadata": {},
     "output_type": "execute_result"
    }
   ],
   "source": [
    "test.head()"
   ]
  },
  {
   "cell_type": "code",
   "execution_count": 1182,
   "metadata": {},
   "outputs": [
    {
     "data": {
      "text/plain": [
       "Index(['PassengerId', 'Pclass', 'Sex', 'Age', 'SibSp', 'Parch', 'Fare',\n",
       "       'Embarked', 'Title'],\n",
       "      dtype='object')"
      ]
     },
     "execution_count": 1182,
     "metadata": {},
     "output_type": "execute_result"
    }
   ],
   "source": [
    "test.columns"
   ]
  },
  {
   "cell_type": "code",
   "execution_count": 1183,
   "metadata": {},
   "outputs": [
    {
     "data": {
      "text/plain": [
       "Index(['PassengerId', 'Survived', 'Pclass', 'Sex', 'Age', 'SibSp', 'Parch',\n",
       "       'Fare', 'Embarked', 'Title'],\n",
       "      dtype='object')"
      ]
     },
     "execution_count": 1183,
     "metadata": {},
     "output_type": "execute_result"
    }
   ],
   "source": [
    "train.columns"
   ]
  },
  {
   "cell_type": "code",
   "execution_count": 1184,
   "metadata": {},
   "outputs": [
    {
     "data": {
      "text/plain": [
       "0      0\n",
       "1      1\n",
       "2      1\n",
       "3      1\n",
       "4      0\n",
       "      ..\n",
       "886    0\n",
       "887    1\n",
       "888    0\n",
       "889    1\n",
       "890    0\n",
       "Name: Survived, Length: 889, dtype: int64"
      ]
     },
     "execution_count": 1184,
     "metadata": {},
     "output_type": "execute_result"
    }
   ],
   "source": [
    "survived = train.Survived\n",
    "survived"
   ]
  },
  {
   "cell_type": "code",
   "execution_count": 1185,
   "metadata": {},
   "outputs": [
    {
     "data": {
      "text/html": [
       "<div>\n",
       "<style scoped>\n",
       "    .dataframe tbody tr th:only-of-type {\n",
       "        vertical-align: middle;\n",
       "    }\n",
       "\n",
       "    .dataframe tbody tr th {\n",
       "        vertical-align: top;\n",
       "    }\n",
       "\n",
       "    .dataframe thead th {\n",
       "        text-align: right;\n",
       "    }\n",
       "</style>\n",
       "<table border=\"1\" class=\"dataframe\">\n",
       "  <thead>\n",
       "    <tr style=\"text-align: right;\">\n",
       "      <th></th>\n",
       "      <th>0</th>\n",
       "      <th>1</th>\n",
       "      <th>2</th>\n",
       "      <th>3</th>\n",
       "      <th>4</th>\n",
       "    </tr>\n",
       "  </thead>\n",
       "  <tbody>\n",
       "    <tr>\n",
       "      <th>PassengerId</th>\n",
       "      <td>892.0000</td>\n",
       "      <td>893.0</td>\n",
       "      <td>894.0000</td>\n",
       "      <td>895.0000</td>\n",
       "      <td>896.0000</td>\n",
       "    </tr>\n",
       "    <tr>\n",
       "      <th>Pclass</th>\n",
       "      <td>3.0000</td>\n",
       "      <td>3.0</td>\n",
       "      <td>2.0000</td>\n",
       "      <td>3.0000</td>\n",
       "      <td>3.0000</td>\n",
       "    </tr>\n",
       "    <tr>\n",
       "      <th>Age</th>\n",
       "      <td>34.5000</td>\n",
       "      <td>47.0</td>\n",
       "      <td>62.0000</td>\n",
       "      <td>27.0000</td>\n",
       "      <td>22.0000</td>\n",
       "    </tr>\n",
       "    <tr>\n",
       "      <th>SibSp</th>\n",
       "      <td>0.0000</td>\n",
       "      <td>1.0</td>\n",
       "      <td>0.0000</td>\n",
       "      <td>0.0000</td>\n",
       "      <td>1.0000</td>\n",
       "    </tr>\n",
       "    <tr>\n",
       "      <th>Parch</th>\n",
       "      <td>0.0000</td>\n",
       "      <td>0.0</td>\n",
       "      <td>0.0000</td>\n",
       "      <td>0.0000</td>\n",
       "      <td>1.0000</td>\n",
       "    </tr>\n",
       "    <tr>\n",
       "      <th>Fare</th>\n",
       "      <td>7.8292</td>\n",
       "      <td>7.0</td>\n",
       "      <td>9.6875</td>\n",
       "      <td>8.6625</td>\n",
       "      <td>12.2875</td>\n",
       "    </tr>\n",
       "    <tr>\n",
       "      <th>Sex_female</th>\n",
       "      <td>0.0000</td>\n",
       "      <td>1.0</td>\n",
       "      <td>0.0000</td>\n",
       "      <td>0.0000</td>\n",
       "      <td>1.0000</td>\n",
       "    </tr>\n",
       "    <tr>\n",
       "      <th>Sex_male</th>\n",
       "      <td>1.0000</td>\n",
       "      <td>0.0</td>\n",
       "      <td>1.0000</td>\n",
       "      <td>1.0000</td>\n",
       "      <td>0.0000</td>\n",
       "    </tr>\n",
       "    <tr>\n",
       "      <th>Embarked_C</th>\n",
       "      <td>0.0000</td>\n",
       "      <td>0.0</td>\n",
       "      <td>0.0000</td>\n",
       "      <td>0.0000</td>\n",
       "      <td>0.0000</td>\n",
       "    </tr>\n",
       "    <tr>\n",
       "      <th>Embarked_Q</th>\n",
       "      <td>1.0000</td>\n",
       "      <td>0.0</td>\n",
       "      <td>1.0000</td>\n",
       "      <td>0.0000</td>\n",
       "      <td>0.0000</td>\n",
       "    </tr>\n",
       "    <tr>\n",
       "      <th>Embarked_S</th>\n",
       "      <td>0.0000</td>\n",
       "      <td>1.0</td>\n",
       "      <td>0.0000</td>\n",
       "      <td>1.0000</td>\n",
       "      <td>1.0000</td>\n",
       "    </tr>\n",
       "    <tr>\n",
       "      <th>Title_Col.</th>\n",
       "      <td>0.0000</td>\n",
       "      <td>0.0</td>\n",
       "      <td>0.0000</td>\n",
       "      <td>0.0000</td>\n",
       "      <td>0.0000</td>\n",
       "    </tr>\n",
       "    <tr>\n",
       "      <th>Title_Dona.</th>\n",
       "      <td>0.0000</td>\n",
       "      <td>0.0</td>\n",
       "      <td>0.0000</td>\n",
       "      <td>0.0000</td>\n",
       "      <td>0.0000</td>\n",
       "    </tr>\n",
       "    <tr>\n",
       "      <th>Title_Dr.</th>\n",
       "      <td>0.0000</td>\n",
       "      <td>0.0</td>\n",
       "      <td>0.0000</td>\n",
       "      <td>0.0000</td>\n",
       "      <td>0.0000</td>\n",
       "    </tr>\n",
       "    <tr>\n",
       "      <th>Title_Master.</th>\n",
       "      <td>0.0000</td>\n",
       "      <td>0.0</td>\n",
       "      <td>0.0000</td>\n",
       "      <td>0.0000</td>\n",
       "      <td>0.0000</td>\n",
       "    </tr>\n",
       "    <tr>\n",
       "      <th>Title_Miss.</th>\n",
       "      <td>0.0000</td>\n",
       "      <td>0.0</td>\n",
       "      <td>0.0000</td>\n",
       "      <td>0.0000</td>\n",
       "      <td>0.0000</td>\n",
       "    </tr>\n",
       "    <tr>\n",
       "      <th>Title_Mr.</th>\n",
       "      <td>1.0000</td>\n",
       "      <td>0.0</td>\n",
       "      <td>1.0000</td>\n",
       "      <td>1.0000</td>\n",
       "      <td>0.0000</td>\n",
       "    </tr>\n",
       "    <tr>\n",
       "      <th>Title_Mrs.</th>\n",
       "      <td>0.0000</td>\n",
       "      <td>1.0</td>\n",
       "      <td>0.0000</td>\n",
       "      <td>0.0000</td>\n",
       "      <td>1.0000</td>\n",
       "    </tr>\n",
       "    <tr>\n",
       "      <th>Title_Ms.</th>\n",
       "      <td>0.0000</td>\n",
       "      <td>0.0</td>\n",
       "      <td>0.0000</td>\n",
       "      <td>0.0000</td>\n",
       "      <td>0.0000</td>\n",
       "    </tr>\n",
       "    <tr>\n",
       "      <th>Title_Rev.</th>\n",
       "      <td>0.0000</td>\n",
       "      <td>0.0</td>\n",
       "      <td>0.0000</td>\n",
       "      <td>0.0000</td>\n",
       "      <td>0.0000</td>\n",
       "    </tr>\n",
       "  </tbody>\n",
       "</table>\n",
       "</div>"
      ],
      "text/plain": [
       "                      0      1         2         3         4\n",
       "PassengerId    892.0000  893.0  894.0000  895.0000  896.0000\n",
       "Pclass           3.0000    3.0    2.0000    3.0000    3.0000\n",
       "Age             34.5000   47.0   62.0000   27.0000   22.0000\n",
       "SibSp            0.0000    1.0    0.0000    0.0000    1.0000\n",
       "Parch            0.0000    0.0    0.0000    0.0000    1.0000\n",
       "Fare             7.8292    7.0    9.6875    8.6625   12.2875\n",
       "Sex_female       0.0000    1.0    0.0000    0.0000    1.0000\n",
       "Sex_male         1.0000    0.0    1.0000    1.0000    0.0000\n",
       "Embarked_C       0.0000    0.0    0.0000    0.0000    0.0000\n",
       "Embarked_Q       1.0000    0.0    1.0000    0.0000    0.0000\n",
       "Embarked_S       0.0000    1.0    0.0000    1.0000    1.0000\n",
       "Title_Col.       0.0000    0.0    0.0000    0.0000    0.0000\n",
       "Title_Dona.      0.0000    0.0    0.0000    0.0000    0.0000\n",
       "Title_Dr.        0.0000    0.0    0.0000    0.0000    0.0000\n",
       "Title_Master.    0.0000    0.0    0.0000    0.0000    0.0000\n",
       "Title_Miss.      0.0000    0.0    0.0000    0.0000    0.0000\n",
       "Title_Mr.        1.0000    0.0    1.0000    1.0000    0.0000\n",
       "Title_Mrs.       0.0000    1.0    0.0000    0.0000    1.0000\n",
       "Title_Ms.        0.0000    0.0    0.0000    0.0000    0.0000\n",
       "Title_Rev.       0.0000    0.0    0.0000    0.0000    0.0000"
      ]
     },
     "execution_count": 1185,
     "metadata": {},
     "output_type": "execute_result"
    }
   ],
   "source": [
    "test = pd.get_dummies(test[test.columns])\n",
    "test.head().T\n"
   ]
  },
  {
   "cell_type": "code",
   "execution_count": 1186,
   "metadata": {},
   "outputs": [
    {
     "data": {
      "text/plain": [
       "Index(['PassengerId', 'Pclass', 'Age', 'SibSp', 'Parch', 'Fare', 'Sex_female',\n",
       "       'Sex_male', 'Embarked_C', 'Embarked_Q', 'Embarked_S', 'Title_Col.',\n",
       "       'Title_Dona.', 'Title_Dr.', 'Title_Master.', 'Title_Miss.', 'Title_Mr.',\n",
       "       'Title_Mrs.', 'Title_Ms.', 'Title_Rev.'],\n",
       "      dtype='object')"
      ]
     },
     "execution_count": 1186,
     "metadata": {},
     "output_type": "execute_result"
    }
   ],
   "source": [
    "test.columns"
   ]
  },
  {
   "cell_type": "code",
   "execution_count": 1187,
   "metadata": {},
   "outputs": [
    {
     "data": {
      "text/plain": [
       "(418, 20)"
      ]
     },
     "execution_count": 1187,
     "metadata": {},
     "output_type": "execute_result"
    }
   ],
   "source": [
    "test.shape"
   ]
  },
  {
   "cell_type": "code",
   "execution_count": 1188,
   "metadata": {},
   "outputs": [
    {
     "data": {
      "text/plain": [
       "(418, 19)"
      ]
     },
     "execution_count": 1188,
     "metadata": {},
     "output_type": "execute_result"
    }
   ],
   "source": [
    "test = test.drop('Title_Dona.',axis=1)\n",
    "test.shape"
   ]
  },
  {
   "cell_type": "code",
   "execution_count": 1194,
   "metadata": {},
   "outputs": [],
   "source": [
    "columns = test.columns"
   ]
  },
  {
   "cell_type": "code",
   "execution_count": 1189,
   "metadata": {},
   "outputs": [
    {
     "data": {
      "text/plain": [
       "(889, 10)"
      ]
     },
     "execution_count": 1189,
     "metadata": {},
     "output_type": "execute_result"
    }
   ],
   "source": [
    "train.shape"
   ]
  },
  {
   "cell_type": "code",
   "execution_count": 1197,
   "metadata": {},
   "outputs": [
    {
     "data": {
      "text/html": [
       "<div>\n",
       "<style scoped>\n",
       "    .dataframe tbody tr th:only-of-type {\n",
       "        vertical-align: middle;\n",
       "    }\n",
       "\n",
       "    .dataframe tbody tr th {\n",
       "        vertical-align: top;\n",
       "    }\n",
       "\n",
       "    .dataframe thead th {\n",
       "        text-align: right;\n",
       "    }\n",
       "</style>\n",
       "<table border=\"1\" class=\"dataframe\">\n",
       "  <thead>\n",
       "    <tr style=\"text-align: right;\">\n",
       "      <th></th>\n",
       "      <th>0</th>\n",
       "      <th>1</th>\n",
       "      <th>2</th>\n",
       "      <th>3</th>\n",
       "      <th>4</th>\n",
       "    </tr>\n",
       "  </thead>\n",
       "  <tbody>\n",
       "    <tr>\n",
       "      <th>PassengerId</th>\n",
       "      <td>1.00</td>\n",
       "      <td>2.0000</td>\n",
       "      <td>3.000</td>\n",
       "      <td>4.0</td>\n",
       "      <td>5.00</td>\n",
       "    </tr>\n",
       "    <tr>\n",
       "      <th>Survived</th>\n",
       "      <td>0.00</td>\n",
       "      <td>1.0000</td>\n",
       "      <td>1.000</td>\n",
       "      <td>1.0</td>\n",
       "      <td>0.00</td>\n",
       "    </tr>\n",
       "    <tr>\n",
       "      <th>Pclass</th>\n",
       "      <td>3.00</td>\n",
       "      <td>1.0000</td>\n",
       "      <td>3.000</td>\n",
       "      <td>1.0</td>\n",
       "      <td>3.00</td>\n",
       "    </tr>\n",
       "    <tr>\n",
       "      <th>Age</th>\n",
       "      <td>22.00</td>\n",
       "      <td>38.0000</td>\n",
       "      <td>26.000</td>\n",
       "      <td>35.0</td>\n",
       "      <td>35.00</td>\n",
       "    </tr>\n",
       "    <tr>\n",
       "      <th>SibSp</th>\n",
       "      <td>1.00</td>\n",
       "      <td>1.0000</td>\n",
       "      <td>0.000</td>\n",
       "      <td>1.0</td>\n",
       "      <td>0.00</td>\n",
       "    </tr>\n",
       "    <tr>\n",
       "      <th>Parch</th>\n",
       "      <td>0.00</td>\n",
       "      <td>0.0000</td>\n",
       "      <td>0.000</td>\n",
       "      <td>0.0</td>\n",
       "      <td>0.00</td>\n",
       "    </tr>\n",
       "    <tr>\n",
       "      <th>Fare</th>\n",
       "      <td>7.25</td>\n",
       "      <td>71.2833</td>\n",
       "      <td>7.925</td>\n",
       "      <td>53.1</td>\n",
       "      <td>8.05</td>\n",
       "    </tr>\n",
       "    <tr>\n",
       "      <th>Sex_female</th>\n",
       "      <td>0.00</td>\n",
       "      <td>1.0000</td>\n",
       "      <td>1.000</td>\n",
       "      <td>1.0</td>\n",
       "      <td>0.00</td>\n",
       "    </tr>\n",
       "    <tr>\n",
       "      <th>Sex_male</th>\n",
       "      <td>1.00</td>\n",
       "      <td>0.0000</td>\n",
       "      <td>0.000</td>\n",
       "      <td>0.0</td>\n",
       "      <td>1.00</td>\n",
       "    </tr>\n",
       "    <tr>\n",
       "      <th>Embarked_C</th>\n",
       "      <td>0.00</td>\n",
       "      <td>1.0000</td>\n",
       "      <td>0.000</td>\n",
       "      <td>0.0</td>\n",
       "      <td>0.00</td>\n",
       "    </tr>\n",
       "    <tr>\n",
       "      <th>Embarked_Q</th>\n",
       "      <td>0.00</td>\n",
       "      <td>0.0000</td>\n",
       "      <td>0.000</td>\n",
       "      <td>0.0</td>\n",
       "      <td>0.00</td>\n",
       "    </tr>\n",
       "    <tr>\n",
       "      <th>Embarked_S</th>\n",
       "      <td>1.00</td>\n",
       "      <td>0.0000</td>\n",
       "      <td>1.000</td>\n",
       "      <td>1.0</td>\n",
       "      <td>1.00</td>\n",
       "    </tr>\n",
       "    <tr>\n",
       "      <th>Title_Capt.</th>\n",
       "      <td>0.00</td>\n",
       "      <td>0.0000</td>\n",
       "      <td>0.000</td>\n",
       "      <td>0.0</td>\n",
       "      <td>0.00</td>\n",
       "    </tr>\n",
       "    <tr>\n",
       "      <th>Title_Col.</th>\n",
       "      <td>0.00</td>\n",
       "      <td>0.0000</td>\n",
       "      <td>0.000</td>\n",
       "      <td>0.0</td>\n",
       "      <td>0.00</td>\n",
       "    </tr>\n",
       "    <tr>\n",
       "      <th>Title_Don.</th>\n",
       "      <td>0.00</td>\n",
       "      <td>0.0000</td>\n",
       "      <td>0.000</td>\n",
       "      <td>0.0</td>\n",
       "      <td>0.00</td>\n",
       "    </tr>\n",
       "    <tr>\n",
       "      <th>Title_Dr.</th>\n",
       "      <td>0.00</td>\n",
       "      <td>0.0000</td>\n",
       "      <td>0.000</td>\n",
       "      <td>0.0</td>\n",
       "      <td>0.00</td>\n",
       "    </tr>\n",
       "    <tr>\n",
       "      <th>Title_Jonkheer.</th>\n",
       "      <td>0.00</td>\n",
       "      <td>0.0000</td>\n",
       "      <td>0.000</td>\n",
       "      <td>0.0</td>\n",
       "      <td>0.00</td>\n",
       "    </tr>\n",
       "    <tr>\n",
       "      <th>Title_Lady.</th>\n",
       "      <td>0.00</td>\n",
       "      <td>0.0000</td>\n",
       "      <td>0.000</td>\n",
       "      <td>0.0</td>\n",
       "      <td>0.00</td>\n",
       "    </tr>\n",
       "    <tr>\n",
       "      <th>Title_Major.</th>\n",
       "      <td>0.00</td>\n",
       "      <td>0.0000</td>\n",
       "      <td>0.000</td>\n",
       "      <td>0.0</td>\n",
       "      <td>0.00</td>\n",
       "    </tr>\n",
       "    <tr>\n",
       "      <th>Title_Master.</th>\n",
       "      <td>0.00</td>\n",
       "      <td>0.0000</td>\n",
       "      <td>0.000</td>\n",
       "      <td>0.0</td>\n",
       "      <td>0.00</td>\n",
       "    </tr>\n",
       "    <tr>\n",
       "      <th>Title_Miss.</th>\n",
       "      <td>0.00</td>\n",
       "      <td>0.0000</td>\n",
       "      <td>1.000</td>\n",
       "      <td>0.0</td>\n",
       "      <td>0.00</td>\n",
       "    </tr>\n",
       "    <tr>\n",
       "      <th>Title_Mlle.</th>\n",
       "      <td>0.00</td>\n",
       "      <td>0.0000</td>\n",
       "      <td>0.000</td>\n",
       "      <td>0.0</td>\n",
       "      <td>0.00</td>\n",
       "    </tr>\n",
       "    <tr>\n",
       "      <th>Title_Mme.</th>\n",
       "      <td>0.00</td>\n",
       "      <td>0.0000</td>\n",
       "      <td>0.000</td>\n",
       "      <td>0.0</td>\n",
       "      <td>0.00</td>\n",
       "    </tr>\n",
       "    <tr>\n",
       "      <th>Title_Mr.</th>\n",
       "      <td>1.00</td>\n",
       "      <td>0.0000</td>\n",
       "      <td>0.000</td>\n",
       "      <td>0.0</td>\n",
       "      <td>1.00</td>\n",
       "    </tr>\n",
       "    <tr>\n",
       "      <th>Title_Mrs.</th>\n",
       "      <td>0.00</td>\n",
       "      <td>1.0000</td>\n",
       "      <td>0.000</td>\n",
       "      <td>1.0</td>\n",
       "      <td>0.00</td>\n",
       "    </tr>\n",
       "    <tr>\n",
       "      <th>Title_Ms.</th>\n",
       "      <td>0.00</td>\n",
       "      <td>0.0000</td>\n",
       "      <td>0.000</td>\n",
       "      <td>0.0</td>\n",
       "      <td>0.00</td>\n",
       "    </tr>\n",
       "    <tr>\n",
       "      <th>Title_Rev.</th>\n",
       "      <td>0.00</td>\n",
       "      <td>0.0000</td>\n",
       "      <td>0.000</td>\n",
       "      <td>0.0</td>\n",
       "      <td>0.00</td>\n",
       "    </tr>\n",
       "    <tr>\n",
       "      <th>Title_Sir.</th>\n",
       "      <td>0.00</td>\n",
       "      <td>0.0000</td>\n",
       "      <td>0.000</td>\n",
       "      <td>0.0</td>\n",
       "      <td>0.00</td>\n",
       "    </tr>\n",
       "    <tr>\n",
       "      <th>Title_the</th>\n",
       "      <td>0.00</td>\n",
       "      <td>0.0000</td>\n",
       "      <td>0.000</td>\n",
       "      <td>0.0</td>\n",
       "      <td>0.00</td>\n",
       "    </tr>\n",
       "  </tbody>\n",
       "</table>\n",
       "</div>"
      ],
      "text/plain": [
       "                     0        1       2     3      4\n",
       "PassengerId       1.00   2.0000   3.000   4.0   5.00\n",
       "Survived          0.00   1.0000   1.000   1.0   0.00\n",
       "Pclass            3.00   1.0000   3.000   1.0   3.00\n",
       "Age              22.00  38.0000  26.000  35.0  35.00\n",
       "SibSp             1.00   1.0000   0.000   1.0   0.00\n",
       "Parch             0.00   0.0000   0.000   0.0   0.00\n",
       "Fare              7.25  71.2833   7.925  53.1   8.05\n",
       "Sex_female        0.00   1.0000   1.000   1.0   0.00\n",
       "Sex_male          1.00   0.0000   0.000   0.0   1.00\n",
       "Embarked_C        0.00   1.0000   0.000   0.0   0.00\n",
       "Embarked_Q        0.00   0.0000   0.000   0.0   0.00\n",
       "Embarked_S        1.00   0.0000   1.000   1.0   1.00\n",
       "Title_Capt.       0.00   0.0000   0.000   0.0   0.00\n",
       "Title_Col.        0.00   0.0000   0.000   0.0   0.00\n",
       "Title_Don.        0.00   0.0000   0.000   0.0   0.00\n",
       "Title_Dr.         0.00   0.0000   0.000   0.0   0.00\n",
       "Title_Jonkheer.   0.00   0.0000   0.000   0.0   0.00\n",
       "Title_Lady.       0.00   0.0000   0.000   0.0   0.00\n",
       "Title_Major.      0.00   0.0000   0.000   0.0   0.00\n",
       "Title_Master.     0.00   0.0000   0.000   0.0   0.00\n",
       "Title_Miss.       0.00   0.0000   1.000   0.0   0.00\n",
       "Title_Mlle.       0.00   0.0000   0.000   0.0   0.00\n",
       "Title_Mme.        0.00   0.0000   0.000   0.0   0.00\n",
       "Title_Mr.         1.00   0.0000   0.000   0.0   1.00\n",
       "Title_Mrs.        0.00   1.0000   0.000   1.0   0.00\n",
       "Title_Ms.         0.00   0.0000   0.000   0.0   0.00\n",
       "Title_Rev.        0.00   0.0000   0.000   0.0   0.00\n",
       "Title_Sir.        0.00   0.0000   0.000   0.0   0.00\n",
       "Title_the         0.00   0.0000   0.000   0.0   0.00"
      ]
     },
     "execution_count": 1197,
     "metadata": {},
     "output_type": "execute_result"
    }
   ],
   "source": [
    "train = pd.get_dummies(train[train.columns])\n",
    "train.head().T\n"
   ]
  },
  {
   "cell_type": "code",
   "execution_count": 1198,
   "metadata": {},
   "outputs": [],
   "source": [
    "train = pd.get_dummies(train[test.columns])"
   ]
  },
  {
   "cell_type": "code",
   "execution_count": 1199,
   "metadata": {},
   "outputs": [
    {
     "data": {
      "text/html": [
       "<div>\n",
       "<style scoped>\n",
       "    .dataframe tbody tr th:only-of-type {\n",
       "        vertical-align: middle;\n",
       "    }\n",
       "\n",
       "    .dataframe tbody tr th {\n",
       "        vertical-align: top;\n",
       "    }\n",
       "\n",
       "    .dataframe thead th {\n",
       "        text-align: right;\n",
       "    }\n",
       "</style>\n",
       "<table border=\"1\" class=\"dataframe\">\n",
       "  <thead>\n",
       "    <tr style=\"text-align: right;\">\n",
       "      <th></th>\n",
       "      <th>PassengerId</th>\n",
       "      <th>Pclass</th>\n",
       "      <th>Age</th>\n",
       "      <th>SibSp</th>\n",
       "      <th>Parch</th>\n",
       "      <th>Fare</th>\n",
       "      <th>Sex_female</th>\n",
       "      <th>Sex_male</th>\n",
       "      <th>Embarked_C</th>\n",
       "      <th>Embarked_Q</th>\n",
       "      <th>Embarked_S</th>\n",
       "      <th>Title_Col.</th>\n",
       "      <th>Title_Dr.</th>\n",
       "      <th>Title_Master.</th>\n",
       "      <th>Title_Miss.</th>\n",
       "      <th>Title_Mr.</th>\n",
       "      <th>Title_Mrs.</th>\n",
       "      <th>Title_Ms.</th>\n",
       "      <th>Title_Rev.</th>\n",
       "      <th>Survived</th>\n",
       "    </tr>\n",
       "  </thead>\n",
       "  <tbody>\n",
       "    <tr>\n",
       "      <th>0</th>\n",
       "      <td>1</td>\n",
       "      <td>3</td>\n",
       "      <td>22.0</td>\n",
       "      <td>1</td>\n",
       "      <td>0</td>\n",
       "      <td>7.2500</td>\n",
       "      <td>0</td>\n",
       "      <td>1</td>\n",
       "      <td>0</td>\n",
       "      <td>0</td>\n",
       "      <td>1</td>\n",
       "      <td>0</td>\n",
       "      <td>0</td>\n",
       "      <td>0</td>\n",
       "      <td>0</td>\n",
       "      <td>1</td>\n",
       "      <td>0</td>\n",
       "      <td>0</td>\n",
       "      <td>0</td>\n",
       "      <td>0</td>\n",
       "    </tr>\n",
       "    <tr>\n",
       "      <th>1</th>\n",
       "      <td>2</td>\n",
       "      <td>1</td>\n",
       "      <td>38.0</td>\n",
       "      <td>1</td>\n",
       "      <td>0</td>\n",
       "      <td>71.2833</td>\n",
       "      <td>1</td>\n",
       "      <td>0</td>\n",
       "      <td>1</td>\n",
       "      <td>0</td>\n",
       "      <td>0</td>\n",
       "      <td>0</td>\n",
       "      <td>0</td>\n",
       "      <td>0</td>\n",
       "      <td>0</td>\n",
       "      <td>0</td>\n",
       "      <td>1</td>\n",
       "      <td>0</td>\n",
       "      <td>0</td>\n",
       "      <td>1</td>\n",
       "    </tr>\n",
       "    <tr>\n",
       "      <th>2</th>\n",
       "      <td>3</td>\n",
       "      <td>3</td>\n",
       "      <td>26.0</td>\n",
       "      <td>0</td>\n",
       "      <td>0</td>\n",
       "      <td>7.9250</td>\n",
       "      <td>1</td>\n",
       "      <td>0</td>\n",
       "      <td>0</td>\n",
       "      <td>0</td>\n",
       "      <td>1</td>\n",
       "      <td>0</td>\n",
       "      <td>0</td>\n",
       "      <td>0</td>\n",
       "      <td>1</td>\n",
       "      <td>0</td>\n",
       "      <td>0</td>\n",
       "      <td>0</td>\n",
       "      <td>0</td>\n",
       "      <td>1</td>\n",
       "    </tr>\n",
       "    <tr>\n",
       "      <th>3</th>\n",
       "      <td>4</td>\n",
       "      <td>1</td>\n",
       "      <td>35.0</td>\n",
       "      <td>1</td>\n",
       "      <td>0</td>\n",
       "      <td>53.1000</td>\n",
       "      <td>1</td>\n",
       "      <td>0</td>\n",
       "      <td>0</td>\n",
       "      <td>0</td>\n",
       "      <td>1</td>\n",
       "      <td>0</td>\n",
       "      <td>0</td>\n",
       "      <td>0</td>\n",
       "      <td>0</td>\n",
       "      <td>0</td>\n",
       "      <td>1</td>\n",
       "      <td>0</td>\n",
       "      <td>0</td>\n",
       "      <td>1</td>\n",
       "    </tr>\n",
       "    <tr>\n",
       "      <th>4</th>\n",
       "      <td>5</td>\n",
       "      <td>3</td>\n",
       "      <td>35.0</td>\n",
       "      <td>0</td>\n",
       "      <td>0</td>\n",
       "      <td>8.0500</td>\n",
       "      <td>0</td>\n",
       "      <td>1</td>\n",
       "      <td>0</td>\n",
       "      <td>0</td>\n",
       "      <td>1</td>\n",
       "      <td>0</td>\n",
       "      <td>0</td>\n",
       "      <td>0</td>\n",
       "      <td>0</td>\n",
       "      <td>1</td>\n",
       "      <td>0</td>\n",
       "      <td>0</td>\n",
       "      <td>0</td>\n",
       "      <td>0</td>\n",
       "    </tr>\n",
       "  </tbody>\n",
       "</table>\n",
       "</div>"
      ],
      "text/plain": [
       "   PassengerId  Pclass   Age  SibSp  Parch     Fare  Sex_female  Sex_male  \\\n",
       "0            1       3  22.0      1      0   7.2500           0         1   \n",
       "1            2       1  38.0      1      0  71.2833           1         0   \n",
       "2            3       3  26.0      0      0   7.9250           1         0   \n",
       "3            4       1  35.0      1      0  53.1000           1         0   \n",
       "4            5       3  35.0      0      0   8.0500           0         1   \n",
       "\n",
       "   Embarked_C  Embarked_Q  Embarked_S  Title_Col.  Title_Dr.  Title_Master.  \\\n",
       "0           0           0           1           0          0              0   \n",
       "1           1           0           0           0          0              0   \n",
       "2           0           0           1           0          0              0   \n",
       "3           0           0           1           0          0              0   \n",
       "4           0           0           1           0          0              0   \n",
       "\n",
       "   Title_Miss.  Title_Mr.  Title_Mrs.  Title_Ms.  Title_Rev.  Survived  \n",
       "0            0          1           0          0           0         0  \n",
       "1            0          0           1          0           0         1  \n",
       "2            1          0           0          0           0         1  \n",
       "3            0          0           1          0           0         1  \n",
       "4            0          1           0          0           0         0  "
      ]
     },
     "execution_count": 1199,
     "metadata": {},
     "output_type": "execute_result"
    }
   ],
   "source": [
    "train['Survived'] = survived\n",
    "train.head()"
   ]
  },
  {
   "cell_type": "code",
   "execution_count": 1200,
   "metadata": {},
   "outputs": [
    {
     "data": {
      "text/plain": [
       "(889, 20)"
      ]
     },
     "execution_count": 1200,
     "metadata": {},
     "output_type": "execute_result"
    }
   ],
   "source": [
    "train.shape"
   ]
  },
  {
   "cell_type": "code",
   "execution_count": 937,
   "metadata": {},
   "outputs": [
    {
     "data": {
      "text/plain": [
       "(418, 19)"
      ]
     },
     "execution_count": 937,
     "metadata": {},
     "output_type": "execute_result"
    }
   ],
   "source": [
    "test.shape"
   ]
  },
  {
   "cell_type": "markdown",
   "metadata": {},
   "source": [
    "We have turned our data into Numeric. Now:\n",
    "* We have to split the data.\n",
    "* After splitting the data, put 'X_train.columns' for testing data columns and genrate a new DataFrame.\n",
    "* Above step is taken to put the data into same format on which our model will be trained.\n",
    "* Create a function which fits data and evaluate data on terms of accuracy(asked by Kaggle).\n",
    "* Try various models."
   ]
  },
  {
   "cell_type": "code",
   "execution_count": 1206,
   "metadata": {},
   "outputs": [],
   "source": [
    "# Splitting the data\n",
    "X = train.drop('Survived',axis=1)\n",
    "y = train['Survived']\n",
    "\n",
    "X_train,X_test,y_train,y_test = train_test_split(X,y,test_size=0.2)\n",
    "\n",
    "# Making a fuction which fits and evaluates machine learning models\n",
    "\n",
    "models = {'Knn'                 : KNeighborsClassifier(),\n",
    "          'Linear Regression'   : LinearRegression(),\n",
    "          'Random Forest'       : RandomForestClassifier(),\n",
    "          'Cat Boost'           : CatBoostClassifier()}\n",
    "\n",
    "def fit_train_model(models,X_train,X_test,y_train,y_test):\n",
    "    '''\n",
    "    Fits and evaluates machine learning models:\n",
    "    models = Dict of models\n",
    "    X_test = testing data(no labels)\n",
    "    y_train = training data(labels)\n",
    "    y_test = testing_data(labels)\n",
    "    '''\n",
    "    np.random.seed(42)\n",
    "    model_scores = {}\n",
    "    \n",
    "    \n",
    "    for names,models in models.items():\n",
    "        models.fit(X_train,y_train)\n",
    "        model_scores[names] = models.score(X_test,y_test)\n",
    "        \n",
    "    return model_scores\n",
    "    "
   ]
  },
  {
   "cell_type": "code",
   "execution_count": 1207,
   "metadata": {},
   "outputs": [
    {
     "name": "stdout",
     "output_type": "stream",
     "text": [
      "Learning rate set to 0.008906\n",
      "0:\tlearn: 0.6873789\ttotal: 14.2ms\tremaining: 14.2s\n",
      "1:\tlearn: 0.6832510\ttotal: 25.6ms\tremaining: 12.8s\n",
      "2:\tlearn: 0.6783060\ttotal: 33.2ms\tremaining: 11s\n",
      "3:\tlearn: 0.6732032\ttotal: 38.6ms\tremaining: 9.62s\n",
      "4:\tlearn: 0.6682110\ttotal: 43.7ms\tremaining: 8.7s\n",
      "5:\tlearn: 0.6631026\ttotal: 48.7ms\tremaining: 8.06s\n",
      "6:\tlearn: 0.6582486\ttotal: 52.1ms\tremaining: 7.4s\n",
      "7:\tlearn: 0.6530881\ttotal: 57.8ms\tremaining: 7.17s\n",
      "8:\tlearn: 0.6476291\ttotal: 63ms\tremaining: 6.93s\n",
      "9:\tlearn: 0.6435169\ttotal: 66.7ms\tremaining: 6.6s\n",
      "10:\tlearn: 0.6391396\ttotal: 72.2ms\tremaining: 6.49s\n",
      "11:\tlearn: 0.6364629\ttotal: 76.6ms\tremaining: 6.3s\n",
      "12:\tlearn: 0.6329958\ttotal: 79.8ms\tremaining: 6.06s\n",
      "13:\tlearn: 0.6282661\ttotal: 85ms\tremaining: 5.98s\n",
      "14:\tlearn: 0.6239426\ttotal: 90ms\tremaining: 5.91s\n",
      "15:\tlearn: 0.6202661\ttotal: 95ms\tremaining: 5.84s\n",
      "16:\tlearn: 0.6157611\ttotal: 100ms\tremaining: 5.78s\n",
      "17:\tlearn: 0.6121269\ttotal: 106ms\tremaining: 5.77s\n",
      "18:\tlearn: 0.6081975\ttotal: 111ms\tremaining: 5.73s\n",
      "19:\tlearn: 0.6043651\ttotal: 117ms\tremaining: 5.72s\n",
      "20:\tlearn: 0.6009999\ttotal: 122ms\tremaining: 5.71s\n",
      "21:\tlearn: 0.5974731\ttotal: 127ms\tremaining: 5.67s\n",
      "22:\tlearn: 0.5943270\ttotal: 133ms\tremaining: 5.63s\n",
      "23:\tlearn: 0.5911967\ttotal: 139ms\tremaining: 5.64s\n",
      "24:\tlearn: 0.5877391\ttotal: 144ms\tremaining: 5.62s\n",
      "25:\tlearn: 0.5838355\ttotal: 150ms\tremaining: 5.6s\n",
      "26:\tlearn: 0.5801018\ttotal: 155ms\tremaining: 5.58s\n",
      "27:\tlearn: 0.5782082\ttotal: 159ms\tremaining: 5.54s\n",
      "28:\tlearn: 0.5751361\ttotal: 165ms\tremaining: 5.52s\n",
      "29:\tlearn: 0.5718160\ttotal: 170ms\tremaining: 5.5s\n",
      "30:\tlearn: 0.5688888\ttotal: 176ms\tremaining: 5.49s\n",
      "31:\tlearn: 0.5657756\ttotal: 181ms\tremaining: 5.48s\n",
      "32:\tlearn: 0.5622456\ttotal: 187ms\tremaining: 5.48s\n",
      "33:\tlearn: 0.5594471\ttotal: 192ms\tremaining: 5.47s\n",
      "34:\tlearn: 0.5567806\ttotal: 198ms\tremaining: 5.45s\n",
      "35:\tlearn: 0.5535505\ttotal: 203ms\tremaining: 5.44s\n",
      "36:\tlearn: 0.5509308\ttotal: 209ms\tremaining: 5.43s\n",
      "37:\tlearn: 0.5480696\ttotal: 214ms\tremaining: 5.41s\n",
      "38:\tlearn: 0.5457475\ttotal: 220ms\tremaining: 5.41s\n",
      "39:\tlearn: 0.5444067\ttotal: 223ms\tremaining: 5.35s\n",
      "40:\tlearn: 0.5412786\ttotal: 228ms\tremaining: 5.33s\n",
      "41:\tlearn: 0.5383604\ttotal: 233ms\tremaining: 5.32s\n",
      "42:\tlearn: 0.5355008\ttotal: 238ms\tremaining: 5.3s\n",
      "43:\tlearn: 0.5332253\ttotal: 244ms\tremaining: 5.29s\n",
      "44:\tlearn: 0.5307825\ttotal: 249ms\tremaining: 5.28s\n",
      "45:\tlearn: 0.5283018\ttotal: 254ms\tremaining: 5.27s\n",
      "46:\tlearn: 0.5262306\ttotal: 260ms\tremaining: 5.27s\n",
      "47:\tlearn: 0.5238083\ttotal: 265ms\tremaining: 5.26s\n",
      "48:\tlearn: 0.5210004\ttotal: 271ms\tremaining: 5.25s\n",
      "49:\tlearn: 0.5190258\ttotal: 276ms\tremaining: 5.24s\n",
      "50:\tlearn: 0.5172500\ttotal: 281ms\tremaining: 5.23s\n",
      "51:\tlearn: 0.5154000\ttotal: 285ms\tremaining: 5.19s\n",
      "52:\tlearn: 0.5141155\ttotal: 290ms\tremaining: 5.18s\n",
      "53:\tlearn: 0.5118420\ttotal: 296ms\tremaining: 5.19s\n",
      "54:\tlearn: 0.5100512\ttotal: 302ms\tremaining: 5.19s\n",
      "55:\tlearn: 0.5082678\ttotal: 309ms\tremaining: 5.21s\n",
      "56:\tlearn: 0.5063364\ttotal: 316ms\tremaining: 5.22s\n",
      "57:\tlearn: 0.5042546\ttotal: 321ms\tremaining: 5.21s\n",
      "58:\tlearn: 0.5022712\ttotal: 326ms\tremaining: 5.2s\n",
      "59:\tlearn: 0.5002886\ttotal: 332ms\tremaining: 5.21s\n",
      "60:\tlearn: 0.4984133\ttotal: 338ms\tremaining: 5.2s\n",
      "61:\tlearn: 0.4966139\ttotal: 343ms\tremaining: 5.19s\n",
      "62:\tlearn: 0.4953760\ttotal: 347ms\tremaining: 5.16s\n",
      "63:\tlearn: 0.4941833\ttotal: 350ms\tremaining: 5.12s\n",
      "64:\tlearn: 0.4923872\ttotal: 355ms\tremaining: 5.11s\n",
      "65:\tlearn: 0.4908305\ttotal: 363ms\tremaining: 5.13s\n",
      "66:\tlearn: 0.4890130\ttotal: 368ms\tremaining: 5.12s\n",
      "67:\tlearn: 0.4882195\ttotal: 371ms\tremaining: 5.08s\n",
      "68:\tlearn: 0.4862703\ttotal: 376ms\tremaining: 5.07s\n",
      "69:\tlearn: 0.4851090\ttotal: 382ms\tremaining: 5.07s\n",
      "70:\tlearn: 0.4834312\ttotal: 387ms\tremaining: 5.07s\n",
      "71:\tlearn: 0.4821983\ttotal: 392ms\tremaining: 5.06s\n",
      "72:\tlearn: 0.4806170\ttotal: 398ms\tremaining: 5.05s\n",
      "73:\tlearn: 0.4797176\ttotal: 403ms\tremaining: 5.04s\n",
      "74:\tlearn: 0.4785157\ttotal: 406ms\tremaining: 5.01s\n",
      "75:\tlearn: 0.4767444\ttotal: 414ms\tremaining: 5.03s\n",
      "76:\tlearn: 0.4752990\ttotal: 420ms\tremaining: 5.04s\n",
      "77:\tlearn: 0.4740117\ttotal: 426ms\tremaining: 5.04s\n",
      "78:\tlearn: 0.4727436\ttotal: 431ms\tremaining: 5.03s\n",
      "79:\tlearn: 0.4709978\ttotal: 436ms\tremaining: 5.02s\n",
      "80:\tlearn: 0.4694192\ttotal: 442ms\tremaining: 5.02s\n",
      "81:\tlearn: 0.4681296\ttotal: 447ms\tremaining: 5.01s\n",
      "82:\tlearn: 0.4671758\ttotal: 454ms\tremaining: 5.02s\n",
      "83:\tlearn: 0.4658106\ttotal: 459ms\tremaining: 5.01s\n",
      "84:\tlearn: 0.4646894\ttotal: 464ms\tremaining: 5s\n",
      "85:\tlearn: 0.4636280\ttotal: 470ms\tremaining: 5s\n",
      "86:\tlearn: 0.4620905\ttotal: 478ms\tremaining: 5.01s\n",
      "87:\tlearn: 0.4609639\ttotal: 484ms\tremaining: 5.02s\n",
      "88:\tlearn: 0.4595237\ttotal: 489ms\tremaining: 5.01s\n",
      "89:\tlearn: 0.4585802\ttotal: 494ms\tremaining: 5s\n",
      "90:\tlearn: 0.4573824\ttotal: 500ms\tremaining: 4.99s\n",
      "91:\tlearn: 0.4558945\ttotal: 505ms\tremaining: 4.99s\n",
      "92:\tlearn: 0.4544983\ttotal: 511ms\tremaining: 4.98s\n",
      "93:\tlearn: 0.4532277\ttotal: 516ms\tremaining: 4.97s\n",
      "94:\tlearn: 0.4521198\ttotal: 521ms\tremaining: 4.97s\n",
      "95:\tlearn: 0.4511322\ttotal: 525ms\tremaining: 4.94s\n",
      "96:\tlearn: 0.4502807\ttotal: 531ms\tremaining: 4.94s\n",
      "97:\tlearn: 0.4490610\ttotal: 544ms\tremaining: 5s\n",
      "98:\tlearn: 0.4483020\ttotal: 547ms\tremaining: 4.98s\n",
      "99:\tlearn: 0.4475514\ttotal: 554ms\tremaining: 4.99s\n",
      "100:\tlearn: 0.4464481\ttotal: 559ms\tremaining: 4.98s\n",
      "101:\tlearn: 0.4459173\ttotal: 564ms\tremaining: 4.96s\n",
      "102:\tlearn: 0.4446391\ttotal: 570ms\tremaining: 4.96s\n",
      "103:\tlearn: 0.4434363\ttotal: 575ms\tremaining: 4.96s\n",
      "104:\tlearn: 0.4424188\ttotal: 581ms\tremaining: 4.96s\n",
      "105:\tlearn: 0.4415813\ttotal: 587ms\tremaining: 4.95s\n",
      "106:\tlearn: 0.4402708\ttotal: 592ms\tremaining: 4.94s\n",
      "107:\tlearn: 0.4392417\ttotal: 599ms\tremaining: 4.94s\n",
      "108:\tlearn: 0.4385253\ttotal: 605ms\tremaining: 4.94s\n",
      "109:\tlearn: 0.4375659\ttotal: 610ms\tremaining: 4.94s\n",
      "110:\tlearn: 0.4365628\ttotal: 616ms\tremaining: 4.93s\n",
      "111:\tlearn: 0.4356918\ttotal: 622ms\tremaining: 4.93s\n",
      "112:\tlearn: 0.4346368\ttotal: 627ms\tremaining: 4.92s\n",
      "113:\tlearn: 0.4336590\ttotal: 632ms\tremaining: 4.91s\n",
      "114:\tlearn: 0.4328095\ttotal: 637ms\tremaining: 4.9s\n",
      "115:\tlearn: 0.4320570\ttotal: 642ms\tremaining: 4.9s\n",
      "116:\tlearn: 0.4312025\ttotal: 648ms\tremaining: 4.89s\n",
      "117:\tlearn: 0.4303587\ttotal: 653ms\tremaining: 4.88s\n",
      "118:\tlearn: 0.4297443\ttotal: 659ms\tremaining: 4.88s\n",
      "119:\tlearn: 0.4288783\ttotal: 664ms\tremaining: 4.87s\n",
      "120:\tlearn: 0.4280583\ttotal: 669ms\tremaining: 4.86s\n",
      "121:\tlearn: 0.4272494\ttotal: 674ms\tremaining: 4.85s\n",
      "122:\tlearn: 0.4263190\ttotal: 680ms\tremaining: 4.84s\n",
      "123:\tlearn: 0.4261852\ttotal: 682ms\tremaining: 4.82s\n",
      "124:\tlearn: 0.4252163\ttotal: 688ms\tremaining: 4.82s\n",
      "125:\tlearn: 0.4246174\ttotal: 694ms\tremaining: 4.82s\n",
      "126:\tlearn: 0.4241679\ttotal: 698ms\tremaining: 4.8s\n",
      "127:\tlearn: 0.4235890\ttotal: 703ms\tremaining: 4.79s\n",
      "128:\tlearn: 0.4227918\ttotal: 709ms\tremaining: 4.79s\n",
      "129:\tlearn: 0.4218831\ttotal: 715ms\tremaining: 4.78s\n",
      "130:\tlearn: 0.4214647\ttotal: 721ms\tremaining: 4.78s\n",
      "131:\tlearn: 0.4206478\ttotal: 726ms\tremaining: 4.78s\n",
      "132:\tlearn: 0.4197168\ttotal: 733ms\tremaining: 4.78s\n",
      "133:\tlearn: 0.4189430\ttotal: 739ms\tremaining: 4.78s\n",
      "134:\tlearn: 0.4184937\ttotal: 744ms\tremaining: 4.76s\n",
      "135:\tlearn: 0.4178718\ttotal: 785ms\tremaining: 4.99s\n",
      "136:\tlearn: 0.4171566\ttotal: 792ms\tremaining: 4.99s\n",
      "137:\tlearn: 0.4165869\ttotal: 797ms\tremaining: 4.98s\n",
      "138:\tlearn: 0.4158869\ttotal: 803ms\tremaining: 4.97s\n",
      "139:\tlearn: 0.4151561\ttotal: 809ms\tremaining: 4.97s\n",
      "140:\tlearn: 0.4149302\ttotal: 815ms\tremaining: 4.96s\n",
      "141:\tlearn: 0.4146879\ttotal: 821ms\tremaining: 4.96s\n",
      "142:\tlearn: 0.4142044\ttotal: 827ms\tremaining: 4.95s\n",
      "143:\tlearn: 0.4135960\ttotal: 833ms\tremaining: 4.95s\n",
      "144:\tlearn: 0.4132044\ttotal: 839ms\tremaining: 4.95s\n",
      "145:\tlearn: 0.4126107\ttotal: 860ms\tremaining: 5.03s\n",
      "146:\tlearn: 0.4118224\ttotal: 866ms\tremaining: 5.02s\n",
      "147:\tlearn: 0.4110849\ttotal: 872ms\tremaining: 5.02s\n",
      "148:\tlearn: 0.4105072\ttotal: 880ms\tremaining: 5.02s\n",
      "149:\tlearn: 0.4097594\ttotal: 886ms\tremaining: 5.02s\n",
      "150:\tlearn: 0.4092633\ttotal: 895ms\tremaining: 5.03s\n",
      "151:\tlearn: 0.4090572\ttotal: 899ms\tremaining: 5.01s\n",
      "152:\tlearn: 0.4085194\ttotal: 904ms\tremaining: 5.01s\n",
      "153:\tlearn: 0.4080456\ttotal: 911ms\tremaining: 5s\n",
      "154:\tlearn: 0.4073362\ttotal: 917ms\tremaining: 5s\n",
      "155:\tlearn: 0.4068849\ttotal: 925ms\tremaining: 5s\n",
      "156:\tlearn: 0.4060067\ttotal: 932ms\tremaining: 5s\n",
      "157:\tlearn: 0.4055010\ttotal: 938ms\tremaining: 5s\n",
      "158:\tlearn: 0.4052144\ttotal: 944ms\tremaining: 4.99s\n",
      "159:\tlearn: 0.4044811\ttotal: 950ms\tremaining: 4.99s\n",
      "160:\tlearn: 0.4038972\ttotal: 959ms\tremaining: 5s\n",
      "161:\tlearn: 0.4035728\ttotal: 965ms\tremaining: 4.99s\n",
      "162:\tlearn: 0.4030456\ttotal: 971ms\tremaining: 4.99s\n",
      "163:\tlearn: 0.4026560\ttotal: 977ms\tremaining: 4.98s\n",
      "164:\tlearn: 0.4021239\ttotal: 983ms\tremaining: 4.97s\n",
      "165:\tlearn: 0.4012294\ttotal: 989ms\tremaining: 4.97s\n",
      "166:\tlearn: 0.4007630\ttotal: 994ms\tremaining: 4.96s\n",
      "167:\tlearn: 0.4002993\ttotal: 999ms\tremaining: 4.95s\n",
      "168:\tlearn: 0.3999819\ttotal: 1s\tremaining: 4.94s\n",
      "169:\tlearn: 0.3996101\ttotal: 1.01s\tremaining: 4.93s\n",
      "170:\tlearn: 0.3994816\ttotal: 1.01s\tremaining: 4.91s\n",
      "171:\tlearn: 0.3989553\ttotal: 1.02s\tremaining: 4.9s\n",
      "172:\tlearn: 0.3982876\ttotal: 1.02s\tremaining: 4.89s\n",
      "173:\tlearn: 0.3976289\ttotal: 1.03s\tremaining: 4.88s\n",
      "174:\tlearn: 0.3974848\ttotal: 1.03s\tremaining: 4.86s\n",
      "175:\tlearn: 0.3972213\ttotal: 1.04s\tremaining: 4.85s\n",
      "176:\tlearn: 0.3970487\ttotal: 1.04s\tremaining: 4.84s\n",
      "177:\tlearn: 0.3964311\ttotal: 1.05s\tremaining: 4.84s\n",
      "178:\tlearn: 0.3957162\ttotal: 1.05s\tremaining: 4.83s\n",
      "179:\tlearn: 0.3951251\ttotal: 1.06s\tremaining: 4.82s\n",
      "180:\tlearn: 0.3948506\ttotal: 1.06s\tremaining: 4.81s\n",
      "181:\tlearn: 0.3944201\ttotal: 1.07s\tremaining: 4.81s\n",
      "182:\tlearn: 0.3939989\ttotal: 1.07s\tremaining: 4.8s\n",
      "183:\tlearn: 0.3933726\ttotal: 1.08s\tremaining: 4.8s\n",
      "184:\tlearn: 0.3930154\ttotal: 1.09s\tremaining: 4.81s\n"
     ]
    },
    {
     "name": "stdout",
     "output_type": "stream",
     "text": [
      "185:\tlearn: 0.3927874\ttotal: 1.1s\tremaining: 4.81s\n",
      "186:\tlearn: 0.3923098\ttotal: 1.1s\tremaining: 4.8s\n",
      "187:\tlearn: 0.3920580\ttotal: 1.11s\tremaining: 4.79s\n",
      "188:\tlearn: 0.3917336\ttotal: 1.11s\tremaining: 4.78s\n",
      "189:\tlearn: 0.3912534\ttotal: 1.12s\tremaining: 4.78s\n",
      "190:\tlearn: 0.3908620\ttotal: 1.13s\tremaining: 4.77s\n",
      "191:\tlearn: 0.3902429\ttotal: 1.13s\tremaining: 4.76s\n",
      "192:\tlearn: 0.3899433\ttotal: 1.14s\tremaining: 4.75s\n",
      "193:\tlearn: 0.3892167\ttotal: 1.14s\tremaining: 4.74s\n",
      "194:\tlearn: 0.3885903\ttotal: 1.15s\tremaining: 4.73s\n",
      "195:\tlearn: 0.3882522\ttotal: 1.15s\tremaining: 4.72s\n",
      "196:\tlearn: 0.3878968\ttotal: 1.16s\tremaining: 4.71s\n",
      "197:\tlearn: 0.3876626\ttotal: 1.16s\tremaining: 4.7s\n",
      "198:\tlearn: 0.3872602\ttotal: 1.17s\tremaining: 4.69s\n",
      "199:\tlearn: 0.3870292\ttotal: 1.17s\tremaining: 4.68s\n",
      "200:\tlearn: 0.3865754\ttotal: 1.18s\tremaining: 4.68s\n",
      "201:\tlearn: 0.3863590\ttotal: 1.18s\tremaining: 4.66s\n",
      "202:\tlearn: 0.3858277\ttotal: 1.19s\tremaining: 4.65s\n",
      "203:\tlearn: 0.3856595\ttotal: 1.19s\tremaining: 4.64s\n",
      "204:\tlearn: 0.3852626\ttotal: 1.2s\tremaining: 4.64s\n",
      "205:\tlearn: 0.3848278\ttotal: 1.2s\tremaining: 4.63s\n",
      "206:\tlearn: 0.3846549\ttotal: 1.21s\tremaining: 4.62s\n",
      "207:\tlearn: 0.3844188\ttotal: 1.21s\tremaining: 4.61s\n",
      "208:\tlearn: 0.3839747\ttotal: 1.22s\tremaining: 4.6s\n",
      "209:\tlearn: 0.3835564\ttotal: 1.22s\tremaining: 4.59s\n",
      "210:\tlearn: 0.3834436\ttotal: 1.23s\tremaining: 4.59s\n",
      "211:\tlearn: 0.3830381\ttotal: 1.23s\tremaining: 4.58s\n",
      "212:\tlearn: 0.3828019\ttotal: 1.24s\tremaining: 4.57s\n",
      "213:\tlearn: 0.3823744\ttotal: 1.24s\tremaining: 4.57s\n",
      "214:\tlearn: 0.3820684\ttotal: 1.25s\tremaining: 4.56s\n",
      "215:\tlearn: 0.3816988\ttotal: 1.25s\tremaining: 4.56s\n",
      "216:\tlearn: 0.3814159\ttotal: 1.26s\tremaining: 4.55s\n",
      "217:\tlearn: 0.3812018\ttotal: 1.26s\tremaining: 4.54s\n",
      "218:\tlearn: 0.3807207\ttotal: 1.27s\tremaining: 4.53s\n",
      "219:\tlearn: 0.3802567\ttotal: 1.27s\tremaining: 4.52s\n",
      "220:\tlearn: 0.3798119\ttotal: 1.28s\tremaining: 4.51s\n",
      "221:\tlearn: 0.3795223\ttotal: 1.28s\tremaining: 4.5s\n",
      "222:\tlearn: 0.3792598\ttotal: 1.29s\tremaining: 4.5s\n",
      "223:\tlearn: 0.3789739\ttotal: 1.3s\tremaining: 4.49s\n",
      "224:\tlearn: 0.3785045\ttotal: 1.3s\tremaining: 4.48s\n",
      "225:\tlearn: 0.3783225\ttotal: 1.31s\tremaining: 4.47s\n",
      "226:\tlearn: 0.3781078\ttotal: 1.31s\tremaining: 4.47s\n",
      "227:\tlearn: 0.3778531\ttotal: 1.32s\tremaining: 4.46s\n",
      "228:\tlearn: 0.3776658\ttotal: 1.32s\tremaining: 4.45s\n",
      "229:\tlearn: 0.3773726\ttotal: 1.33s\tremaining: 4.45s\n",
      "230:\tlearn: 0.3770133\ttotal: 1.33s\tremaining: 4.44s\n",
      "231:\tlearn: 0.3767362\ttotal: 1.34s\tremaining: 4.43s\n",
      "232:\tlearn: 0.3763834\ttotal: 1.34s\tremaining: 4.42s\n",
      "233:\tlearn: 0.3761960\ttotal: 1.35s\tremaining: 4.42s\n",
      "234:\tlearn: 0.3758422\ttotal: 1.35s\tremaining: 4.41s\n",
      "235:\tlearn: 0.3756864\ttotal: 1.36s\tremaining: 4.4s\n",
      "236:\tlearn: 0.3754311\ttotal: 1.36s\tremaining: 4.4s\n",
      "237:\tlearn: 0.3751181\ttotal: 1.37s\tremaining: 4.39s\n",
      "238:\tlearn: 0.3745073\ttotal: 1.38s\tremaining: 4.38s\n",
      "239:\tlearn: 0.3743000\ttotal: 1.39s\tremaining: 4.39s\n",
      "240:\tlearn: 0.3742457\ttotal: 1.39s\tremaining: 4.38s\n",
      "241:\tlearn: 0.3739715\ttotal: 1.4s\tremaining: 4.37s\n",
      "242:\tlearn: 0.3737438\ttotal: 1.4s\tremaining: 4.36s\n",
      "243:\tlearn: 0.3735129\ttotal: 1.41s\tremaining: 4.36s\n",
      "244:\tlearn: 0.3732445\ttotal: 1.41s\tremaining: 4.35s\n",
      "245:\tlearn: 0.3730335\ttotal: 1.42s\tremaining: 4.34s\n",
      "246:\tlearn: 0.3727223\ttotal: 1.42s\tremaining: 4.33s\n",
      "247:\tlearn: 0.3723453\ttotal: 1.43s\tremaining: 4.33s\n",
      "248:\tlearn: 0.3718843\ttotal: 1.43s\tremaining: 4.32s\n",
      "249:\tlearn: 0.3717209\ttotal: 1.44s\tremaining: 4.31s\n",
      "250:\tlearn: 0.3715885\ttotal: 1.44s\tremaining: 4.3s\n",
      "251:\tlearn: 0.3715330\ttotal: 1.45s\tremaining: 4.29s\n",
      "252:\tlearn: 0.3712007\ttotal: 1.45s\tremaining: 4.28s\n",
      "253:\tlearn: 0.3708395\ttotal: 1.46s\tremaining: 4.27s\n",
      "254:\tlearn: 0.3704420\ttotal: 1.46s\tremaining: 4.27s\n",
      "255:\tlearn: 0.3700561\ttotal: 1.47s\tremaining: 4.26s\n",
      "256:\tlearn: 0.3698380\ttotal: 1.47s\tremaining: 4.25s\n",
      "257:\tlearn: 0.3695730\ttotal: 1.48s\tremaining: 4.26s\n",
      "258:\tlearn: 0.3693005\ttotal: 1.49s\tremaining: 4.25s\n",
      "259:\tlearn: 0.3688636\ttotal: 1.49s\tremaining: 4.25s\n",
      "260:\tlearn: 0.3687117\ttotal: 1.5s\tremaining: 4.25s\n",
      "261:\tlearn: 0.3683912\ttotal: 1.5s\tremaining: 4.24s\n",
      "262:\tlearn: 0.3682762\ttotal: 1.51s\tremaining: 4.23s\n",
      "263:\tlearn: 0.3681861\ttotal: 1.52s\tremaining: 4.23s\n",
      "264:\tlearn: 0.3678586\ttotal: 1.52s\tremaining: 4.22s\n",
      "265:\tlearn: 0.3676005\ttotal: 1.53s\tremaining: 4.21s\n",
      "266:\tlearn: 0.3674567\ttotal: 1.53s\tremaining: 4.21s\n",
      "267:\tlearn: 0.3672511\ttotal: 1.54s\tremaining: 4.2s\n",
      "268:\tlearn: 0.3670099\ttotal: 1.54s\tremaining: 4.19s\n",
      "269:\tlearn: 0.3667825\ttotal: 1.55s\tremaining: 4.18s\n",
      "270:\tlearn: 0.3665526\ttotal: 1.55s\tremaining: 4.18s\n",
      "271:\tlearn: 0.3662511\ttotal: 1.56s\tremaining: 4.17s\n",
      "272:\tlearn: 0.3660685\ttotal: 1.56s\tremaining: 4.16s\n",
      "273:\tlearn: 0.3658571\ttotal: 1.57s\tremaining: 4.16s\n",
      "274:\tlearn: 0.3656629\ttotal: 1.57s\tremaining: 4.15s\n",
      "275:\tlearn: 0.3652549\ttotal: 1.58s\tremaining: 4.14s\n",
      "276:\tlearn: 0.3648721\ttotal: 1.58s\tremaining: 4.14s\n",
      "277:\tlearn: 0.3644988\ttotal: 1.59s\tremaining: 4.13s\n",
      "278:\tlearn: 0.3642692\ttotal: 1.6s\tremaining: 4.13s\n",
      "279:\tlearn: 0.3639436\ttotal: 1.6s\tremaining: 4.12s\n",
      "280:\tlearn: 0.3635469\ttotal: 1.61s\tremaining: 4.11s\n",
      "281:\tlearn: 0.3632880\ttotal: 1.61s\tremaining: 4.11s\n",
      "282:\tlearn: 0.3631182\ttotal: 1.62s\tremaining: 4.1s\n",
      "283:\tlearn: 0.3629287\ttotal: 1.62s\tremaining: 4.09s\n",
      "284:\tlearn: 0.3626608\ttotal: 1.63s\tremaining: 4.09s\n",
      "285:\tlearn: 0.3624100\ttotal: 1.63s\tremaining: 4.08s\n",
      "286:\tlearn: 0.3622003\ttotal: 1.64s\tremaining: 4.07s\n",
      "287:\tlearn: 0.3620377\ttotal: 1.64s\tremaining: 4.06s\n",
      "288:\tlearn: 0.3616213\ttotal: 1.65s\tremaining: 4.06s\n",
      "289:\tlearn: 0.3613990\ttotal: 1.65s\tremaining: 4.05s\n",
      "290:\tlearn: 0.3611616\ttotal: 1.66s\tremaining: 4.04s\n",
      "291:\tlearn: 0.3608093\ttotal: 1.66s\tremaining: 4.04s\n",
      "292:\tlearn: 0.3607004\ttotal: 1.67s\tremaining: 4.03s\n",
      "293:\tlearn: 0.3605541\ttotal: 1.67s\tremaining: 4.02s\n",
      "294:\tlearn: 0.3604434\ttotal: 1.68s\tremaining: 4.01s\n",
      "295:\tlearn: 0.3602503\ttotal: 1.69s\tremaining: 4.01s\n",
      "296:\tlearn: 0.3599852\ttotal: 1.69s\tremaining: 4s\n",
      "297:\tlearn: 0.3599699\ttotal: 1.69s\tremaining: 3.99s\n",
      "298:\tlearn: 0.3597992\ttotal: 1.7s\tremaining: 3.98s\n",
      "299:\tlearn: 0.3596460\ttotal: 1.7s\tremaining: 3.97s\n",
      "300:\tlearn: 0.3594665\ttotal: 1.71s\tremaining: 3.96s\n",
      "301:\tlearn: 0.3593244\ttotal: 1.71s\tremaining: 3.96s\n",
      "302:\tlearn: 0.3592766\ttotal: 1.72s\tremaining: 3.95s\n",
      "303:\tlearn: 0.3590040\ttotal: 1.72s\tremaining: 3.94s\n",
      "304:\tlearn: 0.3588680\ttotal: 1.73s\tremaining: 3.93s\n",
      "305:\tlearn: 0.3586902\ttotal: 1.73s\tremaining: 3.93s\n",
      "306:\tlearn: 0.3583837\ttotal: 1.74s\tremaining: 3.92s\n",
      "307:\tlearn: 0.3582745\ttotal: 1.74s\tremaining: 3.91s\n",
      "308:\tlearn: 0.3579275\ttotal: 1.75s\tremaining: 3.91s\n",
      "309:\tlearn: 0.3577283\ttotal: 1.75s\tremaining: 3.9s\n",
      "310:\tlearn: 0.3573819\ttotal: 1.76s\tremaining: 3.9s\n",
      "311:\tlearn: 0.3572689\ttotal: 1.76s\tremaining: 3.89s\n",
      "312:\tlearn: 0.3571840\ttotal: 1.77s\tremaining: 3.88s\n",
      "313:\tlearn: 0.3570181\ttotal: 1.77s\tremaining: 3.87s\n",
      "314:\tlearn: 0.3567339\ttotal: 1.78s\tremaining: 3.87s\n",
      "315:\tlearn: 0.3564835\ttotal: 1.78s\tremaining: 3.86s\n",
      "316:\tlearn: 0.3563012\ttotal: 1.79s\tremaining: 3.85s\n",
      "317:\tlearn: 0.3561224\ttotal: 1.79s\tremaining: 3.85s\n",
      "318:\tlearn: 0.3560009\ttotal: 1.8s\tremaining: 3.84s\n",
      "319:\tlearn: 0.3558617\ttotal: 1.8s\tremaining: 3.83s\n",
      "320:\tlearn: 0.3556503\ttotal: 1.81s\tremaining: 3.83s\n",
      "321:\tlearn: 0.3555662\ttotal: 1.81s\tremaining: 3.82s\n",
      "322:\tlearn: 0.3553396\ttotal: 1.82s\tremaining: 3.82s\n",
      "323:\tlearn: 0.3551116\ttotal: 1.83s\tremaining: 3.81s\n",
      "324:\tlearn: 0.3549224\ttotal: 1.83s\tremaining: 3.81s\n",
      "325:\tlearn: 0.3545974\ttotal: 1.84s\tremaining: 3.8s\n",
      "326:\tlearn: 0.3544203\ttotal: 1.84s\tremaining: 3.8s\n",
      "327:\tlearn: 0.3543165\ttotal: 1.85s\tremaining: 3.79s\n",
      "328:\tlearn: 0.3540889\ttotal: 1.86s\tremaining: 3.79s\n",
      "329:\tlearn: 0.3539217\ttotal: 1.86s\tremaining: 3.79s\n",
      "330:\tlearn: 0.3537471\ttotal: 1.87s\tremaining: 3.78s\n",
      "331:\tlearn: 0.3535971\ttotal: 1.88s\tremaining: 3.78s\n",
      "332:\tlearn: 0.3534520\ttotal: 1.89s\tremaining: 3.78s\n",
      "333:\tlearn: 0.3531457\ttotal: 1.89s\tremaining: 3.77s\n",
      "334:\tlearn: 0.3529536\ttotal: 1.9s\tremaining: 3.77s\n",
      "335:\tlearn: 0.3527873\ttotal: 1.92s\tremaining: 3.79s\n",
      "336:\tlearn: 0.3524961\ttotal: 1.92s\tremaining: 3.79s\n",
      "337:\tlearn: 0.3522889\ttotal: 1.93s\tremaining: 3.78s\n",
      "338:\tlearn: 0.3522047\ttotal: 1.94s\tremaining: 3.78s\n",
      "339:\tlearn: 0.3520850\ttotal: 1.95s\tremaining: 3.78s\n",
      "340:\tlearn: 0.3516925\ttotal: 1.96s\tremaining: 3.78s\n",
      "341:\tlearn: 0.3514273\ttotal: 1.97s\tremaining: 3.79s\n",
      "342:\tlearn: 0.3513753\ttotal: 1.98s\tremaining: 3.79s\n",
      "343:\tlearn: 0.3511447\ttotal: 1.98s\tremaining: 3.78s\n",
      "344:\tlearn: 0.3510017\ttotal: 1.99s\tremaining: 3.78s\n",
      "345:\tlearn: 0.3506750\ttotal: 2s\tremaining: 3.77s\n",
      "346:\tlearn: 0.3502756\ttotal: 2s\tremaining: 3.77s\n",
      "347:\tlearn: 0.3501538\ttotal: 2.01s\tremaining: 3.76s\n",
      "348:\tlearn: 0.3498279\ttotal: 2.01s\tremaining: 3.75s\n",
      "349:\tlearn: 0.3497052\ttotal: 2.02s\tremaining: 3.75s\n",
      "350:\tlearn: 0.3495854\ttotal: 2.02s\tremaining: 3.74s\n",
      "351:\tlearn: 0.3491313\ttotal: 2.03s\tremaining: 3.73s\n",
      "352:\tlearn: 0.3489481\ttotal: 2.03s\tremaining: 3.73s\n",
      "353:\tlearn: 0.3488634\ttotal: 2.04s\tremaining: 3.72s\n",
      "354:\tlearn: 0.3486793\ttotal: 2.04s\tremaining: 3.71s\n"
     ]
    },
    {
     "name": "stdout",
     "output_type": "stream",
     "text": [
      "355:\tlearn: 0.3485095\ttotal: 2.05s\tremaining: 3.71s\n",
      "356:\tlearn: 0.3484283\ttotal: 2.05s\tremaining: 3.7s\n",
      "357:\tlearn: 0.3483828\ttotal: 2.06s\tremaining: 3.69s\n",
      "358:\tlearn: 0.3482639\ttotal: 2.06s\tremaining: 3.69s\n",
      "359:\tlearn: 0.3480821\ttotal: 2.07s\tremaining: 3.68s\n",
      "360:\tlearn: 0.3480290\ttotal: 2.08s\tremaining: 3.67s\n",
      "361:\tlearn: 0.3478696\ttotal: 2.08s\tremaining: 3.67s\n",
      "362:\tlearn: 0.3477109\ttotal: 2.09s\tremaining: 3.66s\n",
      "363:\tlearn: 0.3474448\ttotal: 2.09s\tremaining: 3.65s\n",
      "364:\tlearn: 0.3473189\ttotal: 2.1s\tremaining: 3.65s\n",
      "365:\tlearn: 0.3471893\ttotal: 2.1s\tremaining: 3.64s\n",
      "366:\tlearn: 0.3470490\ttotal: 2.11s\tremaining: 3.64s\n",
      "367:\tlearn: 0.3468694\ttotal: 2.11s\tremaining: 3.63s\n",
      "368:\tlearn: 0.3466520\ttotal: 2.12s\tremaining: 3.62s\n",
      "369:\tlearn: 0.3464438\ttotal: 2.12s\tremaining: 3.62s\n",
      "370:\tlearn: 0.3463385\ttotal: 2.13s\tremaining: 3.61s\n",
      "371:\tlearn: 0.3461772\ttotal: 2.13s\tremaining: 3.6s\n",
      "372:\tlearn: 0.3461007\ttotal: 2.14s\tremaining: 3.6s\n",
      "373:\tlearn: 0.3459723\ttotal: 2.14s\tremaining: 3.59s\n",
      "374:\tlearn: 0.3457880\ttotal: 2.15s\tremaining: 3.58s\n",
      "375:\tlearn: 0.3457559\ttotal: 2.15s\tremaining: 3.57s\n",
      "376:\tlearn: 0.3456384\ttotal: 2.16s\tremaining: 3.57s\n",
      "377:\tlearn: 0.3454112\ttotal: 2.16s\tremaining: 3.56s\n",
      "378:\tlearn: 0.3452259\ttotal: 2.17s\tremaining: 3.55s\n",
      "379:\tlearn: 0.3449274\ttotal: 2.17s\tremaining: 3.55s\n",
      "380:\tlearn: 0.3447989\ttotal: 2.18s\tremaining: 3.54s\n",
      "381:\tlearn: 0.3445581\ttotal: 2.18s\tremaining: 3.53s\n",
      "382:\tlearn: 0.3443816\ttotal: 2.19s\tremaining: 3.53s\n",
      "383:\tlearn: 0.3442487\ttotal: 2.19s\tremaining: 3.52s\n",
      "384:\tlearn: 0.3441663\ttotal: 2.2s\tremaining: 3.51s\n",
      "385:\tlearn: 0.3441360\ttotal: 2.2s\tremaining: 3.51s\n",
      "386:\tlearn: 0.3440010\ttotal: 2.21s\tremaining: 3.5s\n",
      "387:\tlearn: 0.3439618\ttotal: 2.21s\tremaining: 3.49s\n",
      "388:\tlearn: 0.3438253\ttotal: 2.22s\tremaining: 3.49s\n",
      "389:\tlearn: 0.3436111\ttotal: 2.23s\tremaining: 3.48s\n",
      "390:\tlearn: 0.3434457\ttotal: 2.23s\tremaining: 3.48s\n",
      "391:\tlearn: 0.3433261\ttotal: 2.24s\tremaining: 3.47s\n",
      "392:\tlearn: 0.3430687\ttotal: 2.24s\tremaining: 3.46s\n",
      "393:\tlearn: 0.3430066\ttotal: 2.25s\tremaining: 3.46s\n",
      "394:\tlearn: 0.3429732\ttotal: 2.25s\tremaining: 3.45s\n",
      "395:\tlearn: 0.3428451\ttotal: 2.26s\tremaining: 3.44s\n",
      "396:\tlearn: 0.3425957\ttotal: 2.26s\tremaining: 3.44s\n",
      "397:\tlearn: 0.3424118\ttotal: 2.27s\tremaining: 3.43s\n",
      "398:\tlearn: 0.3421144\ttotal: 2.27s\tremaining: 3.42s\n",
      "399:\tlearn: 0.3420782\ttotal: 2.28s\tremaining: 3.42s\n",
      "400:\tlearn: 0.3419029\ttotal: 2.28s\tremaining: 3.41s\n",
      "401:\tlearn: 0.3418427\ttotal: 2.29s\tremaining: 3.4s\n",
      "402:\tlearn: 0.3417330\ttotal: 2.29s\tremaining: 3.4s\n",
      "403:\tlearn: 0.3416884\ttotal: 2.3s\tremaining: 3.39s\n",
      "404:\tlearn: 0.3415512\ttotal: 2.3s\tremaining: 3.38s\n",
      "405:\tlearn: 0.3413048\ttotal: 2.31s\tremaining: 3.38s\n",
      "406:\tlearn: 0.3410497\ttotal: 2.31s\tremaining: 3.37s\n",
      "407:\tlearn: 0.3407935\ttotal: 2.32s\tremaining: 3.36s\n",
      "408:\tlearn: 0.3405321\ttotal: 2.32s\tremaining: 3.36s\n",
      "409:\tlearn: 0.3403018\ttotal: 2.33s\tremaining: 3.35s\n",
      "410:\tlearn: 0.3401656\ttotal: 2.33s\tremaining: 3.34s\n",
      "411:\tlearn: 0.3400942\ttotal: 2.34s\tremaining: 3.34s\n",
      "412:\tlearn: 0.3400744\ttotal: 2.34s\tremaining: 3.33s\n",
      "413:\tlearn: 0.3399618\ttotal: 2.35s\tremaining: 3.32s\n",
      "414:\tlearn: 0.3398186\ttotal: 2.35s\tremaining: 3.31s\n",
      "415:\tlearn: 0.3395922\ttotal: 2.36s\tremaining: 3.31s\n",
      "416:\tlearn: 0.3394153\ttotal: 2.36s\tremaining: 3.3s\n",
      "417:\tlearn: 0.3393130\ttotal: 2.37s\tremaining: 3.3s\n",
      "418:\tlearn: 0.3392090\ttotal: 2.37s\tremaining: 3.29s\n",
      "419:\tlearn: 0.3390647\ttotal: 2.38s\tremaining: 3.29s\n",
      "420:\tlearn: 0.3389650\ttotal: 2.39s\tremaining: 3.28s\n",
      "421:\tlearn: 0.3389525\ttotal: 2.39s\tremaining: 3.27s\n",
      "422:\tlearn: 0.3388830\ttotal: 2.4s\tremaining: 3.27s\n",
      "423:\tlearn: 0.3387149\ttotal: 2.4s\tremaining: 3.26s\n",
      "424:\tlearn: 0.3386102\ttotal: 2.41s\tremaining: 3.25s\n",
      "425:\tlearn: 0.3384427\ttotal: 2.41s\tremaining: 3.25s\n",
      "426:\tlearn: 0.3383524\ttotal: 2.42s\tremaining: 3.24s\n",
      "427:\tlearn: 0.3381817\ttotal: 2.42s\tremaining: 3.24s\n",
      "428:\tlearn: 0.3379984\ttotal: 2.43s\tremaining: 3.23s\n",
      "429:\tlearn: 0.3377760\ttotal: 2.43s\tremaining: 3.22s\n",
      "430:\tlearn: 0.3374194\ttotal: 2.44s\tremaining: 3.22s\n",
      "431:\tlearn: 0.3372989\ttotal: 2.44s\tremaining: 3.21s\n",
      "432:\tlearn: 0.3370924\ttotal: 2.45s\tremaining: 3.2s\n",
      "433:\tlearn: 0.3369605\ttotal: 2.45s\tremaining: 3.2s\n",
      "434:\tlearn: 0.3367807\ttotal: 2.46s\tremaining: 3.19s\n",
      "435:\tlearn: 0.3366553\ttotal: 2.46s\tremaining: 3.18s\n",
      "436:\tlearn: 0.3363848\ttotal: 2.47s\tremaining: 3.18s\n",
      "437:\tlearn: 0.3363470\ttotal: 2.47s\tremaining: 3.17s\n",
      "438:\tlearn: 0.3361473\ttotal: 2.48s\tremaining: 3.16s\n",
      "439:\tlearn: 0.3359859\ttotal: 2.48s\tremaining: 3.16s\n",
      "440:\tlearn: 0.3357824\ttotal: 2.48s\tremaining: 3.15s\n",
      "441:\tlearn: 0.3357082\ttotal: 2.49s\tremaining: 3.14s\n",
      "442:\tlearn: 0.3354113\ttotal: 2.49s\tremaining: 3.14s\n",
      "443:\tlearn: 0.3353890\ttotal: 2.5s\tremaining: 3.13s\n",
      "444:\tlearn: 0.3352194\ttotal: 2.5s\tremaining: 3.12s\n",
      "445:\tlearn: 0.3350798\ttotal: 2.51s\tremaining: 3.11s\n",
      "446:\tlearn: 0.3350497\ttotal: 2.51s\tremaining: 3.11s\n",
      "447:\tlearn: 0.3347603\ttotal: 2.52s\tremaining: 3.1s\n",
      "448:\tlearn: 0.3346677\ttotal: 2.52s\tremaining: 3.1s\n",
      "449:\tlearn: 0.3345426\ttotal: 2.53s\tremaining: 3.09s\n",
      "450:\tlearn: 0.3340105\ttotal: 2.53s\tremaining: 3.08s\n",
      "451:\tlearn: 0.3337112\ttotal: 2.54s\tremaining: 3.08s\n",
      "452:\tlearn: 0.3335424\ttotal: 2.54s\tremaining: 3.07s\n",
      "453:\tlearn: 0.3332965\ttotal: 2.55s\tremaining: 3.07s\n",
      "454:\tlearn: 0.3331323\ttotal: 2.56s\tremaining: 3.06s\n",
      "455:\tlearn: 0.3330300\ttotal: 2.56s\tremaining: 3.05s\n",
      "456:\tlearn: 0.3327958\ttotal: 2.56s\tremaining: 3.05s\n",
      "457:\tlearn: 0.3326733\ttotal: 2.57s\tremaining: 3.04s\n",
      "458:\tlearn: 0.3325479\ttotal: 2.58s\tremaining: 3.04s\n",
      "459:\tlearn: 0.3323977\ttotal: 2.58s\tremaining: 3.03s\n",
      "460:\tlearn: 0.3323074\ttotal: 2.58s\tremaining: 3.02s\n",
      "461:\tlearn: 0.3321242\ttotal: 2.59s\tremaining: 3.02s\n",
      "462:\tlearn: 0.3320879\ttotal: 2.6s\tremaining: 3.01s\n",
      "463:\tlearn: 0.3319614\ttotal: 2.6s\tremaining: 3s\n",
      "464:\tlearn: 0.3319475\ttotal: 2.6s\tremaining: 3s\n",
      "465:\tlearn: 0.3319188\ttotal: 2.61s\tremaining: 2.99s\n",
      "466:\tlearn: 0.3319103\ttotal: 2.61s\tremaining: 2.98s\n",
      "467:\tlearn: 0.3317194\ttotal: 2.62s\tremaining: 2.97s\n",
      "468:\tlearn: 0.3315558\ttotal: 2.62s\tremaining: 2.97s\n",
      "469:\tlearn: 0.3314627\ttotal: 2.63s\tremaining: 2.96s\n",
      "470:\tlearn: 0.3311914\ttotal: 2.63s\tremaining: 2.95s\n",
      "471:\tlearn: 0.3309090\ttotal: 2.63s\tremaining: 2.95s\n",
      "472:\tlearn: 0.3308884\ttotal: 2.64s\tremaining: 2.94s\n",
      "473:\tlearn: 0.3307201\ttotal: 2.64s\tremaining: 2.93s\n",
      "474:\tlearn: 0.3305797\ttotal: 2.65s\tremaining: 2.93s\n",
      "475:\tlearn: 0.3302824\ttotal: 2.65s\tremaining: 2.92s\n",
      "476:\tlearn: 0.3302335\ttotal: 2.66s\tremaining: 2.92s\n",
      "477:\tlearn: 0.3301170\ttotal: 2.66s\tremaining: 2.91s\n",
      "478:\tlearn: 0.3299578\ttotal: 2.67s\tremaining: 2.9s\n",
      "479:\tlearn: 0.3298637\ttotal: 2.67s\tremaining: 2.9s\n",
      "480:\tlearn: 0.3298363\ttotal: 2.68s\tremaining: 2.89s\n",
      "481:\tlearn: 0.3297316\ttotal: 2.68s\tremaining: 2.88s\n",
      "482:\tlearn: 0.3296407\ttotal: 2.69s\tremaining: 2.88s\n",
      "483:\tlearn: 0.3295065\ttotal: 2.69s\tremaining: 2.87s\n",
      "484:\tlearn: 0.3294219\ttotal: 2.7s\tremaining: 2.87s\n",
      "485:\tlearn: 0.3292909\ttotal: 2.7s\tremaining: 2.86s\n",
      "486:\tlearn: 0.3292080\ttotal: 2.71s\tremaining: 2.85s\n",
      "487:\tlearn: 0.3290544\ttotal: 2.71s\tremaining: 2.85s\n",
      "488:\tlearn: 0.3288648\ttotal: 2.72s\tremaining: 2.84s\n",
      "489:\tlearn: 0.3287284\ttotal: 2.73s\tremaining: 2.84s\n",
      "490:\tlearn: 0.3285639\ttotal: 2.73s\tremaining: 2.83s\n",
      "491:\tlearn: 0.3284615\ttotal: 2.74s\tremaining: 2.83s\n",
      "492:\tlearn: 0.3283791\ttotal: 2.74s\tremaining: 2.82s\n",
      "493:\tlearn: 0.3282160\ttotal: 2.75s\tremaining: 2.81s\n",
      "494:\tlearn: 0.3279256\ttotal: 2.75s\tremaining: 2.81s\n",
      "495:\tlearn: 0.3277295\ttotal: 2.76s\tremaining: 2.8s\n",
      "496:\tlearn: 0.3273668\ttotal: 2.76s\tremaining: 2.79s\n",
      "497:\tlearn: 0.3272503\ttotal: 2.77s\tremaining: 2.79s\n",
      "498:\tlearn: 0.3270277\ttotal: 2.77s\tremaining: 2.78s\n",
      "499:\tlearn: 0.3269360\ttotal: 2.78s\tremaining: 2.78s\n",
      "500:\tlearn: 0.3268301\ttotal: 2.78s\tremaining: 2.77s\n",
      "501:\tlearn: 0.3265630\ttotal: 2.79s\tremaining: 2.76s\n",
      "502:\tlearn: 0.3264549\ttotal: 2.79s\tremaining: 2.76s\n",
      "503:\tlearn: 0.3260995\ttotal: 2.79s\tremaining: 2.75s\n",
      "504:\tlearn: 0.3258959\ttotal: 2.8s\tremaining: 2.75s\n",
      "505:\tlearn: 0.3256342\ttotal: 2.81s\tremaining: 2.74s\n",
      "506:\tlearn: 0.3255302\ttotal: 2.81s\tremaining: 2.73s\n",
      "507:\tlearn: 0.3254266\ttotal: 2.81s\tremaining: 2.73s\n",
      "508:\tlearn: 0.3252918\ttotal: 2.82s\tremaining: 2.72s\n",
      "509:\tlearn: 0.3250607\ttotal: 2.83s\tremaining: 2.71s\n",
      "510:\tlearn: 0.3249269\ttotal: 2.83s\tremaining: 2.71s\n",
      "511:\tlearn: 0.3247268\ttotal: 2.84s\tremaining: 2.71s\n",
      "512:\tlearn: 0.3246572\ttotal: 2.85s\tremaining: 2.7s\n",
      "513:\tlearn: 0.3245831\ttotal: 2.85s\tremaining: 2.7s\n",
      "514:\tlearn: 0.3243485\ttotal: 2.87s\tremaining: 2.7s\n",
      "515:\tlearn: 0.3241737\ttotal: 2.87s\tremaining: 2.69s\n",
      "516:\tlearn: 0.3239469\ttotal: 2.88s\tremaining: 2.69s\n",
      "517:\tlearn: 0.3237263\ttotal: 2.88s\tremaining: 2.69s\n",
      "518:\tlearn: 0.3235221\ttotal: 2.9s\tremaining: 2.69s\n",
      "519:\tlearn: 0.3234574\ttotal: 2.9s\tremaining: 2.68s\n",
      "520:\tlearn: 0.3234052\ttotal: 2.91s\tremaining: 2.68s\n",
      "521:\tlearn: 0.3232442\ttotal: 2.92s\tremaining: 2.67s\n",
      "522:\tlearn: 0.3231518\ttotal: 2.93s\tremaining: 2.67s\n",
      "523:\tlearn: 0.3229566\ttotal: 2.93s\tremaining: 2.66s\n",
      "524:\tlearn: 0.3227510\ttotal: 2.94s\tremaining: 2.66s\n",
      "525:\tlearn: 0.3226469\ttotal: 2.95s\tremaining: 2.66s\n",
      "526:\tlearn: 0.3225767\ttotal: 2.95s\tremaining: 2.65s\n",
      "527:\tlearn: 0.3224111\ttotal: 2.96s\tremaining: 2.65s\n",
      "528:\tlearn: 0.3223007\ttotal: 2.97s\tremaining: 2.64s\n",
      "529:\tlearn: 0.3222331\ttotal: 2.97s\tremaining: 2.64s\n",
      "530:\tlearn: 0.3220588\ttotal: 2.98s\tremaining: 2.63s\n",
      "531:\tlearn: 0.3219290\ttotal: 2.99s\tremaining: 2.63s\n"
     ]
    },
    {
     "name": "stdout",
     "output_type": "stream",
     "text": [
      "532:\tlearn: 0.3217614\ttotal: 3s\tremaining: 2.63s\n",
      "533:\tlearn: 0.3217215\ttotal: 3.01s\tremaining: 2.63s\n",
      "534:\tlearn: 0.3215100\ttotal: 3.02s\tremaining: 2.63s\n",
      "535:\tlearn: 0.3214125\ttotal: 3.03s\tremaining: 2.62s\n",
      "536:\tlearn: 0.3212619\ttotal: 3.03s\tremaining: 2.61s\n",
      "537:\tlearn: 0.3210811\ttotal: 3.04s\tremaining: 2.61s\n",
      "538:\tlearn: 0.3210253\ttotal: 3.04s\tremaining: 2.6s\n",
      "539:\tlearn: 0.3209819\ttotal: 3.05s\tremaining: 2.6s\n",
      "540:\tlearn: 0.3208892\ttotal: 3.06s\tremaining: 2.59s\n",
      "541:\tlearn: 0.3207202\ttotal: 3.06s\tremaining: 2.59s\n",
      "542:\tlearn: 0.3204162\ttotal: 3.07s\tremaining: 2.58s\n",
      "543:\tlearn: 0.3202474\ttotal: 3.07s\tremaining: 2.57s\n",
      "544:\tlearn: 0.3201592\ttotal: 3.08s\tremaining: 2.57s\n",
      "545:\tlearn: 0.3200183\ttotal: 3.08s\tremaining: 2.56s\n",
      "546:\tlearn: 0.3198473\ttotal: 3.09s\tremaining: 2.56s\n",
      "547:\tlearn: 0.3197747\ttotal: 3.09s\tremaining: 2.55s\n",
      "548:\tlearn: 0.3196559\ttotal: 3.1s\tremaining: 2.54s\n",
      "549:\tlearn: 0.3195206\ttotal: 3.1s\tremaining: 2.54s\n",
      "550:\tlearn: 0.3193841\ttotal: 3.11s\tremaining: 2.53s\n",
      "551:\tlearn: 0.3192809\ttotal: 3.11s\tremaining: 2.52s\n",
      "552:\tlearn: 0.3191785\ttotal: 3.12s\tremaining: 2.52s\n",
      "553:\tlearn: 0.3190183\ttotal: 3.12s\tremaining: 2.51s\n",
      "554:\tlearn: 0.3188357\ttotal: 3.13s\tremaining: 2.51s\n",
      "555:\tlearn: 0.3186358\ttotal: 3.13s\tremaining: 2.5s\n",
      "556:\tlearn: 0.3185512\ttotal: 3.14s\tremaining: 2.49s\n",
      "557:\tlearn: 0.3184401\ttotal: 3.14s\tremaining: 2.49s\n",
      "558:\tlearn: 0.3182533\ttotal: 3.15s\tremaining: 2.48s\n",
      "559:\tlearn: 0.3180803\ttotal: 3.15s\tremaining: 2.48s\n",
      "560:\tlearn: 0.3179941\ttotal: 3.16s\tremaining: 2.47s\n",
      "561:\tlearn: 0.3178002\ttotal: 3.17s\tremaining: 2.47s\n",
      "562:\tlearn: 0.3177084\ttotal: 3.17s\tremaining: 2.46s\n",
      "563:\tlearn: 0.3177044\ttotal: 3.17s\tremaining: 2.45s\n",
      "564:\tlearn: 0.3174727\ttotal: 3.18s\tremaining: 2.45s\n",
      "565:\tlearn: 0.3173242\ttotal: 3.18s\tremaining: 2.44s\n",
      "566:\tlearn: 0.3170195\ttotal: 3.19s\tremaining: 2.44s\n",
      "567:\tlearn: 0.3168451\ttotal: 3.19s\tremaining: 2.43s\n",
      "568:\tlearn: 0.3166880\ttotal: 3.2s\tremaining: 2.42s\n",
      "569:\tlearn: 0.3165177\ttotal: 3.21s\tremaining: 2.42s\n",
      "570:\tlearn: 0.3162911\ttotal: 3.21s\tremaining: 2.41s\n",
      "571:\tlearn: 0.3162301\ttotal: 3.21s\tremaining: 2.41s\n",
      "572:\tlearn: 0.3161543\ttotal: 3.22s\tremaining: 2.4s\n",
      "573:\tlearn: 0.3160815\ttotal: 3.23s\tremaining: 2.39s\n",
      "574:\tlearn: 0.3159912\ttotal: 3.23s\tremaining: 2.39s\n",
      "575:\tlearn: 0.3158236\ttotal: 3.23s\tremaining: 2.38s\n",
      "576:\tlearn: 0.3156621\ttotal: 3.24s\tremaining: 2.38s\n",
      "577:\tlearn: 0.3155415\ttotal: 3.25s\tremaining: 2.37s\n",
      "578:\tlearn: 0.3153665\ttotal: 3.25s\tremaining: 2.36s\n",
      "579:\tlearn: 0.3152560\ttotal: 3.25s\tremaining: 2.36s\n",
      "580:\tlearn: 0.3152300\ttotal: 3.26s\tremaining: 2.35s\n",
      "581:\tlearn: 0.3150087\ttotal: 3.27s\tremaining: 2.35s\n",
      "582:\tlearn: 0.3147805\ttotal: 3.27s\tremaining: 2.34s\n",
      "583:\tlearn: 0.3146329\ttotal: 3.27s\tremaining: 2.33s\n",
      "584:\tlearn: 0.3143634\ttotal: 3.28s\tremaining: 2.33s\n",
      "585:\tlearn: 0.3143313\ttotal: 3.29s\tremaining: 2.32s\n",
      "586:\tlearn: 0.3141480\ttotal: 3.29s\tremaining: 2.31s\n",
      "587:\tlearn: 0.3140392\ttotal: 3.29s\tremaining: 2.31s\n",
      "588:\tlearn: 0.3138348\ttotal: 3.3s\tremaining: 2.3s\n",
      "589:\tlearn: 0.3137557\ttotal: 3.31s\tremaining: 2.3s\n",
      "590:\tlearn: 0.3136605\ttotal: 3.31s\tremaining: 2.29s\n",
      "591:\tlearn: 0.3135932\ttotal: 3.32s\tremaining: 2.29s\n",
      "592:\tlearn: 0.3133343\ttotal: 3.32s\tremaining: 2.28s\n",
      "593:\tlearn: 0.3131796\ttotal: 3.33s\tremaining: 2.27s\n",
      "594:\tlearn: 0.3131368\ttotal: 3.34s\tremaining: 2.27s\n",
      "595:\tlearn: 0.3129762\ttotal: 3.34s\tremaining: 2.26s\n",
      "596:\tlearn: 0.3128643\ttotal: 3.35s\tremaining: 2.26s\n",
      "597:\tlearn: 0.3127032\ttotal: 3.35s\tremaining: 2.25s\n",
      "598:\tlearn: 0.3124823\ttotal: 3.36s\tremaining: 2.25s\n",
      "599:\tlearn: 0.3122617\ttotal: 3.36s\tremaining: 2.24s\n",
      "600:\tlearn: 0.3121039\ttotal: 3.37s\tremaining: 2.23s\n",
      "601:\tlearn: 0.3119190\ttotal: 3.37s\tremaining: 2.23s\n",
      "602:\tlearn: 0.3116487\ttotal: 3.38s\tremaining: 2.22s\n",
      "603:\tlearn: 0.3115358\ttotal: 3.38s\tremaining: 2.22s\n",
      "604:\tlearn: 0.3114339\ttotal: 3.39s\tremaining: 2.21s\n",
      "605:\tlearn: 0.3112539\ttotal: 3.39s\tremaining: 2.21s\n",
      "606:\tlearn: 0.3110954\ttotal: 3.4s\tremaining: 2.2s\n",
      "607:\tlearn: 0.3109788\ttotal: 3.4s\tremaining: 2.19s\n",
      "608:\tlearn: 0.3108412\ttotal: 3.41s\tremaining: 2.19s\n",
      "609:\tlearn: 0.3107464\ttotal: 3.41s\tremaining: 2.18s\n",
      "610:\tlearn: 0.3106967\ttotal: 3.42s\tremaining: 2.17s\n",
      "611:\tlearn: 0.3104155\ttotal: 3.42s\tremaining: 2.17s\n",
      "612:\tlearn: 0.3103351\ttotal: 3.43s\tremaining: 2.16s\n",
      "613:\tlearn: 0.3100525\ttotal: 3.43s\tremaining: 2.16s\n",
      "614:\tlearn: 0.3099922\ttotal: 3.44s\tremaining: 2.15s\n",
      "615:\tlearn: 0.3098514\ttotal: 3.44s\tremaining: 2.15s\n",
      "616:\tlearn: 0.3096941\ttotal: 3.45s\tremaining: 2.14s\n",
      "617:\tlearn: 0.3096690\ttotal: 3.45s\tremaining: 2.13s\n",
      "618:\tlearn: 0.3095483\ttotal: 3.46s\tremaining: 2.13s\n",
      "619:\tlearn: 0.3093361\ttotal: 3.46s\tremaining: 2.12s\n",
      "620:\tlearn: 0.3091877\ttotal: 3.47s\tremaining: 2.12s\n",
      "621:\tlearn: 0.3091144\ttotal: 3.47s\tremaining: 2.11s\n",
      "622:\tlearn: 0.3089243\ttotal: 3.48s\tremaining: 2.1s\n",
      "623:\tlearn: 0.3085800\ttotal: 3.48s\tremaining: 2.1s\n",
      "624:\tlearn: 0.3084989\ttotal: 3.49s\tremaining: 2.09s\n",
      "625:\tlearn: 0.3083675\ttotal: 3.5s\tremaining: 2.09s\n",
      "626:\tlearn: 0.3081159\ttotal: 3.5s\tremaining: 2.08s\n",
      "627:\tlearn: 0.3078744\ttotal: 3.51s\tremaining: 2.08s\n",
      "628:\tlearn: 0.3076794\ttotal: 3.51s\tremaining: 2.07s\n",
      "629:\tlearn: 0.3075565\ttotal: 3.52s\tremaining: 2.06s\n",
      "630:\tlearn: 0.3074796\ttotal: 3.52s\tremaining: 2.06s\n",
      "631:\tlearn: 0.3074075\ttotal: 3.53s\tremaining: 2.05s\n",
      "632:\tlearn: 0.3073231\ttotal: 3.53s\tremaining: 2.05s\n",
      "633:\tlearn: 0.3071350\ttotal: 3.54s\tremaining: 2.04s\n",
      "634:\tlearn: 0.3069748\ttotal: 3.54s\tremaining: 2.04s\n",
      "635:\tlearn: 0.3068033\ttotal: 3.55s\tremaining: 2.03s\n",
      "636:\tlearn: 0.3066676\ttotal: 3.55s\tremaining: 2.02s\n",
      "637:\tlearn: 0.3064851\ttotal: 3.56s\tremaining: 2.02s\n",
      "638:\tlearn: 0.3064443\ttotal: 3.56s\tremaining: 2.01s\n",
      "639:\tlearn: 0.3063227\ttotal: 3.56s\tremaining: 2s\n",
      "640:\tlearn: 0.3060829\ttotal: 3.57s\tremaining: 2s\n",
      "641:\tlearn: 0.3059472\ttotal: 3.58s\tremaining: 1.99s\n",
      "642:\tlearn: 0.3057452\ttotal: 3.58s\tremaining: 1.99s\n",
      "643:\tlearn: 0.3056343\ttotal: 3.59s\tremaining: 1.98s\n",
      "644:\tlearn: 0.3056188\ttotal: 3.59s\tremaining: 1.98s\n",
      "645:\tlearn: 0.3054728\ttotal: 3.6s\tremaining: 1.97s\n",
      "646:\tlearn: 0.3052735\ttotal: 3.6s\tremaining: 1.96s\n",
      "647:\tlearn: 0.3051684\ttotal: 3.6s\tremaining: 1.96s\n",
      "648:\tlearn: 0.3050135\ttotal: 3.61s\tremaining: 1.95s\n",
      "649:\tlearn: 0.3048453\ttotal: 3.62s\tremaining: 1.95s\n",
      "650:\tlearn: 0.3045828\ttotal: 3.62s\tremaining: 1.94s\n",
      "651:\tlearn: 0.3043680\ttotal: 3.63s\tremaining: 1.94s\n",
      "652:\tlearn: 0.3042832\ttotal: 3.63s\tremaining: 1.93s\n",
      "653:\tlearn: 0.3042336\ttotal: 3.64s\tremaining: 1.93s\n",
      "654:\tlearn: 0.3041255\ttotal: 3.65s\tremaining: 1.92s\n",
      "655:\tlearn: 0.3039297\ttotal: 3.65s\tremaining: 1.91s\n",
      "656:\tlearn: 0.3038350\ttotal: 3.66s\tremaining: 1.91s\n",
      "657:\tlearn: 0.3037522\ttotal: 3.66s\tremaining: 1.9s\n",
      "658:\tlearn: 0.3036960\ttotal: 3.67s\tremaining: 1.9s\n",
      "659:\tlearn: 0.3035746\ttotal: 3.67s\tremaining: 1.89s\n",
      "660:\tlearn: 0.3034423\ttotal: 3.68s\tremaining: 1.89s\n",
      "661:\tlearn: 0.3032858\ttotal: 3.68s\tremaining: 1.88s\n",
      "662:\tlearn: 0.3030609\ttotal: 3.69s\tremaining: 1.88s\n",
      "663:\tlearn: 0.3028491\ttotal: 3.69s\tremaining: 1.87s\n",
      "664:\tlearn: 0.3027034\ttotal: 3.7s\tremaining: 1.86s\n",
      "665:\tlearn: 0.3025445\ttotal: 3.7s\tremaining: 1.86s\n",
      "666:\tlearn: 0.3025018\ttotal: 3.71s\tremaining: 1.85s\n",
      "667:\tlearn: 0.3023894\ttotal: 3.73s\tremaining: 1.85s\n",
      "668:\tlearn: 0.3023100\ttotal: 3.73s\tremaining: 1.85s\n",
      "669:\tlearn: 0.3021242\ttotal: 3.74s\tremaining: 1.84s\n",
      "670:\tlearn: 0.3020882\ttotal: 3.75s\tremaining: 1.84s\n",
      "671:\tlearn: 0.3019079\ttotal: 3.75s\tremaining: 1.83s\n",
      "672:\tlearn: 0.3016498\ttotal: 3.76s\tremaining: 1.82s\n",
      "673:\tlearn: 0.3015863\ttotal: 3.76s\tremaining: 1.82s\n",
      "674:\tlearn: 0.3013886\ttotal: 3.77s\tremaining: 1.81s\n",
      "675:\tlearn: 0.3012426\ttotal: 3.78s\tremaining: 1.81s\n",
      "676:\tlearn: 0.3009982\ttotal: 3.78s\tremaining: 1.8s\n",
      "677:\tlearn: 0.3009597\ttotal: 3.79s\tremaining: 1.8s\n",
      "678:\tlearn: 0.3008635\ttotal: 3.79s\tremaining: 1.79s\n",
      "679:\tlearn: 0.3006224\ttotal: 3.8s\tremaining: 1.79s\n",
      "680:\tlearn: 0.3004564\ttotal: 3.81s\tremaining: 1.78s\n",
      "681:\tlearn: 0.3002679\ttotal: 3.81s\tremaining: 1.78s\n",
      "682:\tlearn: 0.3002177\ttotal: 3.82s\tremaining: 1.77s\n",
      "683:\tlearn: 0.3001100\ttotal: 3.82s\tremaining: 1.77s\n",
      "684:\tlearn: 0.2999949\ttotal: 3.83s\tremaining: 1.76s\n",
      "685:\tlearn: 0.2998758\ttotal: 3.84s\tremaining: 1.76s\n",
      "686:\tlearn: 0.2996823\ttotal: 3.84s\tremaining: 1.75s\n",
      "687:\tlearn: 0.2995596\ttotal: 3.85s\tremaining: 1.74s\n",
      "688:\tlearn: 0.2994971\ttotal: 3.85s\tremaining: 1.74s\n",
      "689:\tlearn: 0.2993314\ttotal: 3.86s\tremaining: 1.73s\n",
      "690:\tlearn: 0.2992491\ttotal: 3.86s\tremaining: 1.73s\n",
      "691:\tlearn: 0.2991329\ttotal: 3.87s\tremaining: 1.72s\n",
      "692:\tlearn: 0.2990736\ttotal: 3.88s\tremaining: 1.72s\n",
      "693:\tlearn: 0.2989001\ttotal: 3.88s\tremaining: 1.71s\n",
      "694:\tlearn: 0.2987977\ttotal: 3.89s\tremaining: 1.71s\n",
      "695:\tlearn: 0.2987081\ttotal: 3.9s\tremaining: 1.7s\n",
      "696:\tlearn: 0.2985235\ttotal: 3.9s\tremaining: 1.7s\n",
      "697:\tlearn: 0.2984392\ttotal: 3.92s\tremaining: 1.69s\n",
      "698:\tlearn: 0.2983600\ttotal: 3.92s\tremaining: 1.69s\n"
     ]
    },
    {
     "name": "stdout",
     "output_type": "stream",
     "text": [
      "699:\tlearn: 0.2983320\ttotal: 3.94s\tremaining: 1.69s\n",
      "700:\tlearn: 0.2980558\ttotal: 3.95s\tremaining: 1.68s\n",
      "701:\tlearn: 0.2979523\ttotal: 3.97s\tremaining: 1.69s\n",
      "702:\tlearn: 0.2979319\ttotal: 3.98s\tremaining: 1.68s\n",
      "703:\tlearn: 0.2977846\ttotal: 3.99s\tremaining: 1.68s\n",
      "704:\tlearn: 0.2976300\ttotal: 4s\tremaining: 1.67s\n",
      "705:\tlearn: 0.2973543\ttotal: 4s\tremaining: 1.67s\n",
      "706:\tlearn: 0.2972615\ttotal: 4.02s\tremaining: 1.67s\n",
      "707:\tlearn: 0.2971200\ttotal: 4.02s\tremaining: 1.66s\n",
      "708:\tlearn: 0.2967838\ttotal: 4.03s\tremaining: 1.65s\n",
      "709:\tlearn: 0.2966074\ttotal: 4.04s\tremaining: 1.65s\n",
      "710:\tlearn: 0.2964959\ttotal: 4.04s\tremaining: 1.64s\n",
      "711:\tlearn: 0.2963157\ttotal: 4.06s\tremaining: 1.64s\n",
      "712:\tlearn: 0.2961623\ttotal: 4.07s\tremaining: 1.64s\n",
      "713:\tlearn: 0.2959813\ttotal: 4.07s\tremaining: 1.63s\n",
      "714:\tlearn: 0.2958104\ttotal: 4.08s\tremaining: 1.63s\n",
      "715:\tlearn: 0.2957007\ttotal: 4.09s\tremaining: 1.62s\n",
      "716:\tlearn: 0.2956412\ttotal: 4.1s\tremaining: 1.62s\n",
      "717:\tlearn: 0.2955554\ttotal: 4.1s\tremaining: 1.61s\n",
      "718:\tlearn: 0.2954365\ttotal: 4.11s\tremaining: 1.61s\n",
      "719:\tlearn: 0.2953529\ttotal: 4.12s\tremaining: 1.6s\n",
      "720:\tlearn: 0.2950984\ttotal: 4.13s\tremaining: 1.6s\n",
      "721:\tlearn: 0.2950423\ttotal: 4.14s\tremaining: 1.59s\n",
      "722:\tlearn: 0.2949578\ttotal: 4.14s\tremaining: 1.59s\n",
      "723:\tlearn: 0.2947527\ttotal: 4.15s\tremaining: 1.58s\n",
      "724:\tlearn: 0.2945537\ttotal: 4.16s\tremaining: 1.58s\n",
      "725:\tlearn: 0.2940997\ttotal: 4.17s\tremaining: 1.57s\n",
      "726:\tlearn: 0.2940825\ttotal: 4.17s\tremaining: 1.57s\n",
      "727:\tlearn: 0.2939225\ttotal: 4.18s\tremaining: 1.56s\n",
      "728:\tlearn: 0.2937013\ttotal: 4.18s\tremaining: 1.55s\n",
      "729:\tlearn: 0.2935149\ttotal: 4.19s\tremaining: 1.55s\n",
      "730:\tlearn: 0.2933899\ttotal: 4.2s\tremaining: 1.54s\n",
      "731:\tlearn: 0.2932775\ttotal: 4.2s\tremaining: 1.54s\n",
      "732:\tlearn: 0.2930811\ttotal: 4.21s\tremaining: 1.53s\n",
      "733:\tlearn: 0.2929264\ttotal: 4.22s\tremaining: 1.53s\n",
      "734:\tlearn: 0.2927958\ttotal: 4.23s\tremaining: 1.52s\n",
      "735:\tlearn: 0.2926931\ttotal: 4.24s\tremaining: 1.52s\n",
      "736:\tlearn: 0.2924411\ttotal: 4.24s\tremaining: 1.51s\n",
      "737:\tlearn: 0.2924265\ttotal: 4.25s\tremaining: 1.51s\n",
      "738:\tlearn: 0.2921469\ttotal: 4.26s\tremaining: 1.5s\n",
      "739:\tlearn: 0.2919150\ttotal: 4.26s\tremaining: 1.5s\n",
      "740:\tlearn: 0.2918112\ttotal: 4.27s\tremaining: 1.49s\n",
      "741:\tlearn: 0.2916427\ttotal: 4.28s\tremaining: 1.49s\n",
      "742:\tlearn: 0.2914348\ttotal: 4.28s\tremaining: 1.48s\n",
      "743:\tlearn: 0.2913688\ttotal: 4.29s\tremaining: 1.47s\n",
      "744:\tlearn: 0.2910197\ttotal: 4.29s\tremaining: 1.47s\n",
      "745:\tlearn: 0.2908554\ttotal: 4.3s\tremaining: 1.46s\n",
      "746:\tlearn: 0.2907598\ttotal: 4.3s\tremaining: 1.46s\n",
      "747:\tlearn: 0.2907223\ttotal: 4.31s\tremaining: 1.45s\n",
      "748:\tlearn: 0.2905148\ttotal: 4.31s\tremaining: 1.44s\n",
      "749:\tlearn: 0.2903304\ttotal: 4.32s\tremaining: 1.44s\n",
      "750:\tlearn: 0.2901271\ttotal: 4.32s\tremaining: 1.43s\n",
      "751:\tlearn: 0.2900424\ttotal: 4.33s\tremaining: 1.43s\n",
      "752:\tlearn: 0.2899733\ttotal: 4.33s\tremaining: 1.42s\n",
      "753:\tlearn: 0.2897506\ttotal: 4.34s\tremaining: 1.41s\n",
      "754:\tlearn: 0.2896769\ttotal: 4.34s\tremaining: 1.41s\n",
      "755:\tlearn: 0.2895682\ttotal: 4.35s\tremaining: 1.4s\n",
      "756:\tlearn: 0.2893765\ttotal: 4.35s\tremaining: 1.4s\n",
      "757:\tlearn: 0.2892649\ttotal: 4.36s\tremaining: 1.39s\n",
      "758:\tlearn: 0.2892032\ttotal: 4.36s\tremaining: 1.38s\n",
      "759:\tlearn: 0.2891004\ttotal: 4.37s\tremaining: 1.38s\n",
      "760:\tlearn: 0.2890770\ttotal: 4.37s\tremaining: 1.37s\n",
      "761:\tlearn: 0.2888807\ttotal: 4.38s\tremaining: 1.37s\n",
      "762:\tlearn: 0.2886532\ttotal: 4.38s\tremaining: 1.36s\n",
      "763:\tlearn: 0.2885171\ttotal: 4.38s\tremaining: 1.35s\n",
      "764:\tlearn: 0.2882673\ttotal: 4.39s\tremaining: 1.35s\n",
      "765:\tlearn: 0.2880627\ttotal: 4.39s\tremaining: 1.34s\n",
      "766:\tlearn: 0.2879696\ttotal: 4.4s\tremaining: 1.34s\n",
      "767:\tlearn: 0.2877456\ttotal: 4.41s\tremaining: 1.33s\n",
      "768:\tlearn: 0.2876632\ttotal: 4.41s\tremaining: 1.32s\n",
      "769:\tlearn: 0.2875742\ttotal: 4.42s\tremaining: 1.32s\n",
      "770:\tlearn: 0.2873552\ttotal: 4.42s\tremaining: 1.31s\n",
      "771:\tlearn: 0.2872152\ttotal: 4.43s\tremaining: 1.31s\n",
      "772:\tlearn: 0.2870250\ttotal: 4.43s\tremaining: 1.3s\n",
      "773:\tlearn: 0.2868178\ttotal: 4.44s\tremaining: 1.3s\n",
      "774:\tlearn: 0.2867909\ttotal: 4.45s\tremaining: 1.29s\n",
      "775:\tlearn: 0.2867473\ttotal: 4.45s\tremaining: 1.28s\n",
      "776:\tlearn: 0.2866698\ttotal: 4.46s\tremaining: 1.28s\n",
      "777:\tlearn: 0.2865836\ttotal: 4.46s\tremaining: 1.27s\n",
      "778:\tlearn: 0.2862991\ttotal: 4.46s\tremaining: 1.27s\n",
      "779:\tlearn: 0.2862494\ttotal: 4.47s\tremaining: 1.26s\n",
      "780:\tlearn: 0.2859492\ttotal: 4.48s\tremaining: 1.25s\n",
      "781:\tlearn: 0.2859115\ttotal: 4.48s\tremaining: 1.25s\n",
      "782:\tlearn: 0.2857503\ttotal: 4.49s\tremaining: 1.24s\n",
      "783:\tlearn: 0.2856297\ttotal: 4.49s\tremaining: 1.24s\n",
      "784:\tlearn: 0.2854933\ttotal: 4.5s\tremaining: 1.23s\n",
      "785:\tlearn: 0.2854323\ttotal: 4.5s\tremaining: 1.23s\n",
      "786:\tlearn: 0.2853269\ttotal: 4.51s\tremaining: 1.22s\n",
      "787:\tlearn: 0.2851706\ttotal: 4.51s\tremaining: 1.21s\n",
      "788:\tlearn: 0.2849562\ttotal: 4.52s\tremaining: 1.21s\n",
      "789:\tlearn: 0.2847281\ttotal: 4.52s\tremaining: 1.2s\n",
      "790:\tlearn: 0.2846470\ttotal: 4.53s\tremaining: 1.2s\n",
      "791:\tlearn: 0.2845760\ttotal: 4.54s\tremaining: 1.19s\n",
      "792:\tlearn: 0.2844390\ttotal: 4.54s\tremaining: 1.19s\n",
      "793:\tlearn: 0.2843064\ttotal: 4.55s\tremaining: 1.18s\n",
      "794:\tlearn: 0.2842198\ttotal: 4.55s\tremaining: 1.17s\n",
      "795:\tlearn: 0.2841687\ttotal: 4.56s\tremaining: 1.17s\n",
      "796:\tlearn: 0.2840773\ttotal: 4.57s\tremaining: 1.16s\n",
      "797:\tlearn: 0.2838537\ttotal: 4.58s\tremaining: 1.16s\n",
      "798:\tlearn: 0.2836796\ttotal: 4.58s\tremaining: 1.15s\n",
      "799:\tlearn: 0.2835975\ttotal: 4.59s\tremaining: 1.15s\n",
      "800:\tlearn: 0.2835611\ttotal: 4.59s\tremaining: 1.14s\n",
      "801:\tlearn: 0.2834202\ttotal: 4.6s\tremaining: 1.14s\n",
      "802:\tlearn: 0.2832347\ttotal: 4.6s\tremaining: 1.13s\n",
      "803:\tlearn: 0.2831307\ttotal: 4.61s\tremaining: 1.12s\n",
      "804:\tlearn: 0.2827577\ttotal: 4.61s\tremaining: 1.12s\n",
      "805:\tlearn: 0.2826687\ttotal: 4.62s\tremaining: 1.11s\n",
      "806:\tlearn: 0.2825681\ttotal: 4.63s\tremaining: 1.11s\n",
      "807:\tlearn: 0.2824465\ttotal: 4.63s\tremaining: 1.1s\n",
      "808:\tlearn: 0.2821530\ttotal: 4.64s\tremaining: 1.09s\n",
      "809:\tlearn: 0.2819764\ttotal: 4.64s\tremaining: 1.09s\n",
      "810:\tlearn: 0.2818400\ttotal: 4.65s\tremaining: 1.08s\n",
      "811:\tlearn: 0.2817575\ttotal: 4.65s\tremaining: 1.08s\n",
      "812:\tlearn: 0.2816357\ttotal: 4.66s\tremaining: 1.07s\n",
      "813:\tlearn: 0.2815867\ttotal: 4.67s\tremaining: 1.07s\n",
      "814:\tlearn: 0.2815037\ttotal: 4.67s\tremaining: 1.06s\n",
      "815:\tlearn: 0.2813895\ttotal: 4.69s\tremaining: 1.06s\n",
      "816:\tlearn: 0.2813105\ttotal: 4.69s\tremaining: 1.05s\n",
      "817:\tlearn: 0.2811765\ttotal: 4.7s\tremaining: 1.04s\n",
      "818:\tlearn: 0.2810336\ttotal: 4.7s\tremaining: 1.04s\n",
      "819:\tlearn: 0.2809484\ttotal: 4.71s\tremaining: 1.03s\n",
      "820:\tlearn: 0.2808528\ttotal: 4.72s\tremaining: 1.03s\n",
      "821:\tlearn: 0.2807181\ttotal: 4.73s\tremaining: 1.02s\n",
      "822:\tlearn: 0.2805290\ttotal: 4.74s\tremaining: 1.02s\n",
      "823:\tlearn: 0.2804077\ttotal: 4.74s\tremaining: 1.01s\n",
      "824:\tlearn: 0.2801287\ttotal: 4.75s\tremaining: 1.01s\n",
      "825:\tlearn: 0.2797953\ttotal: 4.75s\tremaining: 1s\n",
      "826:\tlearn: 0.2796949\ttotal: 4.76s\tremaining: 996ms\n",
      "827:\tlearn: 0.2795438\ttotal: 4.76s\tremaining: 990ms\n",
      "828:\tlearn: 0.2794743\ttotal: 4.77s\tremaining: 984ms\n",
      "829:\tlearn: 0.2793051\ttotal: 4.78s\tremaining: 978ms\n",
      "830:\tlearn: 0.2791554\ttotal: 4.78s\tremaining: 972ms\n",
      "831:\tlearn: 0.2790848\ttotal: 4.79s\tremaining: 967ms\n",
      "832:\tlearn: 0.2788458\ttotal: 4.79s\tremaining: 961ms\n",
      "833:\tlearn: 0.2787303\ttotal: 4.8s\tremaining: 955ms\n",
      "834:\tlearn: 0.2785544\ttotal: 4.8s\tremaining: 949ms\n",
      "835:\tlearn: 0.2784486\ttotal: 4.81s\tremaining: 943ms\n",
      "836:\tlearn: 0.2784154\ttotal: 4.81s\tremaining: 937ms\n",
      "837:\tlearn: 0.2781456\ttotal: 4.82s\tremaining: 932ms\n",
      "838:\tlearn: 0.2779771\ttotal: 4.82s\tremaining: 926ms\n",
      "839:\tlearn: 0.2777369\ttotal: 4.83s\tremaining: 920ms\n",
      "840:\tlearn: 0.2775647\ttotal: 4.83s\tremaining: 914ms\n",
      "841:\tlearn: 0.2774307\ttotal: 4.84s\tremaining: 908ms\n",
      "842:\tlearn: 0.2770868\ttotal: 4.84s\tremaining: 902ms\n",
      "843:\tlearn: 0.2770278\ttotal: 4.85s\tremaining: 896ms\n",
      "844:\tlearn: 0.2769554\ttotal: 4.85s\tremaining: 890ms\n",
      "845:\tlearn: 0.2767642\ttotal: 4.86s\tremaining: 884ms\n",
      "846:\tlearn: 0.2765547\ttotal: 4.86s\tremaining: 879ms\n",
      "847:\tlearn: 0.2764479\ttotal: 4.87s\tremaining: 873ms\n",
      "848:\tlearn: 0.2762834\ttotal: 4.87s\tremaining: 867ms\n",
      "849:\tlearn: 0.2761804\ttotal: 4.88s\tremaining: 861ms\n",
      "850:\tlearn: 0.2759567\ttotal: 4.88s\tremaining: 855ms\n",
      "851:\tlearn: 0.2759046\ttotal: 4.89s\tremaining: 850ms\n",
      "852:\tlearn: 0.2757618\ttotal: 4.89s\tremaining: 844ms\n",
      "853:\tlearn: 0.2756448\ttotal: 4.9s\tremaining: 838ms\n",
      "854:\tlearn: 0.2754539\ttotal: 4.91s\tremaining: 832ms\n",
      "855:\tlearn: 0.2753112\ttotal: 4.91s\tremaining: 826ms\n",
      "856:\tlearn: 0.2752362\ttotal: 4.92s\tremaining: 820ms\n",
      "857:\tlearn: 0.2752130\ttotal: 4.92s\tremaining: 815ms\n",
      "858:\tlearn: 0.2751435\ttotal: 4.93s\tremaining: 809ms\n",
      "859:\tlearn: 0.2749589\ttotal: 4.93s\tremaining: 803ms\n",
      "860:\tlearn: 0.2747358\ttotal: 4.94s\tremaining: 797ms\n",
      "861:\tlearn: 0.2746025\ttotal: 4.94s\tremaining: 792ms\n",
      "862:\tlearn: 0.2744200\ttotal: 4.95s\tremaining: 786ms\n",
      "863:\tlearn: 0.2742262\ttotal: 4.95s\tremaining: 780ms\n",
      "864:\tlearn: 0.2741360\ttotal: 4.96s\tremaining: 774ms\n",
      "865:\tlearn: 0.2740343\ttotal: 4.96s\tremaining: 768ms\n",
      "866:\tlearn: 0.2740090\ttotal: 4.97s\tremaining: 762ms\n",
      "867:\tlearn: 0.2736519\ttotal: 4.97s\tremaining: 757ms\n",
      "868:\tlearn: 0.2735849\ttotal: 4.98s\tremaining: 751ms\n",
      "869:\tlearn: 0.2733291\ttotal: 4.99s\tremaining: 745ms\n",
      "870:\tlearn: 0.2730138\ttotal: 4.99s\tremaining: 739ms\n",
      "871:\tlearn: 0.2729059\ttotal: 5s\tremaining: 734ms\n",
      "872:\tlearn: 0.2726812\ttotal: 5s\tremaining: 728ms\n",
      "873:\tlearn: 0.2725564\ttotal: 5.01s\tremaining: 722ms\n",
      "874:\tlearn: 0.2725313\ttotal: 5.01s\tremaining: 717ms\n",
      "875:\tlearn: 0.2722649\ttotal: 5.02s\tremaining: 711ms\n",
      "876:\tlearn: 0.2719235\ttotal: 5.03s\tremaining: 706ms\n"
     ]
    },
    {
     "name": "stdout",
     "output_type": "stream",
     "text": [
      "877:\tlearn: 0.2716367\ttotal: 5.04s\tremaining: 701ms\n",
      "878:\tlearn: 0.2715552\ttotal: 5.05s\tremaining: 695ms\n",
      "879:\tlearn: 0.2714069\ttotal: 5.05s\tremaining: 689ms\n",
      "880:\tlearn: 0.2713932\ttotal: 5.06s\tremaining: 684ms\n",
      "881:\tlearn: 0.2712864\ttotal: 5.07s\tremaining: 678ms\n",
      "882:\tlearn: 0.2712019\ttotal: 5.08s\tremaining: 673ms\n",
      "883:\tlearn: 0.2711108\ttotal: 5.09s\tremaining: 668ms\n",
      "884:\tlearn: 0.2709063\ttotal: 5.1s\tremaining: 663ms\n",
      "885:\tlearn: 0.2707942\ttotal: 5.11s\tremaining: 657ms\n",
      "886:\tlearn: 0.2706919\ttotal: 5.12s\tremaining: 652ms\n",
      "887:\tlearn: 0.2704422\ttotal: 5.14s\tremaining: 648ms\n",
      "888:\tlearn: 0.2701640\ttotal: 5.15s\tremaining: 643ms\n",
      "889:\tlearn: 0.2698464\ttotal: 5.16s\tremaining: 638ms\n",
      "890:\tlearn: 0.2697651\ttotal: 5.16s\tremaining: 632ms\n",
      "891:\tlearn: 0.2696591\ttotal: 5.17s\tremaining: 626ms\n",
      "892:\tlearn: 0.2695863\ttotal: 5.18s\tremaining: 620ms\n",
      "893:\tlearn: 0.2694520\ttotal: 5.18s\tremaining: 615ms\n",
      "894:\tlearn: 0.2694248\ttotal: 5.19s\tremaining: 609ms\n",
      "895:\tlearn: 0.2691087\ttotal: 5.2s\tremaining: 604ms\n",
      "896:\tlearn: 0.2689517\ttotal: 5.21s\tremaining: 598ms\n",
      "897:\tlearn: 0.2687961\ttotal: 5.22s\tremaining: 593ms\n",
      "898:\tlearn: 0.2686560\ttotal: 5.22s\tremaining: 587ms\n",
      "899:\tlearn: 0.2684628\ttotal: 5.23s\tremaining: 581ms\n",
      "900:\tlearn: 0.2682451\ttotal: 5.24s\tremaining: 576ms\n",
      "901:\tlearn: 0.2680627\ttotal: 5.25s\tremaining: 570ms\n",
      "902:\tlearn: 0.2679913\ttotal: 5.25s\tremaining: 564ms\n",
      "903:\tlearn: 0.2678156\ttotal: 5.26s\tremaining: 558ms\n",
      "904:\tlearn: 0.2677475\ttotal: 5.26s\tremaining: 552ms\n",
      "905:\tlearn: 0.2676996\ttotal: 5.27s\tremaining: 547ms\n",
      "906:\tlearn: 0.2673892\ttotal: 5.27s\tremaining: 541ms\n",
      "907:\tlearn: 0.2672581\ttotal: 5.28s\tremaining: 535ms\n",
      "908:\tlearn: 0.2671184\ttotal: 5.29s\tremaining: 529ms\n",
      "909:\tlearn: 0.2670350\ttotal: 5.29s\tremaining: 523ms\n",
      "910:\tlearn: 0.2668956\ttotal: 5.3s\tremaining: 517ms\n",
      "911:\tlearn: 0.2667636\ttotal: 5.3s\tremaining: 512ms\n",
      "912:\tlearn: 0.2666741\ttotal: 5.31s\tremaining: 506ms\n",
      "913:\tlearn: 0.2665394\ttotal: 5.32s\tremaining: 500ms\n",
      "914:\tlearn: 0.2664856\ttotal: 5.32s\tremaining: 494ms\n",
      "915:\tlearn: 0.2664323\ttotal: 5.33s\tremaining: 489ms\n",
      "916:\tlearn: 0.2663742\ttotal: 5.33s\tremaining: 483ms\n",
      "917:\tlearn: 0.2662483\ttotal: 5.34s\tremaining: 477ms\n",
      "918:\tlearn: 0.2661585\ttotal: 5.35s\tremaining: 471ms\n",
      "919:\tlearn: 0.2660962\ttotal: 5.36s\tremaining: 466ms\n",
      "920:\tlearn: 0.2660136\ttotal: 5.36s\tremaining: 460ms\n",
      "921:\tlearn: 0.2658831\ttotal: 5.37s\tremaining: 454ms\n",
      "922:\tlearn: 0.2657950\ttotal: 5.37s\tremaining: 448ms\n",
      "923:\tlearn: 0.2656294\ttotal: 5.38s\tremaining: 442ms\n",
      "924:\tlearn: 0.2655943\ttotal: 5.38s\tremaining: 437ms\n",
      "925:\tlearn: 0.2653856\ttotal: 5.39s\tremaining: 431ms\n",
      "926:\tlearn: 0.2652613\ttotal: 5.39s\tremaining: 425ms\n",
      "927:\tlearn: 0.2651788\ttotal: 5.4s\tremaining: 419ms\n",
      "928:\tlearn: 0.2649538\ttotal: 5.41s\tremaining: 413ms\n",
      "929:\tlearn: 0.2648287\ttotal: 5.41s\tremaining: 407ms\n",
      "930:\tlearn: 0.2648040\ttotal: 5.42s\tremaining: 402ms\n",
      "931:\tlearn: 0.2646847\ttotal: 5.42s\tremaining: 396ms\n",
      "932:\tlearn: 0.2645744\ttotal: 5.43s\tremaining: 390ms\n",
      "933:\tlearn: 0.2645004\ttotal: 5.43s\tremaining: 384ms\n",
      "934:\tlearn: 0.2642076\ttotal: 5.44s\tremaining: 378ms\n",
      "935:\tlearn: 0.2639216\ttotal: 5.44s\tremaining: 372ms\n",
      "936:\tlearn: 0.2638809\ttotal: 5.45s\tremaining: 366ms\n",
      "937:\tlearn: 0.2636902\ttotal: 5.46s\tremaining: 361ms\n",
      "938:\tlearn: 0.2636391\ttotal: 5.46s\tremaining: 355ms\n",
      "939:\tlearn: 0.2636002\ttotal: 5.46s\tremaining: 349ms\n",
      "940:\tlearn: 0.2634870\ttotal: 5.47s\tremaining: 343ms\n",
      "941:\tlearn: 0.2634332\ttotal: 5.47s\tremaining: 337ms\n",
      "942:\tlearn: 0.2633646\ttotal: 5.48s\tremaining: 331ms\n",
      "943:\tlearn: 0.2633456\ttotal: 5.49s\tremaining: 325ms\n",
      "944:\tlearn: 0.2631337\ttotal: 5.49s\tremaining: 320ms\n",
      "945:\tlearn: 0.2630454\ttotal: 5.5s\tremaining: 314ms\n",
      "946:\tlearn: 0.2629334\ttotal: 5.5s\tremaining: 308ms\n",
      "947:\tlearn: 0.2628321\ttotal: 5.5s\tremaining: 302ms\n",
      "948:\tlearn: 0.2627221\ttotal: 5.51s\tremaining: 296ms\n",
      "949:\tlearn: 0.2625163\ttotal: 5.52s\tremaining: 290ms\n",
      "950:\tlearn: 0.2623734\ttotal: 5.52s\tremaining: 285ms\n",
      "951:\tlearn: 0.2622719\ttotal: 5.53s\tremaining: 279ms\n",
      "952:\tlearn: 0.2621432\ttotal: 5.53s\tremaining: 273ms\n",
      "953:\tlearn: 0.2621018\ttotal: 5.54s\tremaining: 267ms\n",
      "954:\tlearn: 0.2620402\ttotal: 5.54s\tremaining: 261ms\n",
      "955:\tlearn: 0.2619483\ttotal: 5.55s\tremaining: 255ms\n",
      "956:\tlearn: 0.2618684\ttotal: 5.55s\tremaining: 250ms\n",
      "957:\tlearn: 0.2616483\ttotal: 5.56s\tremaining: 244ms\n",
      "958:\tlearn: 0.2615042\ttotal: 5.57s\tremaining: 238ms\n",
      "959:\tlearn: 0.2613582\ttotal: 5.57s\tremaining: 232ms\n",
      "960:\tlearn: 0.2612659\ttotal: 5.58s\tremaining: 226ms\n",
      "961:\tlearn: 0.2610085\ttotal: 5.58s\tremaining: 221ms\n",
      "962:\tlearn: 0.2609097\ttotal: 5.59s\tremaining: 215ms\n",
      "963:\tlearn: 0.2605921\ttotal: 5.59s\tremaining: 209ms\n",
      "964:\tlearn: 0.2605527\ttotal: 5.6s\tremaining: 203ms\n",
      "965:\tlearn: 0.2605471\ttotal: 5.6s\tremaining: 197ms\n",
      "966:\tlearn: 0.2603317\ttotal: 5.61s\tremaining: 191ms\n",
      "967:\tlearn: 0.2601476\ttotal: 5.61s\tremaining: 186ms\n",
      "968:\tlearn: 0.2600777\ttotal: 5.62s\tremaining: 180ms\n",
      "969:\tlearn: 0.2599195\ttotal: 5.62s\tremaining: 174ms\n",
      "970:\tlearn: 0.2597587\ttotal: 5.63s\tremaining: 168ms\n",
      "971:\tlearn: 0.2596412\ttotal: 5.63s\tremaining: 162ms\n",
      "972:\tlearn: 0.2595723\ttotal: 5.64s\tremaining: 156ms\n",
      "973:\tlearn: 0.2595212\ttotal: 5.64s\tremaining: 151ms\n",
      "974:\tlearn: 0.2594330\ttotal: 5.65s\tremaining: 145ms\n",
      "975:\tlearn: 0.2593059\ttotal: 5.65s\tremaining: 139ms\n",
      "976:\tlearn: 0.2592549\ttotal: 5.66s\tremaining: 133ms\n",
      "977:\tlearn: 0.2592036\ttotal: 5.66s\tremaining: 127ms\n",
      "978:\tlearn: 0.2591433\ttotal: 5.67s\tremaining: 122ms\n",
      "979:\tlearn: 0.2590961\ttotal: 5.67s\tremaining: 116ms\n",
      "980:\tlearn: 0.2589965\ttotal: 5.68s\tremaining: 110ms\n",
      "981:\tlearn: 0.2588936\ttotal: 5.68s\tremaining: 104ms\n",
      "982:\tlearn: 0.2586399\ttotal: 5.69s\tremaining: 98.4ms\n",
      "983:\tlearn: 0.2586340\ttotal: 5.69s\tremaining: 92.6ms\n",
      "984:\tlearn: 0.2582917\ttotal: 5.7s\tremaining: 86.8ms\n",
      "985:\tlearn: 0.2581403\ttotal: 5.7s\tremaining: 81ms\n",
      "986:\tlearn: 0.2580929\ttotal: 5.71s\tremaining: 75.2ms\n",
      "987:\tlearn: 0.2578353\ttotal: 5.71s\tremaining: 69.4ms\n",
      "988:\tlearn: 0.2576367\ttotal: 5.72s\tremaining: 63.6ms\n",
      "989:\tlearn: 0.2574307\ttotal: 5.72s\tremaining: 57.8ms\n",
      "990:\tlearn: 0.2572237\ttotal: 5.73s\tremaining: 52ms\n",
      "991:\tlearn: 0.2571914\ttotal: 5.74s\tremaining: 46.3ms\n",
      "992:\tlearn: 0.2569602\ttotal: 5.74s\tremaining: 40.5ms\n",
      "993:\tlearn: 0.2566077\ttotal: 5.75s\tremaining: 34.7ms\n",
      "994:\tlearn: 0.2564295\ttotal: 5.75s\tremaining: 28.9ms\n",
      "995:\tlearn: 0.2563031\ttotal: 5.76s\tremaining: 23.1ms\n",
      "996:\tlearn: 0.2561490\ttotal: 5.76s\tremaining: 17.3ms\n",
      "997:\tlearn: 0.2559296\ttotal: 5.77s\tremaining: 11.6ms\n",
      "998:\tlearn: 0.2556828\ttotal: 5.77s\tremaining: 5.78ms\n",
      "999:\tlearn: 0.2555411\ttotal: 5.78s\tremaining: 0us\n"
     ]
    }
   ],
   "source": [
    "model_scores = fit_train_model(models,X_train,X_test,y_train,y_test)"
   ]
  },
  {
   "cell_type": "code",
   "execution_count": 1208,
   "metadata": {},
   "outputs": [
    {
     "data": {
      "text/plain": [
       "{'Knn': 0.6067415730337079,\n",
       " 'Linear Regression': 0.5407146235082283,\n",
       " 'Random Forest': 0.8370786516853933,\n",
       " 'Cat Boost': 0.8651685393258427}"
      ]
     },
     "execution_count": 1208,
     "metadata": {},
     "output_type": "execute_result"
    }
   ],
   "source": [
    "model_scores"
   ]
  },
  {
   "cell_type": "markdown",
   "metadata": {},
   "source": [
    "We can clearly see that out of our Choosen models, **CatBoostClassifier()** and  **RandomForestClassifier()** have performed best. So we are going to continue our experimentation with these two models.\n"
   ]
  },
  {
   "cell_type": "code",
   "execution_count": 1209,
   "metadata": {},
   "outputs": [
    {
     "data": {
      "text/plain": [
       "{'bootstrap': True,\n",
       " 'ccp_alpha': 0.0,\n",
       " 'class_weight': None,\n",
       " 'criterion': 'gini',\n",
       " 'max_depth': None,\n",
       " 'max_features': 'auto',\n",
       " 'max_leaf_nodes': None,\n",
       " 'max_samples': None,\n",
       " 'min_impurity_decrease': 0.0,\n",
       " 'min_impurity_split': None,\n",
       " 'min_samples_leaf': 1,\n",
       " 'min_samples_split': 2,\n",
       " 'min_weight_fraction_leaf': 0.0,\n",
       " 'n_estimators': 100,\n",
       " 'n_jobs': None,\n",
       " 'oob_score': False,\n",
       " 'random_state': None,\n",
       " 'verbose': 0,\n",
       " 'warm_start': False}"
      ]
     },
     "execution_count": 1209,
     "metadata": {},
     "output_type": "execute_result"
    }
   ],
   "source": [
    "rf = RandomForestClassifier()\n",
    "rf.get_params()"
   ]
  },
  {
   "cell_type": "markdown",
   "metadata": {},
   "source": [
    "### Hyperparameters Tuning"
   ]
  },
  {
   "cell_type": "code",
   "execution_count": 1210,
   "metadata": {},
   "outputs": [
    {
     "name": "stdout",
     "output_type": "stream",
     "text": [
      "Fitting 5 folds for each of 40 candidates, totalling 200 fits\n"
     ]
    },
    {
     "name": "stderr",
     "output_type": "stream",
     "text": [
      "[Parallel(n_jobs=1)]: Using backend SequentialBackend with 1 concurrent workers.\n",
      "[Parallel(n_jobs=1)]: Done 200 out of 200 | elapsed: 37.2min finished\n"
     ]
    },
    {
     "name": "stdout",
     "output_type": "stream",
     "text": [
      "Wall time: 37min 12s\n"
     ]
    },
    {
     "data": {
      "text/plain": [
       "RandomizedSearchCV(cv=5, estimator=RandomForestClassifier(n_jobs=-1), n_iter=40,\n",
       "                   param_distributions={'bootstrap': [True, False],\n",
       "                                        'max_depth': [None, 10, 20, 30, 40, 50,\n",
       "                                                      60, 70, 80, 90, 100],\n",
       "                                        'max_features': ['auto', 'sqrt'],\n",
       "                                        'min_samples_leaf': array([ 1,  3,  5,  7,  9, 11, 13, 15, 17, 19, 21, 23, 25, 27, 29, 31, 33,\n",
       "       35, 37, 39]),\n",
       "                                        'min_samples_split': array([ 2,  4,  6,  8, 10, 12, 14, 16, 18]),\n",
       "                                        'n_estimat...\n",
       "       1200, 1250, 1300, 1350, 1400, 1450, 1500, 1550, 1600, 1650, 1700,\n",
       "       1750, 1800, 1850, 1900, 1950, 2000, 2050, 2100, 2150, 2200, 2250,\n",
       "       2300, 2350, 2400, 2450, 2500, 2550, 2600, 2650, 2700, 2750, 2800,\n",
       "       2850, 2900, 2950, 3000, 3050, 3100, 3150, 3200, 3250, 3300, 3350,\n",
       "       3400, 3450, 3500, 3550, 3600, 3650, 3700, 3750, 3800, 3850, 3900,\n",
       "       3950, 4000, 4050, 4100, 4150, 4200, 4250, 4300, 4350, 4400, 4450,\n",
       "       4500, 4550, 4600, 4650, 4700, 4750, 4800, 4850, 4900, 4950])},\n",
       "                   verbose=True)"
      ]
     },
     "execution_count": 1210,
     "metadata": {},
     "output_type": "execute_result"
    }
   ],
   "source": [
    "%%time\n",
    "np.random.seed(42)\n",
    "rf_grid = {'n_estimators' :np.arange(100,5000,50),\n",
    "           'min_samples_leaf': np.arange(1,40,2),\n",
    "           'max_depth': [None,10, 20, 30, 40, 50, 60, 70, 80, 90, 100],\n",
    "           'min_samples_split':np.arange(2,20,2),\n",
    "          'max_features': ['auto', 'sqrt'],\n",
    "           'bootstrap': [True,False]}\n",
    "rs_rf = RandomizedSearchCV(RandomForestClassifier(n_jobs=-1),\n",
    "                          param_distributions = rf_grid,\n",
    "                          cv =5,\n",
    "                          n_iter=40,\n",
    "                          verbose=True)\n",
    "rs_rf.fit(X_train,y_train)\n"
   ]
  },
  {
   "cell_type": "code",
   "execution_count": 1211,
   "metadata": {},
   "outputs": [
    {
     "data": {
      "text/plain": [
       "{'n_estimators': 400,\n",
       " 'min_samples_split': 6,\n",
       " 'min_samples_leaf': 5,\n",
       " 'max_features': 'sqrt',\n",
       " 'max_depth': 10,\n",
       " 'bootstrap': True}"
      ]
     },
     "execution_count": 1211,
     "metadata": {},
     "output_type": "execute_result"
    }
   ],
   "source": [
    "rs_rf.best_params_"
   ]
  },
  {
   "cell_type": "code",
   "execution_count": 1212,
   "metadata": {},
   "outputs": [
    {
     "data": {
      "text/plain": [
       "0.8764044943820225"
      ]
     },
     "execution_count": 1212,
     "metadata": {},
     "output_type": "execute_result"
    }
   ],
   "source": [
    "rs_rf.score(X_test,y_test)"
   ]
  },
  {
   "cell_type": "code",
   "execution_count": 1213,
   "metadata": {},
   "outputs": [
    {
     "data": {
      "text/plain": [
       "((178,), (178,))"
      ]
     },
     "execution_count": 1213,
     "metadata": {},
     "output_type": "execute_result"
    }
   ],
   "source": [
    "y_preds =rs_rf.predict(X_test)\n",
    "y_preds.shape,y_test.shape"
   ]
  },
  {
   "cell_type": "code",
   "execution_count": 1214,
   "metadata": {},
   "outputs": [
    {
     "data": {
      "text/plain": [
       "0.8764044943820225"
      ]
     },
     "execution_count": 1214,
     "metadata": {},
     "output_type": "execute_result"
    }
   ],
   "source": [
    "from sklearn.metrics import classification_report, confusion_matrix, accuracy_score\n",
    "accuracy_score(y_test,y_preds)\n"
   ]
  },
  {
   "cell_type": "code",
   "execution_count": 1215,
   "metadata": {},
   "outputs": [
    {
     "data": {
      "text/plain": [
       "array([[98,  8],\n",
       "       [14, 58]], dtype=int64)"
      ]
     },
     "execution_count": 1215,
     "metadata": {},
     "output_type": "execute_result"
    }
   ],
   "source": [
    "confusion_matrix(y_test,y_preds)"
   ]
  },
  {
   "cell_type": "code",
   "execution_count": 1216,
   "metadata": {},
   "outputs": [
    {
     "data": {
      "image/png": "[encoded data removed]",
      "text/plain": [
       "<Figure size 360x360 with 1 Axes>"
      ]
     },
     "metadata": {
      "needs_background": "light"
     },
     "output_type": "display_data"
    }
   ],
   "source": [
    "# Plotting confusion matrix\n",
    "def plot_conf_matrix(y_test,y_preds):\n",
    "    '''\n",
    "    Plot's a nice looking confusion matrix using Seaborn's heatmap()\n",
    "    '''\n",
    "    fig,ax = plt.subplots(figsize=(5,5))\n",
    "    ax = sns.heatmap(confusion_matrix(y_test,y_preds),\n",
    "                    annot = True,\n",
    "                    cbar= False)\n",
    "    plt.xlabel('True Label')\n",
    "    plt.ylabel('Predicted Label')\n",
    "\n",
    "plot_conf_matrix(y_test=y_test,y_preds=y_preds)    "
   ]
  },
  {
   "cell_type": "code",
   "execution_count": 1221,
   "metadata": {},
   "outputs": [
    {
     "name": "stdout",
     "output_type": "stream",
     "text": [
      "              precision    recall  f1-score   support\n",
      "\n",
      "           0       0.88      0.92      0.90       106\n",
      "           1       0.88      0.81      0.84        72\n",
      "\n",
      "    accuracy                           0.88       178\n",
      "   macro avg       0.88      0.87      0.87       178\n",
      "weighted avg       0.88      0.88      0.88       178\n",
      "\n"
     ]
    }
   ],
   "source": [
    "print(classification_report(y_test,y_preds))"
   ]
  },
  {
   "cell_type": "markdown",
   "metadata": {},
   "source": [
    " Saving and Loading our **RandomForestClassifier()** model:"
   ]
  },
  {
   "cell_type": "code",
   "execution_count": 1222,
   "metadata": {},
   "outputs": [],
   "source": [
    "import pickle\n",
    "\n",
    "pickle.dump(rs_rf,open('random_forest_classifier_kaggle_titanic.pk1','wb'))"
   ]
  },
  {
   "cell_type": "code",
   "execution_count": 1223,
   "metadata": {},
   "outputs": [
    {
     "data": {
      "text/plain": [
       "0.8764044943820225"
      ]
     },
     "execution_count": 1223,
     "metadata": {},
     "output_type": "execute_result"
    }
   ],
   "source": [
    "loaded_model = pickle.load(open('random_forest_classifier_kaggle_titanic.pk1','rb'))\n",
    "loaded_model.score(X_test,y_test)"
   ]
  },
  {
   "cell_type": "markdown",
   "metadata": {},
   "source": [
    "> Now we have to put our predictions in a dataframe as asked by kaggle"
   ]
  },
  {
   "cell_type": "code",
   "execution_count": 1225,
   "metadata": {},
   "outputs": [
    {
     "data": {
      "text/plain": [
       "418"
      ]
     },
     "execution_count": 1225,
     "metadata": {},
     "output_type": "execute_result"
    }
   ],
   "source": [
    "predictions = loaded_model.predict(test)\n",
    "len(predictions)"
   ]
  },
  {
   "cell_type": "code",
   "execution_count": 1226,
   "metadata": {},
   "outputs": [
    {
     "data": {
      "text/html": [
       "<div>\n",
       "<style scoped>\n",
       "    .dataframe tbody tr th:only-of-type {\n",
       "        vertical-align: middle;\n",
       "    }\n",
       "\n",
       "    .dataframe tbody tr th {\n",
       "        vertical-align: top;\n",
       "    }\n",
       "\n",
       "    .dataframe thead th {\n",
       "        text-align: right;\n",
       "    }\n",
       "</style>\n",
       "<table border=\"1\" class=\"dataframe\">\n",
       "  <thead>\n",
       "    <tr style=\"text-align: right;\">\n",
       "      <th></th>\n",
       "      <th>PassengerId</th>\n",
       "      <th>Survived</th>\n",
       "    </tr>\n",
       "  </thead>\n",
       "  <tbody>\n",
       "    <tr>\n",
       "      <th>0</th>\n",
       "      <td>892</td>\n",
       "      <td>0</td>\n",
       "    </tr>\n",
       "    <tr>\n",
       "      <th>1</th>\n",
       "      <td>893</td>\n",
       "      <td>1</td>\n",
       "    </tr>\n",
       "    <tr>\n",
       "      <th>2</th>\n",
       "      <td>894</td>\n",
       "      <td>0</td>\n",
       "    </tr>\n",
       "    <tr>\n",
       "      <th>3</th>\n",
       "      <td>895</td>\n",
       "      <td>0</td>\n",
       "    </tr>\n",
       "    <tr>\n",
       "      <th>4</th>\n",
       "      <td>896</td>\n",
       "      <td>1</td>\n",
       "    </tr>\n",
       "  </tbody>\n",
       "</table>\n",
       "</div>"
      ],
      "text/plain": [
       "   PassengerId  Survived\n",
       "0          892         0\n",
       "1          893         1\n",
       "2          894         0\n",
       "3          895         0\n",
       "4          896         1"
      ]
     },
     "execution_count": 1226,
     "metadata": {},
     "output_type": "execute_result"
    }
   ],
   "source": [
    "# Sample submission file\n",
    "gender_submission.head()   "
   ]
  },
  {
   "cell_type": "code",
   "execution_count": 1227,
   "metadata": {},
   "outputs": [],
   "source": [
    "Submission = pd.DataFrame()"
   ]
  },
  {
   "cell_type": "code",
   "execution_count": 1228,
   "metadata": {},
   "outputs": [
    {
     "data": {
      "text/html": [
       "<div>\n",
       "<style scoped>\n",
       "    .dataframe tbody tr th:only-of-type {\n",
       "        vertical-align: middle;\n",
       "    }\n",
       "\n",
       "    .dataframe tbody tr th {\n",
       "        vertical-align: top;\n",
       "    }\n",
       "\n",
       "    .dataframe thead th {\n",
       "        text-align: right;\n",
       "    }\n",
       "</style>\n",
       "<table border=\"1\" class=\"dataframe\">\n",
       "  <thead>\n",
       "    <tr style=\"text-align: right;\">\n",
       "      <th></th>\n",
       "      <th>PassengerId</th>\n",
       "      <th>Survived</th>\n",
       "    </tr>\n",
       "  </thead>\n",
       "  <tbody>\n",
       "    <tr>\n",
       "      <th>0</th>\n",
       "      <td>892</td>\n",
       "      <td>0</td>\n",
       "    </tr>\n",
       "    <tr>\n",
       "      <th>1</th>\n",
       "      <td>893</td>\n",
       "      <td>1</td>\n",
       "    </tr>\n",
       "    <tr>\n",
       "      <th>2</th>\n",
       "      <td>894</td>\n",
       "      <td>0</td>\n",
       "    </tr>\n",
       "    <tr>\n",
       "      <th>3</th>\n",
       "      <td>895</td>\n",
       "      <td>0</td>\n",
       "    </tr>\n",
       "    <tr>\n",
       "      <th>4</th>\n",
       "      <td>896</td>\n",
       "      <td>1</td>\n",
       "    </tr>\n",
       "    <tr>\n",
       "      <th>...</th>\n",
       "      <td>...</td>\n",
       "      <td>...</td>\n",
       "    </tr>\n",
       "    <tr>\n",
       "      <th>413</th>\n",
       "      <td>1305</td>\n",
       "      <td>0</td>\n",
       "    </tr>\n",
       "    <tr>\n",
       "      <th>414</th>\n",
       "      <td>1306</td>\n",
       "      <td>1</td>\n",
       "    </tr>\n",
       "    <tr>\n",
       "      <th>415</th>\n",
       "      <td>1307</td>\n",
       "      <td>0</td>\n",
       "    </tr>\n",
       "    <tr>\n",
       "      <th>416</th>\n",
       "      <td>1308</td>\n",
       "      <td>0</td>\n",
       "    </tr>\n",
       "    <tr>\n",
       "      <th>417</th>\n",
       "      <td>1309</td>\n",
       "      <td>0</td>\n",
       "    </tr>\n",
       "  </tbody>\n",
       "</table>\n",
       "<p>418 rows × 2 columns</p>\n",
       "</div>"
      ],
      "text/plain": [
       "     PassengerId  Survived\n",
       "0            892         0\n",
       "1            893         1\n",
       "2            894         0\n",
       "3            895         0\n",
       "4            896         1\n",
       "..           ...       ...\n",
       "413         1305         0\n",
       "414         1306         1\n",
       "415         1307         0\n",
       "416         1308         0\n",
       "417         1309         0\n",
       "\n",
       "[418 rows x 2 columns]"
      ]
     },
     "execution_count": 1228,
     "metadata": {},
     "output_type": "execute_result"
    }
   ],
   "source": [
    "Submission['PassengerId'] = test['PassengerId']\n",
    "Submission['Survived'] = predictions\n",
    "Submission\n"
   ]
  },
  {
   "cell_type": "code",
   "execution_count": 1233,
   "metadata": {},
   "outputs": [
    {
     "data": {
      "text/plain": [
       "PassengerId    int64\n",
       "Survived       int64\n",
       "dtype: object"
      ]
     },
     "execution_count": 1233,
     "metadata": {},
     "output_type": "execute_result"
    }
   ],
   "source": [
    "Submission.dtypes"
   ]
  },
  {
   "cell_type": "code",
   "execution_count": 1231,
   "metadata": {},
   "outputs": [
    {
     "name": "stdout",
     "output_type": "stream",
     "text": [
      "Go ahead,covert your data into csv and submit your response!\n"
     ]
    }
   ],
   "source": [
    "# Checking length:\n",
    "if len(gender_submission) == len(Submission):\n",
    "    print('Go ahead,covert your data into csv and submit your response!')\n",
    "    \n",
    "else:\n",
    "    print('Check data again :( , lengths not matched as required by kaggle )')"
   ]
  },
  {
   "cell_type": "code",
   "execution_count": 1234,
   "metadata": {},
   "outputs": [],
   "source": [
    "## Convert Sumbission file to csv\n",
    "Submission.to_csv('Random_Forest_titanic_submission',index=False)"
   ]
  },
  {
   "cell_type": "code",
   "execution_count": 1236,
   "metadata": {},
   "outputs": [
    {
     "data": {
      "text/html": [
       "<div>\n",
       "<style scoped>\n",
       "    .dataframe tbody tr th:only-of-type {\n",
       "        vertical-align: middle;\n",
       "    }\n",
       "\n",
       "    .dataframe tbody tr th {\n",
       "        vertical-align: top;\n",
       "    }\n",
       "\n",
       "    .dataframe thead th {\n",
       "        text-align: right;\n",
       "    }\n",
       "</style>\n",
       "<table border=\"1\" class=\"dataframe\">\n",
       "  <thead>\n",
       "    <tr style=\"text-align: right;\">\n",
       "      <th></th>\n",
       "      <th>PassengerId</th>\n",
       "      <th>Survived</th>\n",
       "    </tr>\n",
       "  </thead>\n",
       "  <tbody>\n",
       "    <tr>\n",
       "      <th>0</th>\n",
       "      <td>892</td>\n",
       "      <td>0</td>\n",
       "    </tr>\n",
       "    <tr>\n",
       "      <th>1</th>\n",
       "      <td>893</td>\n",
       "      <td>1</td>\n",
       "    </tr>\n",
       "    <tr>\n",
       "      <th>2</th>\n",
       "      <td>894</td>\n",
       "      <td>0</td>\n",
       "    </tr>\n",
       "    <tr>\n",
       "      <th>3</th>\n",
       "      <td>895</td>\n",
       "      <td>0</td>\n",
       "    </tr>\n",
       "    <tr>\n",
       "      <th>4</th>\n",
       "      <td>896</td>\n",
       "      <td>1</td>\n",
       "    </tr>\n",
       "    <tr>\n",
       "      <th>...</th>\n",
       "      <td>...</td>\n",
       "      <td>...</td>\n",
       "    </tr>\n",
       "    <tr>\n",
       "      <th>413</th>\n",
       "      <td>1305</td>\n",
       "      <td>0</td>\n",
       "    </tr>\n",
       "    <tr>\n",
       "      <th>414</th>\n",
       "      <td>1306</td>\n",
       "      <td>1</td>\n",
       "    </tr>\n",
       "    <tr>\n",
       "      <th>415</th>\n",
       "      <td>1307</td>\n",
       "      <td>0</td>\n",
       "    </tr>\n",
       "    <tr>\n",
       "      <th>416</th>\n",
       "      <td>1308</td>\n",
       "      <td>0</td>\n",
       "    </tr>\n",
       "    <tr>\n",
       "      <th>417</th>\n",
       "      <td>1309</td>\n",
       "      <td>0</td>\n",
       "    </tr>\n",
       "  </tbody>\n",
       "</table>\n",
       "<p>418 rows × 2 columns</p>\n",
       "</div>"
      ],
      "text/plain": [
       "     PassengerId  Survived\n",
       "0            892         0\n",
       "1            893         1\n",
       "2            894         0\n",
       "3            895         0\n",
       "4            896         1\n",
       "..           ...       ...\n",
       "413         1305         0\n",
       "414         1306         1\n",
       "415         1307         0\n",
       "416         1308         0\n",
       "417         1309         0\n",
       "\n",
       "[418 rows x 2 columns]"
      ]
     },
     "execution_count": 1236,
     "metadata": {},
     "output_type": "execute_result"
    }
   ],
   "source": [
    "# Checking the submission file:\n",
    "loaded_submission_file = pd.read_csv('Random_Forest_titanic_submission')\n",
    "loaded_submission_file"
   ]
  },
  {
   "cell_type": "markdown",
   "metadata": {},
   "source": [
    "## Submitting our Submission file"
   ]
  },
  {
   "cell_type": "code",
   "execution_count": null,
   "metadata": {},
   "outputs": [],
   "source": []
  },
  {
   "cell_type": "code",
   "execution_count": null,
   "metadata": {},
   "outputs": [],
   "source": []
  },
  {
   "cell_type": "code",
   "execution_count": null,
   "metadata": {},
   "outputs": [],
   "source": []
  },
  {
   "cell_type": "code",
   "execution_count": null,
   "metadata": {},
   "outputs": [],
   "source": []
  },
  {
   "cell_type": "code",
   "execution_count": null,
   "metadata": {},
   "outputs": [],
   "source": []
  },
  {
   "cell_type": "code",
   "execution_count": null,
   "metadata": {},
   "outputs": [],
   "source": []
  },
  {
   "cell_type": "code",
   "execution_count": null,
   "metadata": {},
   "outputs": [],
   "source": []
  },
  {
   "cell_type": "code",
   "execution_count": null,
   "metadata": {},
   "outputs": [],
   "source": []
  },
  {
   "cell_type": "code",
   "execution_count": null,
   "metadata": {},
   "outputs": [],
   "source": []
  },
  {
   "cell_type": "code",
   "execution_count": null,
   "metadata": {},
   "outputs": [],
   "source": []
  }
 ],
 "metadata": {
  "kernelspec": {
   "display_name": "Python 3",
   "language": "python",
   "name": "python3"
  },
  "language_info": {
   "codemirror_mode": {
    "name": "ipython",
    "version": 3
   },
   "file_extension": ".py",
   "mimetype": "text/x-python",
   "name": "python",
   "nbconvert_exporter": "python",
   "pygments_lexer": "ipython3",
   "version": "3.8.3"
  }
 },
 "nbformat": 4,
 "nbformat_minor": 4
}
